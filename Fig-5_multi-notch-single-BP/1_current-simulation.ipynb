{
 "cells": [
  {
   "cell_type": "markdown",
   "id": "0c884f96-8408-4c86-9020-8cc48b9a6749",
   "metadata": {
    "tags": []
   },
   "source": [
    "## Generate mesh with `gmsh`"
   ]
  },
  {
   "cell_type": "code",
   "execution_count": 1,
   "id": "6c8d08b6-3941-4fe5-9e2c-b9486bacf8f4",
   "metadata": {
    "tags": []
   },
   "outputs": [],
   "source": [
    "import gmsh\n",
    "import numpy as np\n",
    "\n",
    "dim = 3\n",
    "lc = 2\n",
    "\n",
    "gmsh.initialize()"
   ]
  },
  {
   "cell_type": "code",
   "execution_count": 2,
   "id": "1e45afe9-41dc-4b7b-92c1-f71649aa8ac5",
   "metadata": {
    "tags": []
   },
   "outputs": [],
   "source": [
    "lx = 1000\n",
    "ly = 100\n",
    "lz = 30"
   ]
  },
  {
   "cell_type": "code",
   "execution_count": 3,
   "id": "a450f364-a863-4eb0-a288-0365821d01e8",
   "metadata": {
    "tags": []
   },
   "outputs": [],
   "source": [
    "from math import atan2, pi, tan"
   ]
  },
  {
   "cell_type": "code",
   "execution_count": 4,
   "id": "dc6675d6-0337-42c4-bb3b-964eb4870e21",
   "metadata": {
    "tags": []
   },
   "outputs": [],
   "source": [
    "gmsh.option.setNumber(\"Mesh.CharacteristicLengthMax\", lc)\n",
    "gmsh.option.setNumber(\"Mesh.CharacteristicLengthMin\", lc)\n",
    "\n",
    "track = gmsh.model.occ.addBox(0., 0., 0., lx, ly, lz)\n",
    "\n",
    "def wedge(base_mid_x, height, angle):\n",
    "    base_half_length = height * np.tan(angle/2.0)\n",
    "    base_lb = gmsh.model.occ.addPoint(base_mid_x - base_half_length, ly, 0)\n",
    "    base_rb = gmsh.model.occ.addPoint(base_mid_x + base_half_length, ly, 0)\n",
    "    hb = gmsh.model.occ.addPoint(base_mid_x, ly - height, 0)\n",
    "    base_lt = gmsh.model.occ.addPoint(base_mid_x - base_half_length, ly, lz)\n",
    "    base_rt = gmsh.model.occ.addPoint(base_mid_x + base_half_length, ly, lz)\n",
    "    ht = gmsh.model.occ.addPoint(base_mid_x, ly - height, lz)\n",
    "    \n",
    "    line_l_b_surf = gmsh.model.occ.addLine(hb, base_lb)\n",
    "    line_b_b_surf = gmsh.model.occ.addLine(base_lb, base_rb)\n",
    "    line_r_b_surf = gmsh.model.occ.addLine(base_rb, hb)\n",
    "    line_l_t_surf = gmsh.model.occ.addLine(ht, base_lt)\n",
    "    line_b_t_surf = gmsh.model.occ.addLine(base_lt, base_rt)\n",
    "    line_r_t_surf = gmsh.model.occ.addLine(base_rt, ht)\n",
    "    line_h_vert = gmsh.model.occ.addLine(hb, ht)\n",
    "    line_l_vert = gmsh.model.occ.addLine(base_lb, base_lt)\n",
    "    line_r_vert = gmsh.model.occ.addLine(base_rb, base_rt)\n",
    "    \n",
    "    b_loop = gmsh.model.occ.addCurveLoop([line_l_b_surf, line_b_b_surf, line_r_b_surf])\n",
    "    t_loop = gmsh.model.occ.addCurveLoop([line_l_t_surf, line_b_t_surf, line_r_t_surf])\n",
    "    lat_l_loop = gmsh.model.occ.addCurveLoop([line_l_t_surf, line_h_vert, line_l_b_surf, line_l_vert])\n",
    "    lat_r_loop = gmsh.model.occ.addCurveLoop([line_r_t_surf, line_h_vert, line_r_b_surf, line_r_vert])\n",
    "    lat_base_loop = gmsh.model.occ.addCurveLoop([line_b_b_surf, line_r_vert, line_b_t_surf, line_l_vert])\n",
    "    \n",
    "    b_surf = gmsh.model.occ.addSurfaceFilling(b_loop)\n",
    "    t_surf = gmsh.model.occ.addSurfaceFilling(t_loop)\n",
    "    lat_l_surf = gmsh.model.occ.addSurfaceFilling(lat_l_loop)\n",
    "    lat_r_surf = gmsh.model.occ.addSurfaceFilling(lat_r_loop)\n",
    "    lat_base_surf = gmsh.model.occ.addSurfaceFilling(lat_base_loop)\n",
    "    \n",
    "    surf_loop = gmsh.model.occ.addSurfaceLoop([b_surf, t_surf, lat_l_surf, lat_r_surf, lat_base_surf])\n",
    "    return gmsh.model.occ.addVolume([surf_loop])"
   ]
  },
  {
   "cell_type": "code",
   "execution_count": 5,
   "id": "dbae7f7e-86ce-46a4-bb7b-c11209f19d59",
   "metadata": {
    "tags": []
   },
   "outputs": [],
   "source": [
    "for x in [200, 400, 600, 800]:\n",
    "    wedge_cut = wedge(x, 30, pi/2)\n",
    "    gmsh.model.occ.cut([(dim, track)], [(dim, wedge_cut)])"
   ]
  },
  {
   "cell_type": "code",
   "execution_count": 6,
   "id": "680a36ce-4670-4194-af4e-a1beb1107d20",
   "metadata": {
    "scrolled": true,
    "tags": []
   },
   "outputs": [
    {
     "name": "stdout",
     "output_type": "stream",
     "text": [
      "Info    : Meshing 1D...\n",
      "Info    : [  0%] Meshing curve 1 (Line)\n",
      "Info    : [ 10%] Meshing curve 2 (Line)\n",
      "Info    : [ 10%] Meshing curve 3 (Line)\n",
      "Info    : [ 10%] Meshing curve 4 (Line)\n",
      "Info    : [ 10%] Meshing curve 5 (Line)\n",
      "Info    : [ 20%] Meshing curve 6 (Line)\n",
      "Info    : [ 20%] Meshing curve 7 (Line)\n",
      "Info    : [ 20%] Meshing curve 8 (Line)\n",
      "Info    : [ 20%] Meshing curve 9 (Line)\n",
      "Info    : [ 20%] Meshing curve 10 (Line)\n",
      "Info    : [ 30%] Meshing curve 11 (Line)\n",
      "Info    : [ 30%] Meshing curve 12 (Line)\n",
      "Info    : [ 30%] Meshing curve 13 (Line)\n",
      "Info    : [ 30%] Meshing curve 14 (Line)\n",
      "Info    : [ 30%] Meshing curve 15 (Line)\n",
      "Info    : [ 40%] Meshing curve 16 (Line)\n",
      "Info    : [ 40%] Meshing curve 17 (Line)\n",
      "Info    : [ 40%] Meshing curve 18 (Line)\n",
      "Info    : [ 40%] Meshing curve 19 (Line)\n",
      "Info    : [ 40%] Meshing curve 20 (Line)\n",
      "Info    : [ 50%] Meshing curve 21 (Line)\n",
      "Info    : [ 50%] Meshing curve 22 (Line)\n",
      "Info    : [ 50%] Meshing curve 23 (Line)\n",
      "Info    : [ 50%] Meshing curve 24 (Line)\n",
      "Info    : [ 50%] Meshing curve 25 (Line)\n",
      "Info    : [ 60%] Meshing curve 26 (Line)\n",
      "Info    : [ 60%] Meshing curve 27 (Line)\n",
      "Info    : [ 60%] Meshing curve 28 (Line)\n",
      "Info    : [ 60%] Meshing curve 29 (Line)\n",
      "Info    : [ 70%] Meshing curve 30 (Line)\n",
      "Info    : [ 70%] Meshing curve 31 (Line)\n",
      "Info    : [ 70%] Meshing curve 32 (Line)\n",
      "Info    : [ 70%] Meshing curve 33 (Line)\n",
      "Info    : [ 70%] Meshing curve 34 (Line)\n",
      "Info    : [ 80%] Meshing curve 35 (Line)\n",
      "Info    : [ 80%] Meshing curve 36 (Line)\n",
      "Info    : [ 80%] Meshing curve 37 (Line)\n",
      "Info    : [ 80%] Meshing curve 38 (Line)\n",
      "Info    : [ 80%] Meshing curve 39 (Line)\n",
      "Info    : [ 90%] Meshing curve 40 (Line)\n",
      "Info    : [ 90%] Meshing curve 41 (Line)\n",
      "Info    : [ 90%] Meshing curve 42 (Line)\n",
      "Info    : [ 90%] Meshing curve 43 (Line)\n",
      "Info    : [ 90%] Meshing curve 44 (Line)\n",
      "Info    : [100%] Meshing curve 45 (Line)\n",
      "Info    : [100%] Meshing curve 46 (Line)\n",
      "Info    : [100%] Meshing curve 47 (Line)\n",
      "Info    : [100%] Meshing curve 48 (Line)\n",
      "Info    : Done meshing 1D (Wall 0.00551788s, CPU 0.005886s)\n",
      "Info    : Meshing 2D...\n",
      "Info    : [  0%] Meshing surface 1 (Plane, Frontal-Delaunay)\n",
      "Info    : [ 10%] Meshing surface 2 (Plane, Frontal-Delaunay)\n",
      "Info    : [ 20%] Meshing surface 3 (Plane, Frontal-Delaunay)\n",
      "Info    : [ 20%] Meshing surface 4 (Plane, Frontal-Delaunay)\n",
      "Info    : [ 30%] Meshing surface 5 (Plane, Frontal-Delaunay)\n",
      "Info    : [ 30%] Meshing surface 6 (Plane, Frontal-Delaunay)\n",
      "Info    : [ 40%] Meshing surface 7 (BSpline surface, Frontal-Delaunay)\n",
      "Info    : [ 40%] Meshing surface 8 (BSpline surface, Frontal-Delaunay)\n",
      "Info    : [ 50%] Meshing surface 9 (Plane, Frontal-Delaunay)\n",
      "Info    : [ 50%] Meshing surface 10 (BSpline surface, Frontal-Delaunay)\n",
      "Info    : [ 60%] Meshing surface 11 (BSpline surface, Frontal-Delaunay)\n",
      "Info    : [ 70%] Meshing surface 12 (Plane, Frontal-Delaunay)\n",
      "Info    : [ 70%] Meshing surface 13 (BSpline surface, Frontal-Delaunay)\n",
      "Info    : [ 80%] Meshing surface 14 (BSpline surface, Frontal-Delaunay)\n",
      "Info    : [ 80%] Meshing surface 15 (Plane, Frontal-Delaunay)\n",
      "Info    : [ 90%] Meshing surface 16 (BSpline surface, Frontal-Delaunay)\n",
      "Info    : [ 90%] Meshing surface 17 (BSpline surface, Frontal-Delaunay)\n",
      "Info    : [100%] Meshing surface 18 (Plane, Frontal-Delaunay)\n",
      "Info    : Done meshing 2D (Wall 2.85668s, CPU 2.84715s)\n",
      "Info    : Meshing 3D...\n",
      "Info    : 3D Meshing 1 volume with 1 connected component\n",
      "Info    : Tetrahedrizing 77701 nodes...\n",
      "Info    : Done tetrahedrizing 77709 nodes (Wall 1.87711s, CPU 1.83514s)\n",
      "Info    : Reconstructing mesh...\n",
      "Info    :  - Creating surface mesh\n",
      "Info    :  - Identifying boundary edges\n",
      "Info    :  - Recovering boundary\n",
      "Info    :  - Added 4 Steiner points\n",
      "Info    : Done reconstructing mesh (Wall 13.021s, CPU 12.7113s)\n",
      "Info    : Found volume 1\n",
      "Info    : It. 0 - 0 nodes created - worst tet radius 46.3012 (nodes removed 0 0)\n",
      "Info    : It. 500 - 476 nodes created - worst tet radius 5.60122 (nodes removed 0 24)\n",
      "Info    : It. 1000 - 976 nodes created - worst tet radius 4.99121 (nodes removed 0 24)\n",
      "Info    : It. 1500 - 1476 nodes created - worst tet radius 4.57252 (nodes removed 0 24)\n",
      "Info    : It. 2000 - 1976 nodes created - worst tet radius 4.09963 (nodes removed 0 24)\n",
      "Info    : It. 2500 - 2476 nodes created - worst tet radius 3.8741 (nodes removed 0 24)\n",
      "Info    : It. 3000 - 2976 nodes created - worst tet radius 3.65833 (nodes removed 0 24)\n",
      "Info    : It. 3500 - 3476 nodes created - worst tet radius 3.51199 (nodes removed 0 24)\n",
      "Info    : It. 4000 - 3976 nodes created - worst tet radius 3.41291 (nodes removed 0 24)\n",
      "Info    : It. 4500 - 4476 nodes created - worst tet radius 3.3043 (nodes removed 0 24)\n",
      "Info    : It. 5000 - 4976 nodes created - worst tet radius 3.19835 (nodes removed 0 24)\n",
      "Info    : It. 5500 - 5476 nodes created - worst tet radius 3.10093 (nodes removed 0 24)\n",
      "Info    : It. 6000 - 5976 nodes created - worst tet radius 3.01664 (nodes removed 0 24)\n",
      "Info    : It. 6500 - 6476 nodes created - worst tet radius 2.94751 (nodes removed 0 24)\n",
      "Info    : It. 7000 - 6976 nodes created - worst tet radius 2.88327 (nodes removed 0 24)\n",
      "Info    : It. 7500 - 7476 nodes created - worst tet radius 2.82933 (nodes removed 0 24)\n",
      "Info    : It. 8000 - 7976 nodes created - worst tet radius 2.78004 (nodes removed 0 24)\n",
      "Info    : It. 8500 - 8476 nodes created - worst tet radius 2.73531 (nodes removed 0 24)\n",
      "Info    : It. 9000 - 8976 nodes created - worst tet radius 2.69669 (nodes removed 0 24)\n",
      "Info    : It. 9500 - 9476 nodes created - worst tet radius 2.65977 (nodes removed 0 24)\n",
      "Info    : It. 10000 - 9976 nodes created - worst tet radius 2.62568 (nodes removed 0 24)\n",
      "Info    : It. 10500 - 10476 nodes created - worst tet radius 2.59239 (nodes removed 0 24)\n",
      "Info    : It. 11000 - 10976 nodes created - worst tet radius 2.55514 (nodes removed 0 24)\n",
      "Info    : It. 11500 - 11476 nodes created - worst tet radius 2.52112 (nodes removed 0 24)\n",
      "Info    : It. 12000 - 11976 nodes created - worst tet radius 2.48783 (nodes removed 0 24)\n",
      "Info    : It. 12500 - 12476 nodes created - worst tet radius 2.45475 (nodes removed 0 24)\n",
      "Info    : It. 13000 - 12976 nodes created - worst tet radius 2.42375 (nodes removed 0 24)\n",
      "Info    : It. 13500 - 13476 nodes created - worst tet radius 2.39487 (nodes removed 0 24)\n",
      "Info    : It. 14000 - 13976 nodes created - worst tet radius 2.36775 (nodes removed 0 24)\n",
      "Info    : It. 14500 - 14476 nodes created - worst tet radius 2.34395 (nodes removed 0 24)\n",
      "Info    : It. 15000 - 14976 nodes created - worst tet radius 2.3191 (nodes removed 0 24)\n",
      "Info    : It. 15500 - 15476 nodes created - worst tet radius 2.29478 (nodes removed 0 24)\n",
      "Info    : It. 16000 - 15976 nodes created - worst tet radius 2.27298 (nodes removed 0 24)\n",
      "Info    : It. 16500 - 16476 nodes created - worst tet radius 2.24934 (nodes removed 0 24)\n",
      "Info    : It. 17000 - 16976 nodes created - worst tet radius 2.22879 (nodes removed 0 24)\n",
      "Info    : It. 17500 - 17476 nodes created - worst tet radius 2.2083 (nodes removed 0 24)\n",
      "Info    : It. 18000 - 17976 nodes created - worst tet radius 2.18839 (nodes removed 0 24)\n",
      "Info    : It. 18500 - 18476 nodes created - worst tet radius 2.16937 (nodes removed 0 24)\n",
      "Info    : It. 19000 - 18976 nodes created - worst tet radius 2.15057 (nodes removed 0 24)\n",
      "Info    : It. 19500 - 19476 nodes created - worst tet radius 2.13179 (nodes removed 0 24)\n",
      "Info    : It. 20000 - 19976 nodes created - worst tet radius 2.11655 (nodes removed 0 24)\n",
      "Info    : It. 20500 - 20476 nodes created - worst tet radius 2.10202 (nodes removed 0 24)\n",
      "Info    : It. 21000 - 20976 nodes created - worst tet radius 2.08683 (nodes removed 0 24)\n",
      "Info    : It. 21500 - 21476 nodes created - worst tet radius 2.07215 (nodes removed 0 24)\n",
      "Info    : It. 22000 - 21976 nodes created - worst tet radius 2.05756 (nodes removed 0 24)\n",
      "Info    : It. 22500 - 22476 nodes created - worst tet radius 2.04459 (nodes removed 0 24)\n",
      "Info    : It. 23000 - 22976 nodes created - worst tet radius 2.03111 (nodes removed 0 24)\n",
      "Info    : It. 23500 - 23476 nodes created - worst tet radius 2.01842 (nodes removed 0 24)\n",
      "Info    : It. 24000 - 23976 nodes created - worst tet radius 2.00591 (nodes removed 0 24)\n",
      "Info    : It. 24500 - 24476 nodes created - worst tet radius 1.99264 (nodes removed 0 24)\n",
      "Info    : It. 25000 - 24976 nodes created - worst tet radius 1.98087 (nodes removed 0 24)\n",
      "Info    : It. 25500 - 25476 nodes created - worst tet radius 1.96996 (nodes removed 0 24)\n",
      "Info    : It. 26000 - 25976 nodes created - worst tet radius 1.95846 (nodes removed 0 24)\n",
      "Info    : It. 26500 - 26476 nodes created - worst tet radius 1.94812 (nodes removed 0 24)\n",
      "Info    : It. 27000 - 26976 nodes created - worst tet radius 1.93782 (nodes removed 0 24)\n",
      "Info    : It. 27500 - 27476 nodes created - worst tet radius 1.92789 (nodes removed 0 24)\n",
      "Info    : It. 28000 - 27976 nodes created - worst tet radius 1.91813 (nodes removed 0 24)\n",
      "Info    : It. 28500 - 28476 nodes created - worst tet radius 1.90841 (nodes removed 0 24)\n",
      "Info    : It. 29000 - 28976 nodes created - worst tet radius 1.89776 (nodes removed 0 24)\n",
      "Info    : It. 29500 - 29476 nodes created - worst tet radius 1.88844 (nodes removed 0 24)\n",
      "Info    : It. 30000 - 29976 nodes created - worst tet radius 1.87867 (nodes removed 0 24)\n",
      "Info    : It. 30500 - 30476 nodes created - worst tet radius 1.8694 (nodes removed 0 24)\n",
      "Info    : It. 31000 - 30976 nodes created - worst tet radius 1.86097 (nodes removed 0 24)\n",
      "Info    : It. 31500 - 31476 nodes created - worst tet radius 1.85187 (nodes removed 0 24)\n",
      "Info    : It. 32000 - 31976 nodes created - worst tet radius 1.84335 (nodes removed 0 24)\n",
      "Info    : It. 32500 - 32476 nodes created - worst tet radius 1.83532 (nodes removed 0 24)\n",
      "Info    : It. 33000 - 32976 nodes created - worst tet radius 1.8269 (nodes removed 0 24)\n",
      "Info    : It. 33500 - 33476 nodes created - worst tet radius 1.8188 (nodes removed 0 24)\n",
      "Info    : It. 34000 - 33976 nodes created - worst tet radius 1.81084 (nodes removed 0 24)\n",
      "Info    : It. 34500 - 34476 nodes created - worst tet radius 1.80224 (nodes removed 0 24)\n",
      "Info    : It. 35000 - 34976 nodes created - worst tet radius 1.79497 (nodes removed 0 24)\n",
      "Info    : It. 35500 - 35476 nodes created - worst tet radius 1.78736 (nodes removed 0 24)\n",
      "Info    : It. 36000 - 35976 nodes created - worst tet radius 1.78009 (nodes removed 0 24)\n",
      "Info    : It. 36500 - 36476 nodes created - worst tet radius 1.77301 (nodes removed 0 24)\n",
      "Info    : It. 37000 - 36976 nodes created - worst tet radius 1.76566 (nodes removed 0 24)\n",
      "Info    : It. 37500 - 37476 nodes created - worst tet radius 1.75849 (nodes removed 0 24)\n",
      "Info    : It. 38000 - 37976 nodes created - worst tet radius 1.75154 (nodes removed 0 24)\n",
      "Info    : It. 38500 - 38476 nodes created - worst tet radius 1.74406 (nodes removed 0 24)\n",
      "Info    : It. 39000 - 38976 nodes created - worst tet radius 1.73676 (nodes removed 0 24)\n",
      "Info    : It. 39500 - 39476 nodes created - worst tet radius 1.72953 (nodes removed 0 24)\n",
      "Info    : It. 40000 - 39976 nodes created - worst tet radius 1.72281 (nodes removed 0 24)\n",
      "Info    : It. 40500 - 40476 nodes created - worst tet radius 1.717 (nodes removed 0 24)\n",
      "Info    : It. 41000 - 40976 nodes created - worst tet radius 1.71013 (nodes removed 0 24)\n",
      "Info    : It. 41500 - 41476 nodes created - worst tet radius 1.70354 (nodes removed 0 24)\n",
      "Info    : It. 42000 - 41976 nodes created - worst tet radius 1.69711 (nodes removed 0 24)\n",
      "Info    : It. 42500 - 42476 nodes created - worst tet radius 1.69096 (nodes removed 0 24)\n",
      "Info    : It. 43000 - 42976 nodes created - worst tet radius 1.68453 (nodes removed 0 24)\n",
      "Info    : It. 43500 - 43476 nodes created - worst tet radius 1.67828 (nodes removed 0 24)\n",
      "Info    : It. 44000 - 43976 nodes created - worst tet radius 1.67179 (nodes removed 0 24)\n",
      "Info    : It. 44500 - 44476 nodes created - worst tet radius 1.66643 (nodes removed 0 24)\n",
      "Info    : It. 45000 - 44976 nodes created - worst tet radius 1.66082 (nodes removed 0 24)\n",
      "Info    : It. 45500 - 45476 nodes created - worst tet radius 1.65532 (nodes removed 0 24)\n",
      "Info    : It. 46000 - 45976 nodes created - worst tet radius 1.64948 (nodes removed 0 24)\n",
      "Info    : It. 46500 - 46476 nodes created - worst tet radius 1.64355 (nodes removed 0 24)\n",
      "Info    : It. 47000 - 46976 nodes created - worst tet radius 1.63802 (nodes removed 0 24)\n",
      "Info    : It. 47500 - 47476 nodes created - worst tet radius 1.63224 (nodes removed 0 24)\n",
      "Info    : It. 48000 - 47976 nodes created - worst tet radius 1.62687 (nodes removed 0 24)\n",
      "Info    : It. 48500 - 48476 nodes created - worst tet radius 1.62162 (nodes removed 0 24)\n",
      "Info    : It. 49000 - 48976 nodes created - worst tet radius 1.61629 (nodes removed 0 24)\n",
      "Info    : It. 49500 - 49476 nodes created - worst tet radius 1.61116 (nodes removed 0 24)\n",
      "Info    : It. 50000 - 49976 nodes created - worst tet radius 1.606 (nodes removed 0 24)\n",
      "Info    : It. 50500 - 50476 nodes created - worst tet radius 1.60079 (nodes removed 0 24)\n",
      "Info    : It. 51000 - 50976 nodes created - worst tet radius 1.59572 (nodes removed 0 24)\n",
      "Info    : It. 51500 - 51476 nodes created - worst tet radius 1.59068 (nodes removed 0 24)\n",
      "Info    : It. 52000 - 51976 nodes created - worst tet radius 1.58587 (nodes removed 0 24)\n",
      "Info    : It. 52500 - 52476 nodes created - worst tet radius 1.58116 (nodes removed 0 24)\n",
      "Info    : It. 53000 - 52976 nodes created - worst tet radius 1.57684 (nodes removed 0 24)\n",
      "Info    : It. 53500 - 53476 nodes created - worst tet radius 1.57211 (nodes removed 0 24)\n",
      "Info    : It. 54000 - 53976 nodes created - worst tet radius 1.56772 (nodes removed 0 24)\n",
      "Info    : It. 54500 - 54476 nodes created - worst tet radius 1.56325 (nodes removed 0 24)\n",
      "Info    : It. 55000 - 54976 nodes created - worst tet radius 1.5589 (nodes removed 0 24)\n",
      "Info    : It. 55500 - 55476 nodes created - worst tet radius 1.55439 (nodes removed 0 24)\n",
      "Info    : It. 56000 - 55976 nodes created - worst tet radius 1.54988 (nodes removed 0 24)\n",
      "Info    : It. 56500 - 56476 nodes created - worst tet radius 1.54575 (nodes removed 0 24)\n",
      "Info    : It. 57000 - 56976 nodes created - worst tet radius 1.54147 (nodes removed 0 24)\n",
      "Info    : It. 57500 - 57476 nodes created - worst tet radius 1.53707 (nodes removed 0 24)\n",
      "Info    : It. 58000 - 57976 nodes created - worst tet radius 1.53283 (nodes removed 0 24)\n",
      "Info    : It. 58500 - 58476 nodes created - worst tet radius 1.52892 (nodes removed 0 24)\n",
      "Info    : It. 59000 - 58976 nodes created - worst tet radius 1.52501 (nodes removed 0 24)\n",
      "Info    : It. 59500 - 59476 nodes created - worst tet radius 1.52077 (nodes removed 0 24)\n",
      "Info    : It. 60000 - 59976 nodes created - worst tet radius 1.51695 (nodes removed 0 24)\n",
      "Info    : It. 60500 - 60476 nodes created - worst tet radius 1.51339 (nodes removed 0 24)\n",
      "Info    : It. 61000 - 60976 nodes created - worst tet radius 1.50928 (nodes removed 0 24)\n",
      "Info    : It. 61500 - 61476 nodes created - worst tet radius 1.50546 (nodes removed 0 24)\n",
      "Info    : It. 62000 - 61976 nodes created - worst tet radius 1.50171 (nodes removed 0 24)\n",
      "Info    : It. 62500 - 62476 nodes created - worst tet radius 1.49805 (nodes removed 0 24)\n",
      "Info    : It. 63000 - 62976 nodes created - worst tet radius 1.49428 (nodes removed 0 24)\n",
      "Info    : It. 63500 - 63476 nodes created - worst tet radius 1.49079 (nodes removed 0 24)\n",
      "Info    : It. 64000 - 63976 nodes created - worst tet radius 1.48696 (nodes removed 0 24)\n",
      "Info    : It. 64500 - 64476 nodes created - worst tet radius 1.4832 (nodes removed 0 24)\n",
      "Info    : It. 65000 - 64976 nodes created - worst tet radius 1.47942 (nodes removed 0 24)\n",
      "Info    : It. 65500 - 65476 nodes created - worst tet radius 1.47595 (nodes removed 0 24)\n",
      "Info    : It. 66000 - 65976 nodes created - worst tet radius 1.47239 (nodes removed 0 24)\n",
      "Info    : It. 66500 - 66476 nodes created - worst tet radius 1.46901 (nodes removed 0 24)\n",
      "Info    : It. 67000 - 66976 nodes created - worst tet radius 1.46564 (nodes removed 0 24)\n",
      "Info    : It. 67500 - 67476 nodes created - worst tet radius 1.46212 (nodes removed 0 24)\n",
      "Info    : It. 68000 - 67976 nodes created - worst tet radius 1.45847 (nodes removed 0 24)\n",
      "Info    : It. 68500 - 68476 nodes created - worst tet radius 1.45533 (nodes removed 0 24)\n",
      "Info    : It. 69000 - 68976 nodes created - worst tet radius 1.45185 (nodes removed 0 24)\n",
      "Info    : It. 69500 - 69476 nodes created - worst tet radius 1.44847 (nodes removed 0 24)\n",
      "Info    : It. 70000 - 69976 nodes created - worst tet radius 1.44538 (nodes removed 0 24)\n",
      "Info    : It. 70500 - 70476 nodes created - worst tet radius 1.44222 (nodes removed 0 24)\n",
      "Info    : It. 71000 - 70976 nodes created - worst tet radius 1.43917 (nodes removed 0 24)\n",
      "Info    : It. 71500 - 71476 nodes created - worst tet radius 1.43594 (nodes removed 0 24)\n",
      "Info    : It. 72000 - 71976 nodes created - worst tet radius 1.43292 (nodes removed 0 24)\n",
      "Info    : It. 72500 - 72476 nodes created - worst tet radius 1.42976 (nodes removed 0 24)\n",
      "Info    : It. 73000 - 72976 nodes created - worst tet radius 1.42675 (nodes removed 0 24)\n",
      "Info    : It. 73500 - 73476 nodes created - worst tet radius 1.42389 (nodes removed 0 24)\n",
      "Info    : It. 74000 - 73976 nodes created - worst tet radius 1.42083 (nodes removed 0 24)\n",
      "Info    : It. 74500 - 74476 nodes created - worst tet radius 1.41805 (nodes removed 0 24)\n",
      "Info    : It. 75000 - 74976 nodes created - worst tet radius 1.4152 (nodes removed 0 24)\n",
      "Info    : It. 75500 - 75476 nodes created - worst tet radius 1.4124 (nodes removed 0 24)\n",
      "Info    : It. 76000 - 75976 nodes created - worst tet radius 1.4094 (nodes removed 0 24)\n",
      "Info    : It. 76500 - 76476 nodes created - worst tet radius 1.40653 (nodes removed 0 24)\n",
      "Info    : It. 77000 - 76976 nodes created - worst tet radius 1.40379 (nodes removed 0 24)\n",
      "Info    : It. 77500 - 77476 nodes created - worst tet radius 1.40117 (nodes removed 0 24)\n",
      "Info    : It. 78000 - 77976 nodes created - worst tet radius 1.39834 (nodes removed 0 24)\n",
      "Info    : It. 78500 - 78476 nodes created - worst tet radius 1.39566 (nodes removed 0 24)\n",
      "Info    : It. 79000 - 78976 nodes created - worst tet radius 1.3929 (nodes removed 0 24)\n",
      "Info    : It. 79500 - 79476 nodes created - worst tet radius 1.39005 (nodes removed 0 24)\n",
      "Info    : It. 80000 - 79976 nodes created - worst tet radius 1.38715 (nodes removed 0 24)\n",
      "Info    : It. 80500 - 80476 nodes created - worst tet radius 1.38428 (nodes removed 0 24)\n",
      "Info    : It. 81000 - 80976 nodes created - worst tet radius 1.38179 (nodes removed 0 24)\n",
      "Info    : It. 81500 - 81476 nodes created - worst tet radius 1.37914 (nodes removed 0 24)\n",
      "Info    : It. 82000 - 81976 nodes created - worst tet radius 1.3765 (nodes removed 0 24)\n",
      "Info    : It. 82500 - 82476 nodes created - worst tet radius 1.37397 (nodes removed 0 24)\n",
      "Info    : It. 83000 - 82976 nodes created - worst tet radius 1.3714 (nodes removed 0 24)\n",
      "Info    : It. 83500 - 83476 nodes created - worst tet radius 1.36873 (nodes removed 0 24)\n",
      "Info    : It. 84000 - 83976 nodes created - worst tet radius 1.36607 (nodes removed 0 24)\n",
      "Info    : It. 84500 - 84476 nodes created - worst tet radius 1.36376 (nodes removed 0 24)\n",
      "Info    : It. 85000 - 84976 nodes created - worst tet radius 1.36117 (nodes removed 0 24)\n",
      "Info    : It. 85500 - 85476 nodes created - worst tet radius 1.35872 (nodes removed 0 24)\n",
      "Info    : It. 86000 - 85976 nodes created - worst tet radius 1.35637 (nodes removed 0 24)\n",
      "Info    : It. 86500 - 86476 nodes created - worst tet radius 1.3539 (nodes removed 0 24)\n",
      "Info    : It. 87000 - 86976 nodes created - worst tet radius 1.35164 (nodes removed 0 24)\n",
      "Info    : It. 87500 - 87476 nodes created - worst tet radius 1.34926 (nodes removed 0 24)\n",
      "Info    : It. 88000 - 87976 nodes created - worst tet radius 1.34695 (nodes removed 0 24)\n",
      "Info    : It. 88500 - 88476 nodes created - worst tet radius 1.34463 (nodes removed 0 24)\n",
      "Info    : It. 89000 - 88976 nodes created - worst tet radius 1.34222 (nodes removed 0 24)\n",
      "Info    : It. 89500 - 89476 nodes created - worst tet radius 1.33998 (nodes removed 0 24)\n",
      "Info    : It. 90000 - 89976 nodes created - worst tet radius 1.33786 (nodes removed 0 24)\n",
      "Info    : It. 90500 - 90476 nodes created - worst tet radius 1.33537 (nodes removed 0 24)\n",
      "Info    : It. 91000 - 90976 nodes created - worst tet radius 1.3332 (nodes removed 0 24)\n",
      "Info    : It. 91500 - 91476 nodes created - worst tet radius 1.33077 (nodes removed 0 24)\n",
      "Info    : It. 92000 - 91976 nodes created - worst tet radius 1.32859 (nodes removed 0 24)\n",
      "Info    : It. 92500 - 92476 nodes created - worst tet radius 1.32634 (nodes removed 0 24)\n",
      "Info    : It. 93000 - 92976 nodes created - worst tet radius 1.32415 (nodes removed 0 24)\n",
      "Info    : It. 93500 - 93476 nodes created - worst tet radius 1.32188 (nodes removed 0 24)\n",
      "Info    : It. 94000 - 93976 nodes created - worst tet radius 1.31963 (nodes removed 0 24)\n",
      "Info    : It. 94500 - 94476 nodes created - worst tet radius 1.31738 (nodes removed 0 24)\n",
      "Info    : It. 95000 - 94976 nodes created - worst tet radius 1.31521 (nodes removed 0 24)\n",
      "Info    : It. 95500 - 95476 nodes created - worst tet radius 1.31295 (nodes removed 0 24)\n",
      "Info    : It. 96000 - 95976 nodes created - worst tet radius 1.31084 (nodes removed 0 24)\n",
      "Info    : It. 96500 - 96476 nodes created - worst tet radius 1.30872 (nodes removed 0 24)\n",
      "Info    : It. 97000 - 96976 nodes created - worst tet radius 1.30664 (nodes removed 0 24)\n",
      "Info    : It. 97500 - 97476 nodes created - worst tet radius 1.3044 (nodes removed 0 24)\n",
      "Info    : It. 98000 - 97976 nodes created - worst tet radius 1.3024 (nodes removed 0 24)\n",
      "Info    : It. 98500 - 98476 nodes created - worst tet radius 1.30031 (nodes removed 0 24)\n",
      "Info    : It. 99000 - 98976 nodes created - worst tet radius 1.29835 (nodes removed 0 24)\n",
      "Info    : It. 99500 - 99476 nodes created - worst tet radius 1.2962 (nodes removed 0 24)\n",
      "Info    : It. 100000 - 99976 nodes created - worst tet radius 1.2941 (nodes removed 0 24)\n",
      "Info    : It. 100500 - 100476 nodes created - worst tet radius 1.29198 (nodes removed 0 24)\n",
      "Info    : It. 101000 - 100976 nodes created - worst tet radius 1.2901 (nodes removed 0 24)\n",
      "Info    : It. 101500 - 101476 nodes created - worst tet radius 1.28819 (nodes removed 0 24)\n",
      "Info    : It. 102000 - 101976 nodes created - worst tet radius 1.28628 (nodes removed 0 24)\n",
      "Info    : It. 102500 - 102476 nodes created - worst tet radius 1.28422 (nodes removed 0 24)\n",
      "Info    : It. 103000 - 102976 nodes created - worst tet radius 1.28229 (nodes removed 0 24)\n",
      "Info    : It. 103500 - 103476 nodes created - worst tet radius 1.28039 (nodes removed 0 24)\n",
      "Info    : It. 104000 - 103976 nodes created - worst tet radius 1.27841 (nodes removed 0 24)\n",
      "Info    : It. 104500 - 104476 nodes created - worst tet radius 1.27642 (nodes removed 0 24)\n",
      "Info    : It. 105000 - 104976 nodes created - worst tet radius 1.27456 (nodes removed 0 24)\n",
      "Info    : It. 105500 - 105476 nodes created - worst tet radius 1.27285 (nodes removed 0 24)\n",
      "Info    : It. 106000 - 105976 nodes created - worst tet radius 1.27093 (nodes removed 0 24)\n",
      "Info    : It. 106500 - 106476 nodes created - worst tet radius 1.26896 (nodes removed 0 24)\n",
      "Info    : It. 107000 - 106976 nodes created - worst tet radius 1.26711 (nodes removed 0 24)\n",
      "Info    : It. 107500 - 107476 nodes created - worst tet radius 1.26516 (nodes removed 0 24)\n",
      "Info    : It. 108000 - 107976 nodes created - worst tet radius 1.26335 (nodes removed 0 24)\n",
      "Info    : It. 108500 - 108476 nodes created - worst tet radius 1.2614 (nodes removed 0 24)\n",
      "Info    : It. 109000 - 108976 nodes created - worst tet radius 1.25974 (nodes removed 0 24)\n",
      "Info    : It. 109500 - 109476 nodes created - worst tet radius 1.25801 (nodes removed 0 24)\n",
      "Info    : It. 110000 - 109976 nodes created - worst tet radius 1.2561 (nodes removed 0 24)\n",
      "Info    : It. 110500 - 110476 nodes created - worst tet radius 1.25436 (nodes removed 0 24)\n",
      "Info    : It. 111000 - 110976 nodes created - worst tet radius 1.25272 (nodes removed 0 24)\n",
      "Info    : It. 111500 - 111476 nodes created - worst tet radius 1.25103 (nodes removed 0 24)\n",
      "Info    : It. 112000 - 111976 nodes created - worst tet radius 1.24934 (nodes removed 0 24)\n",
      "Info    : It. 112500 - 112476 nodes created - worst tet radius 1.24752 (nodes removed 0 24)\n",
      "Info    : It. 113000 - 112976 nodes created - worst tet radius 1.24572 (nodes removed 0 24)\n",
      "Info    : It. 113500 - 113476 nodes created - worst tet radius 1.24393 (nodes removed 0 24)\n",
      "Info    : It. 114000 - 113976 nodes created - worst tet radius 1.24214 (nodes removed 0 24)\n",
      "Info    : It. 114500 - 114476 nodes created - worst tet radius 1.24051 (nodes removed 0 24)\n",
      "Info    : It. 115000 - 114976 nodes created - worst tet radius 1.23878 (nodes removed 0 24)\n",
      "Info    : It. 115500 - 115476 nodes created - worst tet radius 1.23703 (nodes removed 0 24)\n",
      "Info    : It. 116000 - 115976 nodes created - worst tet radius 1.23533 (nodes removed 0 24)\n",
      "Info    : It. 116500 - 116476 nodes created - worst tet radius 1.2337 (nodes removed 0 24)\n",
      "Info    : It. 117000 - 116976 nodes created - worst tet radius 1.23191 (nodes removed 0 24)\n",
      "Info    : It. 117500 - 117476 nodes created - worst tet radius 1.23028 (nodes removed 0 24)\n",
      "Info    : It. 118000 - 117976 nodes created - worst tet radius 1.22865 (nodes removed 0 24)\n",
      "Info    : It. 118500 - 118476 nodes created - worst tet radius 1.22705 (nodes removed 0 24)\n",
      "Info    : It. 119000 - 118976 nodes created - worst tet radius 1.22546 (nodes removed 0 24)\n",
      "Info    : It. 119500 - 119476 nodes created - worst tet radius 1.22385 (nodes removed 0 24)\n",
      "Info    : It. 120000 - 119976 nodes created - worst tet radius 1.22227 (nodes removed 0 24)\n",
      "Info    : It. 120500 - 120476 nodes created - worst tet radius 1.22062 (nodes removed 0 24)\n",
      "Info    : It. 121000 - 120976 nodes created - worst tet radius 1.21905 (nodes removed 0 24)\n",
      "Info    : It. 121500 - 121476 nodes created - worst tet radius 1.21748 (nodes removed 0 24)\n",
      "Info    : It. 122000 - 121976 nodes created - worst tet radius 1.21588 (nodes removed 0 24)\n",
      "Info    : It. 122500 - 122476 nodes created - worst tet radius 1.21422 (nodes removed 0 24)\n",
      "Info    : It. 123000 - 122976 nodes created - worst tet radius 1.21266 (nodes removed 0 24)\n",
      "Info    : It. 123500 - 123476 nodes created - worst tet radius 1.21112 (nodes removed 0 24)\n",
      "Info    : It. 124000 - 123976 nodes created - worst tet radius 1.20957 (nodes removed 0 24)\n",
      "Info    : It. 124500 - 124476 nodes created - worst tet radius 1.20805 (nodes removed 0 24)\n",
      "Info    : It. 125000 - 124976 nodes created - worst tet radius 1.20668 (nodes removed 0 24)\n",
      "Info    : It. 125500 - 125476 nodes created - worst tet radius 1.20523 (nodes removed 0 24)\n",
      "Info    : It. 126000 - 125976 nodes created - worst tet radius 1.20368 (nodes removed 0 24)\n",
      "Info    : It. 126500 - 126476 nodes created - worst tet radius 1.20224 (nodes removed 0 24)\n",
      "Info    : It. 127000 - 126976 nodes created - worst tet radius 1.20064 (nodes removed 0 24)\n",
      "Info    : It. 127500 - 127476 nodes created - worst tet radius 1.19904 (nodes removed 0 24)\n",
      "Info    : It. 128000 - 127976 nodes created - worst tet radius 1.19767 (nodes removed 0 24)\n",
      "Info    : It. 128500 - 128476 nodes created - worst tet radius 1.19624 (nodes removed 0 24)\n",
      "Info    : It. 129000 - 128976 nodes created - worst tet radius 1.1947 (nodes removed 0 24)\n",
      "Info    : It. 129500 - 129476 nodes created - worst tet radius 1.19332 (nodes removed 0 24)\n",
      "Info    : It. 130000 - 129976 nodes created - worst tet radius 1.19194 (nodes removed 0 24)\n",
      "Info    : It. 130500 - 130476 nodes created - worst tet radius 1.19047 (nodes removed 0 24)\n",
      "Info    : It. 131000 - 130976 nodes created - worst tet radius 1.189 (nodes removed 0 24)\n",
      "Info    : It. 131500 - 131476 nodes created - worst tet radius 1.18759 (nodes removed 0 24)\n",
      "Info    : It. 132000 - 131976 nodes created - worst tet radius 1.18616 (nodes removed 0 24)\n",
      "Info    : It. 132500 - 132476 nodes created - worst tet radius 1.1847 (nodes removed 0 24)\n",
      "Info    : It. 133000 - 132976 nodes created - worst tet radius 1.18339 (nodes removed 0 24)\n",
      "Info    : It. 133500 - 133476 nodes created - worst tet radius 1.18184 (nodes removed 0 24)\n",
      "Info    : It. 134000 - 133976 nodes created - worst tet radius 1.18043 (nodes removed 0 24)\n",
      "Info    : It. 134500 - 134476 nodes created - worst tet radius 1.17903 (nodes removed 0 24)\n",
      "Info    : It. 135000 - 134976 nodes created - worst tet radius 1.17757 (nodes removed 0 24)\n",
      "Info    : It. 135500 - 135476 nodes created - worst tet radius 1.17619 (nodes removed 0 24)\n",
      "Info    : It. 136000 - 135976 nodes created - worst tet radius 1.1747 (nodes removed 0 24)\n",
      "Info    : It. 136500 - 136476 nodes created - worst tet radius 1.1733 (nodes removed 0 24)\n",
      "Info    : It. 137000 - 136976 nodes created - worst tet radius 1.17191 (nodes removed 0 24)\n",
      "Info    : It. 137500 - 137476 nodes created - worst tet radius 1.17055 (nodes removed 0 24)\n",
      "Info    : It. 138000 - 137976 nodes created - worst tet radius 1.16931 (nodes removed 0 24)\n",
      "Info    : It. 138500 - 138476 nodes created - worst tet radius 1.16797 (nodes removed 0 24)\n",
      "Info    : It. 139000 - 138976 nodes created - worst tet radius 1.16648 (nodes removed 0 24)\n",
      "Info    : It. 139500 - 139476 nodes created - worst tet radius 1.16519 (nodes removed 0 24)\n",
      "Info    : It. 140000 - 139976 nodes created - worst tet radius 1.16386 (nodes removed 0 24)\n",
      "Info    : It. 140500 - 140476 nodes created - worst tet radius 1.16252 (nodes removed 0 24)\n",
      "Info    : It. 141000 - 140976 nodes created - worst tet radius 1.1612 (nodes removed 0 24)\n",
      "Info    : It. 141500 - 141476 nodes created - worst tet radius 1.15991 (nodes removed 0 24)\n",
      "Info    : It. 142000 - 141976 nodes created - worst tet radius 1.15851 (nodes removed 0 24)\n",
      "Info    : It. 142500 - 142476 nodes created - worst tet radius 1.15727 (nodes removed 0 24)\n",
      "Info    : It. 143000 - 142976 nodes created - worst tet radius 1.15608 (nodes removed 0 24)\n",
      "Info    : It. 143500 - 143476 nodes created - worst tet radius 1.15483 (nodes removed 0 24)\n",
      "Info    : It. 144000 - 143976 nodes created - worst tet radius 1.15347 (nodes removed 0 24)\n",
      "Info    : It. 144500 - 144476 nodes created - worst tet radius 1.15224 (nodes removed 0 24)\n",
      "Info    : It. 145000 - 144976 nodes created - worst tet radius 1.15101 (nodes removed 0 24)\n",
      "Info    : It. 145500 - 145476 nodes created - worst tet radius 1.14975 (nodes removed 0 24)\n",
      "Info    : It. 146000 - 145976 nodes created - worst tet radius 1.14855 (nodes removed 0 24)\n",
      "Info    : It. 146500 - 146476 nodes created - worst tet radius 1.1473 (nodes removed 0 24)\n",
      "Info    : It. 147000 - 146976 nodes created - worst tet radius 1.14611 (nodes removed 0 24)\n",
      "Info    : It. 147500 - 147476 nodes created - worst tet radius 1.14489 (nodes removed 0 24)\n",
      "Info    : It. 148000 - 147976 nodes created - worst tet radius 1.14359 (nodes removed 0 24)\n",
      "Info    : It. 148500 - 148476 nodes created - worst tet radius 1.14238 (nodes removed 0 24)\n",
      "Info    : It. 149000 - 148976 nodes created - worst tet radius 1.14118 (nodes removed 0 24)\n",
      "Info    : It. 149500 - 149476 nodes created - worst tet radius 1.14005 (nodes removed 0 24)\n",
      "Info    : It. 150000 - 149976 nodes created - worst tet radius 1.13889 (nodes removed 0 24)\n",
      "Info    : It. 150500 - 150476 nodes created - worst tet radius 1.13771 (nodes removed 0 24)\n",
      "Info    : It. 151000 - 150976 nodes created - worst tet radius 1.13652 (nodes removed 0 24)\n",
      "Info    : It. 151500 - 151476 nodes created - worst tet radius 1.13531 (nodes removed 0 24)\n",
      "Info    : It. 152000 - 151976 nodes created - worst tet radius 1.13414 (nodes removed 0 24)\n",
      "Info    : It. 152500 - 152476 nodes created - worst tet radius 1.13291 (nodes removed 0 24)\n",
      "Info    : It. 153000 - 152976 nodes created - worst tet radius 1.1318 (nodes removed 0 24)\n",
      "Info    : It. 153500 - 153476 nodes created - worst tet radius 1.13056 (nodes removed 0 24)\n",
      "Info    : It. 154000 - 153976 nodes created - worst tet radius 1.12947 (nodes removed 0 24)\n",
      "Info    : It. 154500 - 154476 nodes created - worst tet radius 1.12835 (nodes removed 0 24)\n",
      "Info    : It. 155000 - 154976 nodes created - worst tet radius 1.12723 (nodes removed 0 24)\n",
      "Info    : It. 155500 - 155476 nodes created - worst tet radius 1.12609 (nodes removed 0 24)\n",
      "Info    : It. 156000 - 155976 nodes created - worst tet radius 1.12494 (nodes removed 0 24)\n",
      "Info    : It. 156500 - 156476 nodes created - worst tet radius 1.12381 (nodes removed 0 24)\n",
      "Info    : It. 157000 - 156976 nodes created - worst tet radius 1.12278 (nodes removed 0 24)\n",
      "Info    : It. 157500 - 157476 nodes created - worst tet radius 1.12166 (nodes removed 0 24)\n",
      "Info    : It. 158000 - 157976 nodes created - worst tet radius 1.12049 (nodes removed 0 24)\n",
      "Info    : It. 158500 - 158476 nodes created - worst tet radius 1.11937 (nodes removed 0 24)\n",
      "Info    : It. 159000 - 158976 nodes created - worst tet radius 1.11817 (nodes removed 0 24)\n",
      "Info    : It. 159500 - 159476 nodes created - worst tet radius 1.11713 (nodes removed 0 24)\n",
      "Info    : It. 160000 - 159976 nodes created - worst tet radius 1.11607 (nodes removed 0 24)\n",
      "Info    : It. 160500 - 160476 nodes created - worst tet radius 1.115 (nodes removed 0 24)\n",
      "Info    : It. 161000 - 160976 nodes created - worst tet radius 1.11394 (nodes removed 0 24)\n",
      "Info    : It. 161500 - 161476 nodes created - worst tet radius 1.11287 (nodes removed 0 24)\n",
      "Info    : It. 162000 - 161976 nodes created - worst tet radius 1.11185 (nodes removed 0 24)\n",
      "Info    : It. 162500 - 162476 nodes created - worst tet radius 1.11069 (nodes removed 0 24)\n",
      "Info    : It. 163000 - 162976 nodes created - worst tet radius 1.10962 (nodes removed 0 24)\n",
      "Info    : It. 163500 - 163476 nodes created - worst tet radius 1.10856 (nodes removed 0 24)\n",
      "Info    : It. 164000 - 163976 nodes created - worst tet radius 1.10756 (nodes removed 0 24)\n",
      "Info    : It. 164500 - 164476 nodes created - worst tet radius 1.10646 (nodes removed 0 24)\n",
      "Info    : It. 165000 - 164976 nodes created - worst tet radius 1.10536 (nodes removed 0 24)\n",
      "Info    : It. 165500 - 165476 nodes created - worst tet radius 1.10436 (nodes removed 0 24)\n",
      "Info    : It. 166000 - 165976 nodes created - worst tet radius 1.10325 (nodes removed 0 24)\n",
      "Info    : It. 166500 - 166476 nodes created - worst tet radius 1.10215 (nodes removed 0 24)\n",
      "Info    : It. 167000 - 166976 nodes created - worst tet radius 1.10119 (nodes removed 0 24)\n",
      "Info    : It. 167500 - 167476 nodes created - worst tet radius 1.10009 (nodes removed 0 24)\n",
      "Info    : It. 168000 - 167976 nodes created - worst tet radius 1.0991 (nodes removed 0 24)\n",
      "Info    : It. 168500 - 168476 nodes created - worst tet radius 1.09806 (nodes removed 0 24)\n",
      "Info    : It. 169000 - 168976 nodes created - worst tet radius 1.09704 (nodes removed 0 24)\n",
      "Info    : It. 169500 - 169476 nodes created - worst tet radius 1.096 (nodes removed 0 24)\n",
      "Info    : It. 170000 - 169976 nodes created - worst tet radius 1.09496 (nodes removed 0 24)\n",
      "Info    : It. 170500 - 170476 nodes created - worst tet radius 1.09398 (nodes removed 0 24)\n",
      "Info    : It. 171000 - 170976 nodes created - worst tet radius 1.09301 (nodes removed 0 24)\n",
      "Info    : It. 171500 - 171476 nodes created - worst tet radius 1.092 (nodes removed 0 24)\n",
      "Info    : It. 172000 - 171976 nodes created - worst tet radius 1.09104 (nodes removed 0 24)\n",
      "Info    : It. 172500 - 172476 nodes created - worst tet radius 1.09001 (nodes removed 0 24)\n",
      "Info    : It. 173000 - 172976 nodes created - worst tet radius 1.08901 (nodes removed 0 24)\n",
      "Info    : It. 173500 - 173476 nodes created - worst tet radius 1.08804 (nodes removed 0 24)\n",
      "Info    : It. 174000 - 173976 nodes created - worst tet radius 1.08709 (nodes removed 0 24)\n",
      "Info    : It. 174500 - 174476 nodes created - worst tet radius 1.08609 (nodes removed 0 24)\n",
      "Info    : It. 175000 - 174976 nodes created - worst tet radius 1.0851 (nodes removed 0 24)\n",
      "Info    : It. 175500 - 175476 nodes created - worst tet radius 1.08412 (nodes removed 0 24)\n",
      "Info    : It. 176000 - 175976 nodes created - worst tet radius 1.0831 (nodes removed 0 24)\n",
      "Info    : It. 176500 - 176476 nodes created - worst tet radius 1.08219 (nodes removed 0 24)\n",
      "Info    : It. 177000 - 176976 nodes created - worst tet radius 1.08123 (nodes removed 0 24)\n",
      "Info    : It. 177500 - 177476 nodes created - worst tet radius 1.08028 (nodes removed 0 24)\n",
      "Info    : It. 178000 - 177976 nodes created - worst tet radius 1.07937 (nodes removed 0 24)\n",
      "Info    : It. 178500 - 178476 nodes created - worst tet radius 1.07847 (nodes removed 0 24)\n",
      "Info    : It. 179000 - 178976 nodes created - worst tet radius 1.07752 (nodes removed 0 24)\n",
      "Info    : It. 179500 - 179476 nodes created - worst tet radius 1.0766 (nodes removed 0 24)\n",
      "Info    : It. 180000 - 179976 nodes created - worst tet radius 1.07565 (nodes removed 0 24)\n",
      "Info    : It. 180500 - 180476 nodes created - worst tet radius 1.07471 (nodes removed 0 24)\n",
      "Info    : It. 181000 - 180976 nodes created - worst tet radius 1.07385 (nodes removed 0 24)\n",
      "Info    : It. 181500 - 181476 nodes created - worst tet radius 1.07298 (nodes removed 0 24)\n",
      "Info    : It. 182000 - 181976 nodes created - worst tet radius 1.07206 (nodes removed 0 24)\n",
      "Info    : It. 182500 - 182476 nodes created - worst tet radius 1.07104 (nodes removed 0 24)\n",
      "Info    : It. 183000 - 182976 nodes created - worst tet radius 1.07015 (nodes removed 0 24)\n",
      "Info    : It. 183500 - 183476 nodes created - worst tet radius 1.06924 (nodes removed 0 24)\n",
      "Info    : It. 184000 - 183976 nodes created - worst tet radius 1.0683 (nodes removed 0 24)\n",
      "Info    : It. 184500 - 184476 nodes created - worst tet radius 1.06754 (nodes removed 0 24)\n",
      "Info    : It. 185000 - 184976 nodes created - worst tet radius 1.06662 (nodes removed 0 24)\n",
      "Info    : It. 185500 - 185476 nodes created - worst tet radius 1.06558 (nodes removed 0 24)\n",
      "Info    : It. 186000 - 185976 nodes created - worst tet radius 1.06471 (nodes removed 0 24)\n",
      "Info    : It. 186500 - 186476 nodes created - worst tet radius 1.06378 (nodes removed 0 24)\n",
      "Info    : It. 187000 - 186976 nodes created - worst tet radius 1.0629 (nodes removed 0 24)\n",
      "Info    : It. 187500 - 187476 nodes created - worst tet radius 1.06205 (nodes removed 0 24)\n",
      "Info    : It. 188000 - 187976 nodes created - worst tet radius 1.0612 (nodes removed 0 24)\n",
      "Info    : It. 188500 - 188476 nodes created - worst tet radius 1.06021 (nodes removed 0 24)\n",
      "Info    : It. 189000 - 188976 nodes created - worst tet radius 1.0593 (nodes removed 0 24)\n",
      "Info    : It. 189500 - 189476 nodes created - worst tet radius 1.05838 (nodes removed 0 24)\n",
      "Info    : It. 190000 - 189976 nodes created - worst tet radius 1.05751 (nodes removed 0 24)\n",
      "Info    : It. 190500 - 190476 nodes created - worst tet radius 1.05665 (nodes removed 0 24)\n",
      "Info    : It. 191000 - 190976 nodes created - worst tet radius 1.05575 (nodes removed 0 24)\n",
      "Info    : It. 191500 - 191476 nodes created - worst tet radius 1.05488 (nodes removed 0 24)\n",
      "Info    : It. 192000 - 191976 nodes created - worst tet radius 1.05404 (nodes removed 0 24)\n",
      "Info    : It. 192500 - 192476 nodes created - worst tet radius 1.05318 (nodes removed 0 24)\n",
      "Info    : It. 193000 - 192976 nodes created - worst tet radius 1.05236 (nodes removed 0 24)\n",
      "Info    : It. 193500 - 193476 nodes created - worst tet radius 1.05145 (nodes removed 0 24)\n",
      "Info    : It. 194000 - 193976 nodes created - worst tet radius 1.05057 (nodes removed 0 24)\n",
      "Info    : It. 194500 - 194476 nodes created - worst tet radius 1.04973 (nodes removed 0 24)\n",
      "Info    : It. 195000 - 194976 nodes created - worst tet radius 1.04883 (nodes removed 0 24)\n",
      "Info    : It. 195500 - 195476 nodes created - worst tet radius 1.04796 (nodes removed 0 24)\n",
      "Info    : It. 196000 - 195976 nodes created - worst tet radius 1.04707 (nodes removed 0 24)\n",
      "Info    : It. 196500 - 196476 nodes created - worst tet radius 1.04624 (nodes removed 0 24)\n",
      "Info    : It. 197000 - 196976 nodes created - worst tet radius 1.04537 (nodes removed 0 24)\n",
      "Info    : It. 197500 - 197476 nodes created - worst tet radius 1.04457 (nodes removed 0 24)\n",
      "Info    : It. 198000 - 197976 nodes created - worst tet radius 1.04377 (nodes removed 0 24)\n",
      "Info    : It. 198500 - 198476 nodes created - worst tet radius 1.04291 (nodes removed 0 24)\n",
      "Info    : It. 199000 - 198976 nodes created - worst tet radius 1.04209 (nodes removed 0 24)\n",
      "Info    : It. 199500 - 199476 nodes created - worst tet radius 1.04126 (nodes removed 0 24)\n",
      "Info    : It. 200000 - 199976 nodes created - worst tet radius 1.04046 (nodes removed 0 24)\n",
      "Info    : It. 200500 - 200476 nodes created - worst tet radius 1.03965 (nodes removed 0 24)\n",
      "Info    : It. 201000 - 200976 nodes created - worst tet radius 1.03887 (nodes removed 0 24)\n",
      "Info    : It. 201500 - 201476 nodes created - worst tet radius 1.03804 (nodes removed 0 24)\n",
      "Info    : It. 202000 - 201976 nodes created - worst tet radius 1.03722 (nodes removed 0 24)\n",
      "Info    : It. 202500 - 202476 nodes created - worst tet radius 1.03641 (nodes removed 0 24)\n",
      "Info    : It. 203000 - 202976 nodes created - worst tet radius 1.0357 (nodes removed 0 24)\n",
      "Info    : It. 203500 - 203476 nodes created - worst tet radius 1.03486 (nodes removed 0 24)\n",
      "Info    : It. 204000 - 203976 nodes created - worst tet radius 1.03409 (nodes removed 0 24)\n",
      "Info    : It. 204500 - 204476 nodes created - worst tet radius 1.0333 (nodes removed 0 24)\n",
      "Info    : It. 205000 - 204976 nodes created - worst tet radius 1.03251 (nodes removed 0 24)\n",
      "Info    : It. 205500 - 205476 nodes created - worst tet radius 1.03176 (nodes removed 0 24)\n",
      "Info    : It. 206000 - 205976 nodes created - worst tet radius 1.03099 (nodes removed 0 24)\n",
      "Info    : It. 206500 - 206476 nodes created - worst tet radius 1.03017 (nodes removed 0 24)\n",
      "Info    : It. 207000 - 206976 nodes created - worst tet radius 1.02937 (nodes removed 0 24)\n",
      "Info    : It. 207500 - 207476 nodes created - worst tet radius 1.02859 (nodes removed 0 24)\n",
      "Info    : It. 208000 - 207976 nodes created - worst tet radius 1.02787 (nodes removed 0 24)\n",
      "Info    : It. 208500 - 208476 nodes created - worst tet radius 1.02706 (nodes removed 0 24)\n",
      "Info    : It. 209000 - 208976 nodes created - worst tet radius 1.02628 (nodes removed 0 24)\n",
      "Info    : It. 209500 - 209476 nodes created - worst tet radius 1.02552 (nodes removed 0 24)\n",
      "Info    : It. 210000 - 209976 nodes created - worst tet radius 1.02476 (nodes removed 0 24)\n",
      "Info    : It. 210500 - 210476 nodes created - worst tet radius 1.02397 (nodes removed 0 24)\n",
      "Info    : It. 211000 - 210976 nodes created - worst tet radius 1.02318 (nodes removed 0 24)\n",
      "Info    : It. 211500 - 211476 nodes created - worst tet radius 1.02242 (nodes removed 0 24)\n",
      "Info    : It. 212000 - 211976 nodes created - worst tet radius 1.02165 (nodes removed 0 24)\n",
      "Info    : It. 212500 - 212476 nodes created - worst tet radius 1.02088 (nodes removed 0 24)\n",
      "Info    : It. 213000 - 212976 nodes created - worst tet radius 1.02014 (nodes removed 0 24)\n",
      "Info    : It. 213500 - 213476 nodes created - worst tet radius 1.01941 (nodes removed 0 24)\n",
      "Info    : It. 214000 - 213976 nodes created - worst tet radius 1.01865 (nodes removed 0 24)\n",
      "Info    : It. 214500 - 214476 nodes created - worst tet radius 1.01798 (nodes removed 0 24)\n",
      "Info    : It. 215000 - 214976 nodes created - worst tet radius 1.01721 (nodes removed 0 24)\n",
      "Info    : It. 215500 - 215476 nodes created - worst tet radius 1.01643 (nodes removed 0 24)\n",
      "Info    : It. 216000 - 215976 nodes created - worst tet radius 1.01572 (nodes removed 0 24)\n",
      "Info    : It. 216500 - 216476 nodes created - worst tet radius 1.01494 (nodes removed 0 24)\n",
      "Info    : It. 217000 - 216976 nodes created - worst tet radius 1.01414 (nodes removed 0 24)\n",
      "Info    : It. 217500 - 217476 nodes created - worst tet radius 1.01344 (nodes removed 0 24)\n",
      "Info    : It. 218000 - 217976 nodes created - worst tet radius 1.0127 (nodes removed 0 24)\n",
      "Info    : It. 218500 - 218476 nodes created - worst tet radius 1.01198 (nodes removed 0 24)\n",
      "Info    : It. 219000 - 218976 nodes created - worst tet radius 1.01118 (nodes removed 0 24)\n",
      "Info    : It. 219500 - 219476 nodes created - worst tet radius 1.01041 (nodes removed 0 24)\n",
      "Info    : It. 220000 - 219976 nodes created - worst tet radius 1.00964 (nodes removed 0 24)\n",
      "Info    : It. 220500 - 220476 nodes created - worst tet radius 1.00896 (nodes removed 0 24)\n",
      "Info    : It. 221000 - 220976 nodes created - worst tet radius 1.00825 (nodes removed 0 24)\n",
      "Info    : It. 221500 - 221476 nodes created - worst tet radius 1.00752 (nodes removed 0 24)\n",
      "Info    : It. 222000 - 221976 nodes created - worst tet radius 1.0068 (nodes removed 0 24)\n",
      "Info    : It. 222500 - 222476 nodes created - worst tet radius 1.00603 (nodes removed 0 24)\n",
      "Info    : It. 223000 - 222976 nodes created - worst tet radius 1.00537 (nodes removed 0 24)\n",
      "Info    : It. 223500 - 223476 nodes created - worst tet radius 1.00471 (nodes removed 0 24)\n",
      "Info    : It. 224000 - 223976 nodes created - worst tet radius 1.00401 (nodes removed 0 24)\n",
      "Info    : It. 224500 - 224476 nodes created - worst tet radius 1.00327 (nodes removed 0 24)\n",
      "Info    : It. 225000 - 224976 nodes created - worst tet radius 1.00256 (nodes removed 0 24)\n",
      "Info    : It. 225500 - 225476 nodes created - worst tet radius 1.00185 (nodes removed 0 24)\n",
      "Info    : It. 226000 - 225976 nodes created - worst tet radius 1.00116 (nodes removed 0 24)\n",
      "Info    : It. 226500 - 226476 nodes created - worst tet radius 1.00045 (nodes removed 0 24)\n",
      "Info    : 3D refinement terminated (304506 nodes total):\n",
      "Info    :  - 4 Delaunay cavities modified for star shapeness\n",
      "Info    :  - 24 nodes could not be inserted\n",
      "Info    :  - 1689806 tetrahedra created in 25.0756 sec. (67388 tets/s)\n",
      "Info    : Done meshing 3D (Wall 50.0579s, CPU 49.6748s)\n",
      "Info    : Optimizing mesh...\n",
      "Info    : Optimizing volume 1\n",
      "Info    : Optimization starts (volume = 2.892e+06) with worst = 0.00104734 / average = 0.784267:\n",
      "Info    : 0.00 < quality < 0.10 :      3399 elements\n",
      "Info    : 0.10 < quality < 0.20 :     10141 elements\n",
      "Info    : 0.20 < quality < 0.30 :     18182 elements\n",
      "Info    : 0.30 < quality < 0.40 :     29030 elements\n",
      "Info    : 0.40 < quality < 0.50 :     45645 elements\n",
      "Info    : 0.50 < quality < 0.60 :     74934 elements\n",
      "Info    : 0.60 < quality < 0.70 :    155234 elements\n",
      "Info    : 0.70 < quality < 0.80 :    374025 elements\n",
      "Info    : 0.80 < quality < 0.90 :    645655 elements\n",
      "Info    : 0.90 < quality < 1.00 :    333558 elements\n",
      "Info    : 31412 edge swaps, 1032 node relocations (volume = 2.892e+06): worst = 0.136587 / average = 0.796099 (Wall 1.9334s, CPU 1.93558s)\n",
      "Info    : 31613 edge swaps, 1053 node relocations (volume = 2.892e+06): worst = 0.191523 / average = 0.796166 (Wall 2.63325s, CPU 2.6368s)\n",
      "Info    : 31616 edge swaps, 1057 node relocations (volume = 2.892e+06): worst = 0.191523 / average = 0.796167 (Wall 3.32829s, CPU 3.33317s)\n",
      "Info    : No ill-shaped tets in the mesh :-)\n",
      "Info    : 0.00 < quality < 0.10 :         0 elements\n",
      "Info    : 0.10 < quality < 0.20 :         1 elements\n",
      "Info    : 0.20 < quality < 0.30 :        14 elements\n",
      "Info    : 0.30 < quality < 0.40 :     28778 elements\n",
      "Info    : 0.40 < quality < 0.50 :     43757 elements\n",
      "Info    : 0.50 < quality < 0.60 :     72112 elements\n",
      "Info    : 0.60 < quality < 0.70 :    154689 elements\n",
      "Info    : 0.70 < quality < 0.80 :    379233 elements\n",
      "Info    : 0.80 < quality < 0.90 :    651097 elements\n",
      "Info    : 0.90 < quality < 1.00 :    331750 elements\n",
      "Info    : Done optimizing mesh (Wall 7.9762s, CPU 7.83175s)\n",
      "Info    : 304502 nodes 1819416 elements\n"
     ]
    }
   ],
   "source": [
    "gmsh.model.occ.synchronize()\n",
    "\n",
    "gmsh.model.add_physical_group(dim=dim, tags=[track])\n",
    "\n",
    "gmsh.model.mesh.generate(dim)"
   ]
  },
  {
   "cell_type": "markdown",
   "id": "71f00ab2-0452-4793-8c8b-678995fa4b33",
   "metadata": {},
   "source": [
    "## Import mesh into `dolfinx`"
   ]
  },
  {
   "cell_type": "code",
   "execution_count": 7,
   "id": "04ac9247-13fd-47ff-81d8-c580e81da405",
   "metadata": {
    "tags": []
   },
   "outputs": [],
   "source": [
    "import dolfinx.io as io\n",
    "from mpi4py import MPI\n",
    "\n",
    "gmsh_model_rank = 0\n",
    "mesh_comm = MPI.COMM_WORLD\n",
    "mesh, cell_markers, facet_markers = io.gmshio.model_to_mesh(gmsh.model,\n",
    "                                                            mesh_comm,\n",
    "                                                            gmsh_model_rank,\n",
    "                                                            gdim=dim)\n",
    "gmsh.finalize()"
   ]
  },
  {
   "cell_type": "code",
   "execution_count": 8,
   "id": "1bf16d71-a1b7-4587-b1cb-b7d9a14b0cb7",
   "metadata": {
    "tags": []
   },
   "outputs": [],
   "source": [
    "import pyvista as pv\n",
    "from dolfinx import plot\n",
    "grid = pv.UnstructuredGrid(*plot.create_vtk_mesh(mesh, mesh.topology.dim))"
   ]
  },
  {
   "cell_type": "raw",
   "id": "b7f50188-3bbc-4857-908a-31927ef598aa",
   "metadata": {},
   "source": [
    "pv.set_jupyter_backend('trame')"
   ]
  },
  {
   "cell_type": "raw",
   "id": "07a8679c-99f6-4a44-829c-d0e9a9e9b35f",
   "metadata": {
    "tags": []
   },
   "source": [
    "plotter = pv.Plotter()\n",
    "plotter.add_mesh(grid, show_edges=True)\n",
    "plotter.view_xy()\n",
    "plotter.show()"
   ]
  },
  {
   "cell_type": "markdown",
   "id": "1dfaa802-dcb2-4bd9-a3d5-fa2fd5300ee9",
   "metadata": {},
   "source": [
    "## Create function space for trial and test functions"
   ]
  },
  {
   "cell_type": "code",
   "execution_count": 9,
   "id": "4e8c9dde-4136-4ef4-b646-eecba31cb44c",
   "metadata": {
    "tags": []
   },
   "outputs": [],
   "source": [
    "import dolfinx.fem as fem\n",
    "import ufl\n",
    "from petsc4py.PETSc import ScalarType\n",
    "\n",
    "V = fem.FunctionSpace(mesh, (\"CG\", 1))\n",
    "u = ufl.TrialFunction(V)\n",
    "v = ufl.TestFunction(V)"
   ]
  },
  {
   "cell_type": "markdown",
   "id": "eb6c6d4c-faad-485c-8188-2a1e049cd400",
   "metadata": {
    "tags": []
   },
   "source": [
    "## Set Neumann boundary conditions"
   ]
  },
  {
   "cell_type": "code",
   "execution_count": 10,
   "id": "38fb314e-db6d-4f4c-b5c5-c27ed7409ff9",
   "metadata": {
    "tags": []
   },
   "outputs": [],
   "source": [
    "import dolfinx"
   ]
  },
  {
   "cell_type": "code",
   "execution_count": 11,
   "id": "15aa0bec-d0e1-4186-a089-e89563a814e5",
   "metadata": {
    "tags": []
   },
   "outputs": [],
   "source": [
    "boundaries_x = [(1, lambda x: np.isclose(x[0], 0)),\n",
    "               (2, lambda x: np.isclose(x[0], lx)),\n",
    "               (3, lambda x: np.logical_not(np.logical_or(np.isclose(x[0], 0), np.isclose(x[0], lx))))]\n",
    "facet_indices, facet_markers = [], []\n",
    "fdim = mesh.topology.dim - 1\n",
    "for marker, locator in boundaries_x:\n",
    "    facets = dolfinx.mesh.locate_entities(mesh, fdim, locator)\n",
    "    facet_indices.append(facets)\n",
    "    facet_markers.append(np.full_like(facets, marker))\n",
    "facet_indices = np.hstack(facet_indices).astype(np.int32)\n",
    "facet_markers = np.hstack(facet_markers).astype(np.int32)\n",
    "sorted_facets = np.argsort(facet_indices)\n",
    "facet_tag = dolfinx.mesh.meshtags(mesh, fdim, facet_indices[sorted_facets], facet_markers[sorted_facets])\n",
    "               "
   ]
  },
  {
   "cell_type": "code",
   "execution_count": 12,
   "id": "85b9623d-69b6-49b0-89ad-109fa6ab4f43",
   "metadata": {
    "tags": []
   },
   "outputs": [],
   "source": [
    "ds_new = ufl.Measure(\"ds\", domain=mesh, subdomain_data=facet_tag)"
   ]
  },
  {
   "cell_type": "code",
   "execution_count": 13,
   "id": "fd2d67a1-7f9e-437f-896c-49ded4cc5536",
   "metadata": {
    "tags": []
   },
   "outputs": [],
   "source": [
    "f = fem.Constant(mesh, ScalarType(0))\n",
    "nmbc_1 = fem.Constant(mesh, ScalarType(-1e12))\n",
    "nmbc_2 = fem.Constant(mesh, ScalarType(1e12))\n",
    "\n",
    "a = ufl.dot(ufl.grad(u), ufl.grad(v)) * ufl.dx\n",
    "L = f * v * ufl.dx - nmbc_1 * v * ds_new(1) - nmbc_2 * v * ds_new(2) - f * v * ds_new(3)"
   ]
  },
  {
   "cell_type": "code",
   "execution_count": 14,
   "id": "b94a993c-a669-4b24-aab9-412b064ff73c",
   "metadata": {
    "tags": []
   },
   "outputs": [],
   "source": [
    "problem = fem.petsc.LinearProblem(a, L)\n",
    "v_field = problem.solve()"
   ]
  },
  {
   "cell_type": "markdown",
   "id": "411fe10a-bb05-4290-b4ae-6a8ea7502b71",
   "metadata": {},
   "source": [
    "### Solve for j"
   ]
  },
  {
   "cell_type": "code",
   "execution_count": 15,
   "id": "c818dc91-56db-4760-b8fc-fd24988d01bf",
   "metadata": {
    "tags": []
   },
   "outputs": [],
   "source": [
    "W_new = fem.VectorFunctionSpace(mesh=mesh, dim=3, element=(\"CG\", 1))\n",
    "u_new = ufl.TrialFunction(W_new)\n",
    "v_new = ufl.TestFunction(W_new)\n",
    "\n",
    "LHS = ufl.dot(u_new, v_new) * ufl.dx\n",
    "RHS = ufl.dot(-ufl.grad(v_field), v_new) * ufl.dx"
   ]
  },
  {
   "cell_type": "code",
   "execution_count": 16,
   "id": "f07766b1-7988-481d-a191-0e6950c8f141",
   "metadata": {
    "tags": []
   },
   "outputs": [],
   "source": [
    "problem_new = fem.petsc.LinearProblem(LHS, RHS)\n",
    "j_new = problem_new.solve()"
   ]
  },
  {
   "cell_type": "code",
   "execution_count": 17,
   "id": "3517963c-7d74-452e-a799-0b81aec34ec7",
   "metadata": {
    "tags": []
   },
   "outputs": [],
   "source": [
    "grid.point_data[\"j\"] = j_new.x.array.reshape((-1, 3))"
   ]
  },
  {
   "cell_type": "raw",
   "id": "a63ec93c-1f18-4366-9081-18e3ad8e2b50",
   "metadata": {
    "tags": []
   },
   "source": [
    "plotter = pv.Plotter()\n",
    "plotter.add_mesh(grid)\n",
    "plotter.view_xy()\n",
    "plotter.show()"
   ]
  },
  {
   "cell_type": "markdown",
   "id": "a71176eb-3b00-4587-b582-8a4cd0e97aa3",
   "metadata": {},
   "source": [
    "### Ouput `j_new`"
   ]
  },
  {
   "cell_type": "code",
   "execution_count": 18,
   "id": "ebb39cba-801c-4d11-9106-77e74cbe3ca8",
   "metadata": {
    "tags": []
   },
   "outputs": [],
   "source": [
    "import dolfinx"
   ]
  },
  {
   "cell_type": "code",
   "execution_count": 19,
   "id": "13413c39-eb26-4e47-a19c-d6261d6e2897",
   "metadata": {
    "tags": []
   },
   "outputs": [
    {
     "data": {
      "text/plain": [
       "(400, 40, 12)"
      ]
     },
     "execution_count": 19,
     "metadata": {},
     "output_type": "execute_result"
    }
   ],
   "source": [
    "n = (round(lx / 2.5), round(ly / 2.5), 12)\n",
    "n"
   ]
  },
  {
   "cell_type": "code",
   "execution_count": 20,
   "id": "572bff3c-e80c-4608-9d81-c81007126331",
   "metadata": {
    "tags": []
   },
   "outputs": [],
   "source": [
    "drmesh = dolfinx.mesh.create_box(mesh_comm, points=((0, 0, 0), (lx, ly, lz)), n=n, cell_type=dolfinx.mesh.CellType.hexahedron)"
   ]
  },
  {
   "cell_type": "code",
   "execution_count": 21,
   "id": "f779abef-a896-43f8-8726-1f4f68b387ea",
   "metadata": {
    "tags": []
   },
   "outputs": [],
   "source": [
    "W_dg = fem.VectorFunctionSpace(mesh=drmesh, dim=3, element=(\"DG\", 0))\n",
    "function = dolfinx.fem.Function(W_dg)\n",
    "function.interpolate(j_new)"
   ]
  },
  {
   "cell_type": "code",
   "execution_count": 22,
   "id": "463c53ba-390c-4bdc-b736-5fb591e21b7d",
   "metadata": {
    "tags": []
   },
   "outputs": [],
   "source": [
    "drgrid = pv.UnstructuredGrid(*plot.create_vtk_mesh(drmesh, drmesh.topology.dim))"
   ]
  },
  {
   "cell_type": "code",
   "execution_count": 23,
   "id": "fd804828-5a13-4bc0-9c30-91bd48f76b3a",
   "metadata": {
    "tags": []
   },
   "outputs": [
    {
     "data": {
      "text/html": [
       "\n",
       "<table style='width: 100%;'>\n",
       "<tr><th>UnstructuredGrid</th><th>Information</th></tr>\n",
       "<tr><td>N Cells</td><td>192000</td></tr>\n",
       "<tr><td>N Points</td><td>213733</td></tr>\n",
       "<tr><td>X Bounds</td><td>0.000e+00, 1.000e+03</td></tr>\n",
       "<tr><td>Y Bounds</td><td>0.000e+00, 1.000e+02</td></tr>\n",
       "<tr><td>Z Bounds</td><td>0.000e+00, 3.000e+01</td></tr>\n",
       "<tr><td>N Arrays</td><td>0</td></tr>\n",
       "</table>\n",
       "\n"
      ],
      "text/plain": [
       "UnstructuredGrid (0x7f27be40b880)\n",
       "  N Cells:    192000\n",
       "  N Points:   213733\n",
       "  X Bounds:   0.000e+00, 1.000e+03\n",
       "  Y Bounds:   0.000e+00, 1.000e+02\n",
       "  Z Bounds:   0.000e+00, 3.000e+01\n",
       "  N Arrays:   0"
      ]
     },
     "execution_count": 23,
     "metadata": {},
     "output_type": "execute_result"
    }
   ],
   "source": [
    "drgrid"
   ]
  },
  {
   "cell_type": "raw",
   "id": "1957e466-dabe-4f7d-875d-2fd4ae0e01bc",
   "metadata": {
    "tags": []
   },
   "source": [
    "plotter = pv.Plotter()\n",
    "plotter.add_mesh(drgrid, show_edges=True)\n",
    "plotter.view_xy()\n",
    "plotter.show()"
   ]
  },
  {
   "cell_type": "code",
   "execution_count": 24,
   "id": "464b20ef-aaa2-4580-8b20-089492a5a9a4",
   "metadata": {
    "tags": []
   },
   "outputs": [],
   "source": [
    "drgrid['j'] = function.x.array.reshape((-1, 3))"
   ]
  },
  {
   "cell_type": "raw",
   "id": "07b0ce3f-1acf-4b9b-ab84-0303f4136494",
   "metadata": {
    "tags": []
   },
   "source": [
    "plotter = pv.Plotter()\n",
    "plotter.add_mesh(drgrid)\n",
    "plotter.view_xy()\n",
    "plotter.show()"
   ]
  },
  {
   "cell_type": "markdown",
   "id": "e6c0e2df-37d9-469f-8ca2-f2a711a400b8",
   "metadata": {},
   "source": [
    "---"
   ]
  },
  {
   "cell_type": "code",
   "execution_count": 25,
   "id": "81f78ee5-8306-4e92-b13b-3b1775f5001c",
   "metadata": {
    "tags": []
   },
   "outputs": [],
   "source": [
    "import discretisedfield as df"
   ]
  },
  {
   "cell_type": "code",
   "execution_count": 26,
   "id": "24e2fadc-6a4c-40b5-8974-776b9ff9a9fa",
   "metadata": {
    "tags": []
   },
   "outputs": [],
   "source": [
    "fmesh = df.Mesh(p1=(0, 0, 0), p2=(lx, ly, lz), n=n)"
   ]
  },
  {
   "cell_type": "code",
   "execution_count": 27,
   "id": "945a61e2-2fbc-4054-b817-b5b3d29e3969",
   "metadata": {
    "tags": []
   },
   "outputs": [],
   "source": [
    "rgrid = pv.RectilinearGrid(fmesh.points.x, fmesh.points.y, fmesh.points.z)"
   ]
  },
  {
   "cell_type": "code",
   "execution_count": 28,
   "id": "dec7aed5-e9d7-415f-a07a-dd19fc725c07",
   "metadata": {
    "tags": []
   },
   "outputs": [],
   "source": [
    "j_field = df.Field(fmesh, nvdim=3, value=rgrid.sample(drgrid)['j'].reshape((*reversed(n), 3)).swapaxes(0, 2))"
   ]
  },
  {
   "cell_type": "code",
   "execution_count": 29,
   "id": "7797ea31-cbac-408f-841e-b6d725b21fd8",
   "metadata": {
    "tags": []
   },
   "outputs": [
    {
     "data": {
      "image/png": "[encoded data removed]",
      "text/plain": [
       "<Figure size 800x600 with 2 Axes>"
      ]
     },
     "metadata": {},
     "output_type": "display_data"
    }
   ],
   "source": [
    "j_field.sel('z').norm.mpl()"
   ]
  },
  {
   "cell_type": "code",
   "execution_count": 30,
   "id": "e7e691f7-cd8d-436b-ae01-972396fd8338",
   "metadata": {
    "tags": []
   },
   "outputs": [],
   "source": [
    "j_field.to_file('current-profile.omf')"
   ]
  }
 ],
 "metadata": {
  "kernelspec": {
   "display_name": "Python 3 (ipykernel)",
   "language": "python",
   "name": "python3"
  },
  "language_info": {
   "codemirror_mode": {
    "name": "ipython",
    "version": 3
   },
   "file_extension": ".py",
   "mimetype": "text/x-python",
   "name": "python",
   "nbconvert_exporter": "python",
   "pygments_lexer": "ipython3",
   "version": "3.10.12"
  }
 },
 "nbformat": 4,
 "nbformat_minor": 5
}
