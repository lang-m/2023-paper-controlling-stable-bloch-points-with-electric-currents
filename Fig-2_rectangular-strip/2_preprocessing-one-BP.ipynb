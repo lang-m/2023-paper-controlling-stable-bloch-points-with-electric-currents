{
 "cells": [
  {
   "cell_type": "code",
   "execution_count": 7,
   "id": "5e4e5b2f-53f4-447a-9b02-87557510061e",
   "metadata": {
    "tags": []
   },
   "outputs": [],
   "source": [
    "import micromagneticdata as mdata\n",
    "import discretisedfield as df\n",
    "import os\n",
    "\n",
    "from multiprocessing import Pool\n",
    "import pandas as pd\n",
    "\n",
    "\n",
    "import ast"
   ]
  },
  {
   "cell_type": "code",
   "execution_count": 2,
   "id": "3252ab28-2628-44c0-b933-593b5a995e6a",
   "metadata": {
    "tags": []
   },
   "outputs": [],
   "source": [
    "name = 'mbp_l_1500_w_100_ht_10_ixxxx'"
   ]
  },
  {
   "cell_type": "code",
   "execution_count": 11,
   "id": "d308f3cd-69bd-4f72-871d-652ed6d93e57",
   "metadata": {
    "tags": []
   },
   "outputs": [],
   "source": [
    "def locate(filename):\n",
    "    m = df.Field.from_file(filename)\n",
    "\n",
    "    info = df.tools.count_bps(m)\n",
    "\n",
    "    coarse = ast.literal_eval(info['bp_pattern_x'])[0][1] * 2.5e-9\n",
    "    info['loc_x_coarse'] = coarse\n",
    "\n",
    "    dx = 20e-9\n",
    "    m_small = m.sel(x=(coarse - dx, coarse + dx))\n",
    "    \n",
    "    em_div = df.tools.emergent_magnetic_field(m_small).div\n",
    "\n",
    "    loc = (em_div * em_div.mesh.coordinate_field()).integrate() / em_div.integrate()\n",
    "\n",
    "    info['loc_fine'] = loc\n",
    "\n",
    "\n",
    "    return info"
   ]
  },
  {
   "cell_type": "code",
   "execution_count": 7,
   "id": "be431ffb-2135-42b3-a8ca-d19d8a2af517",
   "metadata": {},
   "outputs": [],
   "source": [
    "for j in [5e10, 1e11, 1.5e11, 2e11, 3e11, 5e11, 7e11, 1e12, 2e12]:\n",
    "    drive = mdata.Data(name=name, dirname=f'simulations/J_{j:g}')[0]\n",
    "    with Pool(len(os.sched_getaffinity(0))) as p:  # use all available CPUs\n",
    "        res = p.map(locate, drive._step_files)\n",
    "\n",
    "\n",
    "    converted = {\n",
    "        'bp_number': [elem['bp_number'] for elem in res],\n",
    "        'bp_number_hh': [elem['bp_number_hh'] for elem in res],\n",
    "        'bp_number_tt': [elem['bp_number_tt'] for elem in res],\n",
    "        'loc_x_coarse': [elem['loc_x_coarse'] for elem in res],\n",
    "        'loc_x_fine': [elem['loc_fine'][0] for elem in res],\n",
    "        'loc_y_fine': [elem['loc_fine'][1] for elem in res],\n",
    "    }\n",
    "    \n",
    "    pd.DataFrame(converted).to_csv(f\"bp-position-j-{J * 1e9:g}.csv\", index=False)"
   ]
  },
  {
   "cell_type": "code",
   "execution_count": null,
   "id": "a7e145ac-a206-435c-b843-b2c4fb6f5978",
   "metadata": {},
   "outputs": [],
   "source": []
  }
 ],
 "metadata": {
  "kernelspec": {
   "display_name": "Ubermag (dev)",
   "language": "python",
   "name": "ubermagdev"
  },
  "language_info": {
   "codemirror_mode": {
    "name": "ipython",
    "version": 3
   },
   "file_extension": ".py",
   "mimetype": "text/x-python",
   "name": "python",
   "nbconvert_exporter": "python",
   "pygments_lexer": "ipython3",
   "version": "3.8.13"
  }
 },
 "nbformat": 4,
 "nbformat_minor": 5
}
