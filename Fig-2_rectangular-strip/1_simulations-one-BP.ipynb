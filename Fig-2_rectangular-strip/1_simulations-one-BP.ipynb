{
 "cells": [
  {
   "cell_type": "code",
   "execution_count": 1,
   "id": "2ec62cda-1131-4ce0-a5bb-a4e97315e363",
   "metadata": {
    "tags": []
   },
   "outputs": [],
   "source": [
    "import discretisedfield as df\n",
    "import micromagneticmodel as mm\n",
    "import oommfc as oc"
   ]
  },
  {
   "cell_type": "code",
   "execution_count": null,
   "id": "32a4dd8f-c1fd-4494-a926-ed141c53e416",
   "metadata": {},
   "outputs": [],
   "source": [
    "import sys\n",
    "sys.path.append('..')\n",
    "from simtools import Strip"
   ]
  },
  {
   "cell_type": "code",
   "execution_count": 2,
   "id": "c0eb3fd9-0b9c-4c7f-b229-e8f22f2394c0",
   "metadata": {
    "tags": []
   },
   "outputs": [
    {
     "name": "stdout",
     "output_type": "stream",
     "text": [
      "Running OOMMF (ExeOOMMFRunner)[2023/07/12 12:14]... (81.9 s)\n",
      "Running OOMMF (ExeOOMMFRunner)[2023/07/12 12:16]... (70.7 s)\n"
     ]
    }
   ],
   "source": [
    "l = 1500e-9\n",
    "s = Strip(l, 100e-9, 10e-9, 20e-9, '.', initpattern='ixx')\n",
    "s.min_drive(fixed=True, n_threads=64)\n",
    "s.min_drive(n_threads=64)"
   ]
  },
  {
   "cell_type": "code",
   "execution_count": 3,
   "id": "523e1111-96f5-42fe-899e-421c22502e73",
   "metadata": {
    "tags": []
   },
   "outputs": [
    {
     "data": {
      "image/png": "[encoded data removed]",
      "text/plain": [
       "<Figure size 432x288 with 2 Axes>"
      ]
     },
     "metadata": {
      "needs_background": "light"
     },
     "output_type": "display_data"
    }
   ],
   "source": [
    "s.system.m.sel(z=1e-9).z.mpl()"
   ]
  },
  {
   "cell_type": "code",
   "execution_count": 4,
   "id": "9886559c-6bb3-4dfd-b82e-c2f69a5672b4",
   "metadata": {
    "tags": []
   },
   "outputs": [
    {
     "data": {
      "image/png": "[encoded data removed]",
      "text/plain": [
       "<Figure size 432x288 with 2 Axes>"
      ]
     },
     "metadata": {
      "needs_background": "light"
     },
     "output_type": "display_data"
    }
   ],
   "source": [
    "s.system.m.sel('y').z.mpl()"
   ]
  },
  {
   "cell_type": "code",
   "execution_count": 5,
   "id": "502fcbe2-edf5-4fcb-8a26-469d72ff2aa8",
   "metadata": {
    "tags": []
   },
   "outputs": [
    {
     "data": {
      "text/plain": [
       "{'bp_number': 1.0,\n",
       " 'bp_number_hh': 1.0,\n",
       " 'bp_number_tt': 0.0,\n",
       " 'bp_pattern_x': '[[-0.0, 100], [-1.0, 500]]'}"
      ]
     },
     "execution_count": 5,
     "metadata": {},
     "output_type": "execute_result"
    }
   ],
   "source": [
    "df.tools.count_bps(s.system.m)"
   ]
  },
  {
   "cell_type": "code",
   "execution_count": 6,
   "id": "4a820951-355b-4ee8-b90c-c52ecb729833",
   "metadata": {
    "tags": []
   },
   "outputs": [],
   "source": [
    "s.system.dynamics += mm.ZhangLi(u=0, beta=0.56)"
   ]
  },
  {
   "cell_type": "code",
   "execution_count": 7,
   "id": "c94d2fa0-d525-449a-8596-eb3cb9e4c567",
   "metadata": {
    "tags": []
   },
   "outputs": [],
   "source": [
    "td = oc.TimeDriver()"
   ]
  },
  {
   "cell_type": "code",
   "execution_count": 8,
   "id": "cf70bc5b-7fb5-4d33-8bc6-05b5a6e551f7",
   "metadata": {
    "tags": []
   },
   "outputs": [],
   "source": [
    "muB = 9.274e-24\n",
    "\n",
    "def J2ux(J, P=.5):\n",
    "    Ms = mbp.Strip.FeGe['Ms']\n",
    "    return J * P * mm.consts.g * muB / (2 * mm.consts.e * Ms)"
   ]
  },
  {
   "cell_type": "code",
   "execution_count": 10,
   "id": "421fb432-94c1-4bc0-9a52-4ff7305dba2a",
   "metadata": {
    "tags": []
   },
   "outputs": [],
   "source": [
    "import micromagneticdata as mdata"
   ]
  },
  {
   "cell_type": "code",
   "execution_count": 11,
   "id": "82dff8ea-2df7-44f9-94f0-e00978e6244a",
   "metadata": {
    "tags": []
   },
   "outputs": [
    {
     "data": {
      "image/png": "[encoded data removed]",
      "text/plain": [
       "<Figure size 432x288 with 2 Axes>"
      ]
     },
     "metadata": {
      "needs_background": "light"
     },
     "output_type": "display_data"
    }
   ],
   "source": [
    "data = mdata.Data(name=s.system.name, dirname='.')\n",
    "initial_m = data[-1][-1]\n",
    "initial_m.sel(z=1e-9).z.mpl()"
   ]
  },
  {
   "cell_type": "raw",
   "id": "3a910be2-8a76-4e3b-a459-2430a3357c7a",
   "metadata": {},
   "source": [
    "js = [50, 100, 150, 200, 300, 500, 700, 1000, 2000]"
   ]
  },
  {
   "cell_type": "code",
   "execution_count": 23,
   "id": "52fc569f-ac13-4cc3-b257-fc7e13f1c8ef",
   "metadata": {},
   "outputs": [
    {
     "name": "stdout",
     "output_type": "stream",
     "text": [
      "simulating j=5e+10\tt=3e-08\n",
      "simulating j=1e+11\tt=3e-08\n",
      "simulating j=1.5e+11\tt=6e-08\n",
      "simulating j=2e+11\tt=6e-08\n",
      "simulating j=3e+11\tt=3e-08\n",
      "simulating j=5e+11\tt=3e-08\n",
      "simulating j=7e+11\tt=3e-08\n",
      "simulating j=1e+12\tt=3e-08\n",
      "simulating j=2e+12\tt=3e-08\n"
     ]
    }
   ],
   "source": [
    "for j in [5e10, 1e11, 1.5e11, 2e11, 3e11, 5e11, 7e11, 1e12, 2e12]:\n",
    "    # update current\n",
    "    s.system.dynamics.zhangli.u = J2ux(j)\n",
    "    \n",
    "    # reset magnetisation\n",
    "    s.system.m.array = initial_m.array\n",
    "\n",
    "    if j in [1.5e11, 2e11]:  # very slow motion requires longer simulation time\n",
    "        t = 60e-9\n",
    "    else:\n",
    "        t = 30e-9\n",
    "    \n",
    "    print(f\"simulating {j=:g}\\t{t=}\")\n",
    "    td.drive(s.system, dirname=f\"simulations/J_{j:g}\", t=10e-9, n=round(t * 1e9) * 100)"
   ]
  }
 ],
 "metadata": {
  "kernelspec": {
   "display_name": "Ubermag (dev)",
   "language": "python",
   "name": "ubermagdev"
  },
  "language_info": {
   "codemirror_mode": {
    "name": "ipython",
    "version": 3
   },
   "file_extension": ".py",
   "mimetype": "text/x-python",
   "name": "python",
   "nbconvert_exporter": "python",
   "pygments_lexer": "ipython3",
   "version": "3.8.13"
  }
 },
 "nbformat": 4,
 "nbformat_minor": 5
}
