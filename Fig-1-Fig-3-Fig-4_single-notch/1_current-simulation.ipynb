{
 "cells": [
  {
   "cell_type": "code",
   "execution_count": 63,
   "id": "c3c06f3b-088f-4734-ae4f-8c2cc0e43da1",
   "metadata": {},
   "outputs": [],
   "source": [
    "# TODO: set strip width ly to (in nm)\n",
    "# - ly = 100\n",
    "# - ly = 125\n",
    "# - ly = 150\n",
    "\n",
    "ly = 150"
   ]
  },
  {
   "cell_type": "markdown",
   "id": "0c884f96-8408-4c86-9020-8cc48b9a6749",
   "metadata": {
    "tags": []
   },
   "source": [
    "---\n",
    "## Generate mesh with `gmsh`"
   ]
  },
  {
   "cell_type": "code",
   "execution_count": 64,
   "id": "6c8d08b6-3941-4fe5-9e2c-b9486bacf8f4",
   "metadata": {
    "tags": []
   },
   "outputs": [],
   "source": [
    "import gmsh\n",
    "import numpy as np\n",
    "\n",
    "dim = 3\n",
    "lc = 2\n",
    "\n",
    "gmsh.initialize()"
   ]
  },
  {
   "cell_type": "code",
   "execution_count": 65,
   "id": "1e45afe9-41dc-4b7b-92c1-f71649aa8ac5",
   "metadata": {
    "tags": []
   },
   "outputs": [],
   "source": [
    "lx = 600\n",
    "lz = 30"
   ]
  },
  {
   "cell_type": "code",
   "execution_count": 66,
   "id": "dc6675d6-0337-42c4-bb3b-964eb4870e21",
   "metadata": {
    "tags": []
   },
   "outputs": [],
   "source": [
    "gmsh.option.setNumber(\"Mesh.CharacteristicLengthMax\", lc)\n",
    "gmsh.option.setNumber(\"Mesh.CharacteristicLengthMin\", lc)\n",
    "\n",
    "track = gmsh.model.occ.addBox(0., 0., 0., lx, ly, lz)\n",
    "\n",
    "def wedge(base_mid_x, height, angle):\n",
    "    base_half_length = height * np.tan(angle/2.0)\n",
    "    base_lb = gmsh.model.occ.addPoint(base_mid_x - base_half_length, ly, 0)\n",
    "    base_rb = gmsh.model.occ.addPoint(base_mid_x + base_half_length, ly, 0)\n",
    "    hb = gmsh.model.occ.addPoint(base_mid_x, ly - height, 0)\n",
    "    base_lt = gmsh.model.occ.addPoint(base_mid_x - base_half_length, ly, lz)\n",
    "    base_rt = gmsh.model.occ.addPoint(base_mid_x + base_half_length, ly, lz)\n",
    "    ht = gmsh.model.occ.addPoint(base_mid_x, ly - height, lz)\n",
    "    \n",
    "    line_l_b_surf = gmsh.model.occ.addLine(hb, base_lb)\n",
    "    line_b_b_surf = gmsh.model.occ.addLine(base_lb, base_rb)\n",
    "    line_r_b_surf = gmsh.model.occ.addLine(base_rb, hb)\n",
    "    line_l_t_surf = gmsh.model.occ.addLine(ht, base_lt)\n",
    "    line_b_t_surf = gmsh.model.occ.addLine(base_lt, base_rt)\n",
    "    line_r_t_surf = gmsh.model.occ.addLine(base_rt, ht)\n",
    "    line_h_vert = gmsh.model.occ.addLine(hb, ht)\n",
    "    line_l_vert = gmsh.model.occ.addLine(base_lb, base_lt)\n",
    "    line_r_vert = gmsh.model.occ.addLine(base_rb, base_rt)\n",
    "    \n",
    "    b_loop = gmsh.model.occ.addCurveLoop([line_l_b_surf, line_b_b_surf, line_r_b_surf])\n",
    "    t_loop = gmsh.model.occ.addCurveLoop([line_l_t_surf, line_b_t_surf, line_r_t_surf])\n",
    "    lat_l_loop = gmsh.model.occ.addCurveLoop([line_l_t_surf, line_h_vert, line_l_b_surf, line_l_vert])\n",
    "    lat_r_loop = gmsh.model.occ.addCurveLoop([line_r_t_surf, line_h_vert, line_r_b_surf, line_r_vert])\n",
    "    lat_base_loop = gmsh.model.occ.addCurveLoop([line_b_b_surf, line_r_vert, line_b_t_surf, line_l_vert])\n",
    "    \n",
    "    b_surf = gmsh.model.occ.addSurfaceFilling(b_loop)\n",
    "    t_surf = gmsh.model.occ.addSurfaceFilling(t_loop)\n",
    "    lat_l_surf = gmsh.model.occ.addSurfaceFilling(lat_l_loop)\n",
    "    lat_r_surf = gmsh.model.occ.addSurfaceFilling(lat_r_loop)\n",
    "    lat_base_surf = gmsh.model.occ.addSurfaceFilling(lat_base_loop)\n",
    "    \n",
    "    surf_loop = gmsh.model.occ.addSurfaceLoop([b_surf, t_surf, lat_l_surf, lat_r_surf, lat_base_surf])\n",
    "    return gmsh.model.occ.addVolume([surf_loop])"
   ]
  },
  {
   "cell_type": "code",
   "execution_count": 67,
   "id": "5dd9f551-1229-4edf-b6b5-7d27ef960b6f",
   "metadata": {},
   "outputs": [],
   "source": [
    "from math import pi"
   ]
  },
  {
   "cell_type": "code",
   "execution_count": 68,
   "id": "6e0708ad-cb8c-406f-8bf9-399c24bed1f7",
   "metadata": {},
   "outputs": [
    {
     "data": {
      "text/plain": [
       "([(3, 1)], [[(3, 1)], []])"
      ]
     },
     "execution_count": 68,
     "metadata": {},
     "output_type": "execute_result"
    }
   ],
   "source": [
    "wedge_cut = wedge(lx/2, 30, pi/2)\n",
    "gmsh.model.occ.cut([(dim, track)], [(dim, wedge_cut)])"
   ]
  },
  {
   "cell_type": "code",
   "execution_count": 69,
   "id": "680a36ce-4670-4194-af4e-a1beb1107d20",
   "metadata": {
    "scrolled": true,
    "tags": []
   },
   "outputs": [
    {
     "name": "stdout",
     "output_type": "stream",
     "text": [
      "Info    : Meshing 1D...\n",
      "Info    : [  0%] Meshing curve 1 (Line)\n",
      "Info    : [ 10%] Meshing curve 2 (Line)\n",
      "Info    : [ 10%] Meshing curve 3 (Line)\n",
      "Info    : [ 20%] Meshing curve 4 (Line)\n",
      "Info    : [ 20%] Meshing curve 5 (Line)\n",
      "Info    : [ 30%] Meshing curve 6 (Line)\n",
      "Info    : [ 30%] Meshing curve 7 (Line)\n",
      "Info    : [ 40%] Meshing curve 8 (Line)\n",
      "Info    : [ 40%] Meshing curve 9 (Line)\n",
      "Info    : [ 50%] Meshing curve 10 (Line)\n",
      "Info    : [ 50%] Meshing curve 11 (Line)\n",
      "Info    : [ 60%] Meshing curve 12 (Line)\n",
      "Info    : [ 60%] Meshing curve 13 (Line)\n",
      "Info    : [ 70%] Meshing curve 14 (Line)\n",
      "Info    : [ 70%] Meshing curve 15 (Line)\n",
      "Info    : [ 80%] Meshing curve 16 (Line)\n",
      "Info    : [ 80%] Meshing curve 17 (Line)\n",
      "Info    : [ 90%] Meshing curve 18 (Line)\n",
      "Info    : [ 90%] Meshing curve 19 (Line)\n",
      "Info    : [100%] Meshing curve 20 (Line)\n",
      "Info    : [100%] Meshing curve 21 (Line)\n",
      "Info    : Done meshing 1D (Wall 0.00274702s, CPU 0.003707s)\n",
      "Info    : Meshing 2D...\n",
      "Info    : [  0%] Meshing surface 1 (Plane, Frontal-Delaunay)\n",
      "Info    : [ 20%] Meshing surface 2 (Plane, Frontal-Delaunay)\n",
      "Info    : [ 30%] Meshing surface 3 (Plane, Frontal-Delaunay)\n",
      "Info    : [ 40%] Meshing surface 4 (Plane, Frontal-Delaunay)\n",
      "Info    : [ 50%] Meshing surface 5 (Plane, Frontal-Delaunay)\n",
      "Info    : [ 60%] Meshing surface 6 (Plane, Frontal-Delaunay)\n",
      "Info    : [ 70%] Meshing surface 7 (BSpline surface, Frontal-Delaunay)\n",
      "Info    : [ 80%] Meshing surface 8 (BSpline surface, Frontal-Delaunay)\n",
      "Info    : [ 90%] Meshing surface 9 (Plane, Frontal-Delaunay)\n",
      "Info    : Done meshing 2D (Wall 2.76783s, CPU 2.74558s)\n",
      "Info    : Meshing 3D...\n",
      "Info    : 3D Meshing 1 volume with 1 connected component\n",
      "Info    : Tetrahedrizing 65738 nodes...\n",
      "Info    : Done tetrahedrizing 65746 nodes (Wall 1.8829s, CPU 1.84839s)\n",
      "Info    : Reconstructing mesh...\n",
      "Info    :  - Creating surface mesh\n",
      "Info    :  - Identifying boundary edges\n",
      "Info    :  - Recovering boundary\n",
      "Info    : Done reconstructing mesh (Wall 8.50761s, CPU 8.39827s)\n",
      "Info    : Found volume 1\n",
      "Info    : It. 0 - 0 nodes created - worst tet radius 8.62298 (nodes removed 0 0)\n",
      "Info    : It. 500 - 500 nodes created - worst tet radius 5.47694 (nodes removed 0 0)\n",
      "Info    : It. 1000 - 1000 nodes created - worst tet radius 4.95256 (nodes removed 0 0)\n",
      "Info    : It. 1500 - 1500 nodes created - worst tet radius 4.48888 (nodes removed 0 0)\n",
      "Info    : It. 2000 - 2000 nodes created - worst tet radius 4.02364 (nodes removed 0 0)\n",
      "Info    : It. 2500 - 2500 nodes created - worst tet radius 3.81215 (nodes removed 0 0)\n",
      "Info    : It. 3000 - 3000 nodes created - worst tet radius 3.59415 (nodes removed 0 0)\n",
      "Info    : It. 3500 - 3500 nodes created - worst tet radius 3.46383 (nodes removed 0 0)\n",
      "Info    : It. 4000 - 4000 nodes created - worst tet radius 3.353 (nodes removed 0 0)\n",
      "Info    : It. 4500 - 4500 nodes created - worst tet radius 3.23831 (nodes removed 0 0)\n",
      "Info    : It. 5000 - 5000 nodes created - worst tet radius 3.14043 (nodes removed 0 0)\n",
      "Info    : It. 5500 - 5500 nodes created - worst tet radius 3.04417 (nodes removed 0 0)\n",
      "Info    : It. 6000 - 6000 nodes created - worst tet radius 2.96526 (nodes removed 0 0)\n",
      "Info    : It. 6500 - 6500 nodes created - worst tet radius 2.89406 (nodes removed 0 0)\n",
      "Info    : It. 7000 - 7000 nodes created - worst tet radius 2.83447 (nodes removed 0 0)\n",
      "Info    : It. 7500 - 7500 nodes created - worst tet radius 2.7847 (nodes removed 0 0)\n",
      "Info    : It. 8000 - 8000 nodes created - worst tet radius 2.74072 (nodes removed 0 0)\n",
      "Info    : It. 8500 - 8500 nodes created - worst tet radius 2.70038 (nodes removed 0 0)\n",
      "Info    : It. 9000 - 9000 nodes created - worst tet radius 2.65942 (nodes removed 0 0)\n",
      "Info    : It. 9500 - 9500 nodes created - worst tet radius 2.621 (nodes removed 0 0)\n",
      "Info    : It. 10000 - 10000 nodes created - worst tet radius 2.58314 (nodes removed 0 0)\n",
      "Info    : It. 10500 - 10500 nodes created - worst tet radius 2.54742 (nodes removed 0 0)\n",
      "Info    : It. 11000 - 11000 nodes created - worst tet radius 2.51087 (nodes removed 0 0)\n",
      "Info    : It. 11500 - 11500 nodes created - worst tet radius 2.47398 (nodes removed 0 0)\n",
      "Info    : It. 12000 - 12000 nodes created - worst tet radius 2.43932 (nodes removed 0 0)\n",
      "Info    : It. 12500 - 12500 nodes created - worst tet radius 2.40609 (nodes removed 0 0)\n",
      "Info    : It. 13000 - 13000 nodes created - worst tet radius 2.37744 (nodes removed 0 0)\n",
      "Info    : It. 13500 - 13500 nodes created - worst tet radius 2.34691 (nodes removed 0 0)\n",
      "Info    : It. 14000 - 14000 nodes created - worst tet radius 2.3181 (nodes removed 0 0)\n",
      "Info    : It. 14500 - 14500 nodes created - worst tet radius 2.29401 (nodes removed 0 0)\n",
      "Info    : It. 15000 - 15000 nodes created - worst tet radius 2.27057 (nodes removed 0 0)\n",
      "Info    : It. 15500 - 15500 nodes created - worst tet radius 2.24535 (nodes removed 0 0)\n",
      "Info    : It. 16000 - 16000 nodes created - worst tet radius 2.22406 (nodes removed 0 0)\n",
      "Info    : It. 16500 - 16500 nodes created - worst tet radius 2.20222 (nodes removed 0 0)\n",
      "Info    : It. 17000 - 17000 nodes created - worst tet radius 2.18094 (nodes removed 0 0)\n",
      "Info    : It. 17500 - 17500 nodes created - worst tet radius 2.16089 (nodes removed 0 0)\n",
      "Info    : It. 18000 - 18000 nodes created - worst tet radius 2.14155 (nodes removed 0 0)\n",
      "Info    : It. 18500 - 18500 nodes created - worst tet radius 2.124 (nodes removed 0 0)\n",
      "Info    : It. 19000 - 19000 nodes created - worst tet radius 2.10819 (nodes removed 0 0)\n",
      "Info    : It. 19500 - 19500 nodes created - worst tet radius 2.09142 (nodes removed 0 0)\n",
      "Info    : It. 20000 - 20000 nodes created - worst tet radius 2.07556 (nodes removed 0 0)\n",
      "Info    : It. 20500 - 20500 nodes created - worst tet radius 2.06056 (nodes removed 0 0)\n",
      "Info    : It. 21000 - 21000 nodes created - worst tet radius 2.04614 (nodes removed 0 0)\n",
      "Info    : It. 21500 - 21500 nodes created - worst tet radius 2.03239 (nodes removed 0 0)\n",
      "Info    : It. 22000 - 22000 nodes created - worst tet radius 2.01915 (nodes removed 0 0)\n",
      "Info    : It. 22500 - 22500 nodes created - worst tet radius 2.0056 (nodes removed 0 0)\n",
      "Info    : It. 23000 - 23000 nodes created - worst tet radius 1.9923 (nodes removed 0 0)\n",
      "Info    : It. 23500 - 23500 nodes created - worst tet radius 1.97937 (nodes removed 0 0)\n",
      "Info    : It. 24000 - 24000 nodes created - worst tet radius 1.96617 (nodes removed 0 0)\n",
      "Info    : It. 24500 - 24500 nodes created - worst tet radius 1.95423 (nodes removed 0 0)\n",
      "Info    : It. 25000 - 25000 nodes created - worst tet radius 1.94277 (nodes removed 0 0)\n",
      "Info    : It. 25500 - 25500 nodes created - worst tet radius 1.93152 (nodes removed 0 0)\n",
      "Info    : It. 26000 - 26000 nodes created - worst tet radius 1.92045 (nodes removed 0 0)\n",
      "Info    : It. 26500 - 26500 nodes created - worst tet radius 1.90925 (nodes removed 0 0)\n",
      "Info    : It. 27000 - 27000 nodes created - worst tet radius 1.899 (nodes removed 0 0)\n",
      "Info    : It. 27500 - 27500 nodes created - worst tet radius 1.88906 (nodes removed 0 0)\n",
      "Info    : It. 28000 - 28000 nodes created - worst tet radius 1.87918 (nodes removed 0 0)\n",
      "Info    : It. 28500 - 28500 nodes created - worst tet radius 1.86985 (nodes removed 0 0)\n",
      "Info    : It. 29000 - 29000 nodes created - worst tet radius 1.86025 (nodes removed 0 0)\n",
      "Info    : It. 29500 - 29500 nodes created - worst tet radius 1.85074 (nodes removed 0 0)\n",
      "Info    : It. 30000 - 30000 nodes created - worst tet radius 1.84206 (nodes removed 0 0)\n",
      "Info    : It. 30500 - 30500 nodes created - worst tet radius 1.8331 (nodes removed 0 0)\n",
      "Info    : It. 31000 - 31000 nodes created - worst tet radius 1.82485 (nodes removed 0 0)\n",
      "Info    : It. 31500 - 31500 nodes created - worst tet radius 1.81602 (nodes removed 0 0)\n",
      "Info    : It. 32000 - 32000 nodes created - worst tet radius 1.80663 (nodes removed 0 0)\n",
      "Info    : It. 32500 - 32500 nodes created - worst tet radius 1.79837 (nodes removed 0 0)\n",
      "Info    : It. 33000 - 33000 nodes created - worst tet radius 1.78986 (nodes removed 0 0)\n",
      "Info    : It. 33500 - 33500 nodes created - worst tet radius 1.78223 (nodes removed 0 0)\n",
      "Info    : It. 34000 - 34000 nodes created - worst tet radius 1.77409 (nodes removed 0 0)\n",
      "Info    : It. 34500 - 34500 nodes created - worst tet radius 1.76605 (nodes removed 0 0)\n",
      "Info    : It. 35000 - 35000 nodes created - worst tet radius 1.75875 (nodes removed 0 0)\n",
      "Info    : It. 35500 - 35500 nodes created - worst tet radius 1.75124 (nodes removed 0 0)\n",
      "Info    : It. 36000 - 36000 nodes created - worst tet radius 1.74394 (nodes removed 0 0)\n",
      "Info    : It. 36500 - 36500 nodes created - worst tet radius 1.73694 (nodes removed 0 0)\n",
      "Info    : It. 37000 - 37000 nodes created - worst tet radius 1.72938 (nodes removed 0 0)\n",
      "Info    : It. 37500 - 37500 nodes created - worst tet radius 1.722 (nodes removed 0 0)\n",
      "Info    : It. 38000 - 38000 nodes created - worst tet radius 1.71511 (nodes removed 0 0)\n",
      "Info    : It. 38500 - 38500 nodes created - worst tet radius 1.70796 (nodes removed 0 0)\n",
      "Info    : It. 39000 - 39000 nodes created - worst tet radius 1.70092 (nodes removed 0 0)\n",
      "Info    : It. 39500 - 39500 nodes created - worst tet radius 1.69407 (nodes removed 0 0)\n",
      "Info    : It. 40000 - 40000 nodes created - worst tet radius 1.68705 (nodes removed 0 0)\n",
      "Info    : It. 40500 - 40500 nodes created - worst tet radius 1.68042 (nodes removed 0 0)\n",
      "Info    : It. 41000 - 41000 nodes created - worst tet radius 1.67379 (nodes removed 0 0)\n",
      "Info    : It. 41500 - 41500 nodes created - worst tet radius 1.66749 (nodes removed 0 0)\n",
      "Info    : It. 42000 - 42000 nodes created - worst tet radius 1.6613 (nodes removed 0 0)\n",
      "Info    : It. 42500 - 42500 nodes created - worst tet radius 1.65492 (nodes removed 0 0)\n",
      "Info    : It. 43000 - 43000 nodes created - worst tet radius 1.64903 (nodes removed 0 0)\n",
      "Info    : It. 43500 - 43500 nodes created - worst tet radius 1.64301 (nodes removed 0 0)\n",
      "Info    : It. 44000 - 44000 nodes created - worst tet radius 1.63693 (nodes removed 0 0)\n",
      "Info    : It. 44500 - 44500 nodes created - worst tet radius 1.63054 (nodes removed 0 0)\n",
      "Info    : It. 45000 - 45000 nodes created - worst tet radius 1.62461 (nodes removed 0 0)\n",
      "Info    : It. 45500 - 45500 nodes created - worst tet radius 1.6186 (nodes removed 0 0)\n",
      "Info    : It. 46000 - 46000 nodes created - worst tet radius 1.61331 (nodes removed 0 0)\n",
      "Info    : It. 46500 - 46500 nodes created - worst tet radius 1.60773 (nodes removed 0 0)\n",
      "Info    : It. 47000 - 47000 nodes created - worst tet radius 1.60265 (nodes removed 0 0)\n",
      "Info    : It. 47500 - 47500 nodes created - worst tet radius 1.59732 (nodes removed 0 0)\n",
      "Info    : It. 48000 - 48000 nodes created - worst tet radius 1.5919 (nodes removed 0 0)\n",
      "Info    : It. 48500 - 48500 nodes created - worst tet radius 1.58686 (nodes removed 0 0)\n",
      "Info    : It. 49000 - 49000 nodes created - worst tet radius 1.58176 (nodes removed 0 0)\n",
      "Info    : It. 49500 - 49500 nodes created - worst tet radius 1.57678 (nodes removed 0 0)\n",
      "Info    : It. 50000 - 50000 nodes created - worst tet radius 1.57238 (nodes removed 0 0)\n",
      "Info    : It. 50500 - 50500 nodes created - worst tet radius 1.5673 (nodes removed 0 0)\n",
      "Info    : It. 51000 - 51000 nodes created - worst tet radius 1.56246 (nodes removed 0 0)\n",
      "Info    : It. 51500 - 51500 nodes created - worst tet radius 1.5574 (nodes removed 0 0)\n",
      "Info    : It. 52000 - 52000 nodes created - worst tet radius 1.55225 (nodes removed 0 0)\n",
      "Info    : It. 52500 - 52500 nodes created - worst tet radius 1.54957 (nodes removed 0 0)\n",
      "Info    : It. 53000 - 53000 nodes created - worst tet radius 1.54291 (nodes removed 0 0)\n",
      "Info    : It. 53500 - 53500 nodes created - worst tet radius 1.53821 (nodes removed 0 0)\n",
      "Info    : It. 54000 - 54000 nodes created - worst tet radius 1.5333 (nodes removed 0 0)\n",
      "Info    : It. 54500 - 54500 nodes created - worst tet radius 1.52897 (nodes removed 0 0)\n",
      "Info    : It. 55000 - 55000 nodes created - worst tet radius 1.52432 (nodes removed 0 0)\n",
      "Info    : It. 55500 - 55500 nodes created - worst tet radius 1.52027 (nodes removed 0 0)\n",
      "Info    : It. 56000 - 56000 nodes created - worst tet radius 1.51571 (nodes removed 0 0)\n",
      "Info    : It. 56500 - 56500 nodes created - worst tet radius 1.51136 (nodes removed 0 0)\n",
      "Info    : It. 57000 - 57000 nodes created - worst tet radius 1.50735 (nodes removed 0 0)\n",
      "Info    : It. 57500 - 57500 nodes created - worst tet radius 1.5033 (nodes removed 0 0)\n",
      "Info    : It. 58000 - 58000 nodes created - worst tet radius 1.50035 (nodes removed 0 0)\n",
      "Info    : It. 58500 - 58500 nodes created - worst tet radius 1.49528 (nodes removed 0 0)\n",
      "Info    : It. 59000 - 59000 nodes created - worst tet radius 1.49121 (nodes removed 0 0)\n",
      "Info    : It. 59500 - 59500 nodes created - worst tet radius 1.4874 (nodes removed 0 0)\n",
      "Info    : It. 60000 - 60000 nodes created - worst tet radius 1.48384 (nodes removed 0 0)\n",
      "Info    : It. 60500 - 60500 nodes created - worst tet radius 1.47973 (nodes removed 0 0)\n",
      "Info    : It. 61000 - 61000 nodes created - worst tet radius 1.47614 (nodes removed 0 0)\n",
      "Info    : It. 61500 - 61500 nodes created - worst tet radius 1.47259 (nodes removed 0 0)\n",
      "Info    : It. 62000 - 62000 nodes created - worst tet radius 1.46902 (nodes removed 0 0)\n",
      "Info    : It. 62500 - 62500 nodes created - worst tet radius 1.46509 (nodes removed 0 0)\n",
      "Info    : It. 63000 - 63000 nodes created - worst tet radius 1.46134 (nodes removed 0 0)\n",
      "Info    : It. 63500 - 63500 nodes created - worst tet radius 1.45774 (nodes removed 0 0)\n",
      "Info    : It. 64000 - 64000 nodes created - worst tet radius 1.45406 (nodes removed 0 0)\n",
      "Info    : It. 64500 - 64500 nodes created - worst tet radius 1.45063 (nodes removed 0 0)\n",
      "Info    : It. 65000 - 65000 nodes created - worst tet radius 1.44711 (nodes removed 0 0)\n",
      "Info    : It. 65500 - 65500 nodes created - worst tet radius 1.44376 (nodes removed 0 0)\n",
      "Info    : It. 66000 - 66000 nodes created - worst tet radius 1.44028 (nodes removed 0 0)\n",
      "Info    : It. 66500 - 66500 nodes created - worst tet radius 1.43696 (nodes removed 0 0)\n",
      "Info    : It. 67000 - 67000 nodes created - worst tet radius 1.43378 (nodes removed 0 0)\n",
      "Info    : It. 67500 - 67500 nodes created - worst tet radius 1.43052 (nodes removed 0 0)\n",
      "Info    : It. 68000 - 68000 nodes created - worst tet radius 1.42746 (nodes removed 0 0)\n",
      "Info    : It. 68500 - 68500 nodes created - worst tet radius 1.42421 (nodes removed 0 0)\n",
      "Info    : It. 69000 - 69000 nodes created - worst tet radius 1.42114 (nodes removed 0 0)\n",
      "Info    : It. 69500 - 69500 nodes created - worst tet radius 1.4179 (nodes removed 0 0)\n",
      "Info    : It. 70000 - 70000 nodes created - worst tet radius 1.41484 (nodes removed 0 0)\n",
      "Info    : It. 70500 - 70500 nodes created - worst tet radius 1.4118 (nodes removed 0 0)\n",
      "Info    : It. 71000 - 71000 nodes created - worst tet radius 1.40882 (nodes removed 0 0)\n",
      "Info    : It. 71500 - 71500 nodes created - worst tet radius 1.40574 (nodes removed 0 0)\n",
      "Info    : It. 72000 - 72000 nodes created - worst tet radius 1.40286 (nodes removed 0 0)\n",
      "Info    : It. 72500 - 72500 nodes created - worst tet radius 1.39995 (nodes removed 0 0)\n",
      "Info    : It. 73000 - 73000 nodes created - worst tet radius 1.39703 (nodes removed 0 0)\n",
      "Info    : It. 73500 - 73500 nodes created - worst tet radius 1.39403 (nodes removed 0 0)\n",
      "Info    : It. 74000 - 74000 nodes created - worst tet radius 1.39112 (nodes removed 0 0)\n",
      "Info    : It. 74500 - 74500 nodes created - worst tet radius 1.38834 (nodes removed 0 0)\n",
      "Info    : It. 75000 - 75000 nodes created - worst tet radius 1.3854 (nodes removed 0 0)\n",
      "Info    : It. 75500 - 75500 nodes created - worst tet radius 1.38241 (nodes removed 0 0)\n",
      "Info    : It. 76000 - 76000 nodes created - worst tet radius 1.37921 (nodes removed 0 0)\n",
      "Info    : It. 76500 - 76500 nodes created - worst tet radius 1.3768 (nodes removed 0 0)\n",
      "Info    : It. 77000 - 77000 nodes created - worst tet radius 1.37397 (nodes removed 0 0)\n",
      "Info    : It. 77500 - 77500 nodes created - worst tet radius 1.37131 (nodes removed 0 0)\n",
      "Info    : It. 78000 - 78000 nodes created - worst tet radius 1.36842 (nodes removed 0 0)\n",
      "Info    : It. 78500 - 78500 nodes created - worst tet radius 1.36573 (nodes removed 0 0)\n",
      "Info    : It. 79000 - 79000 nodes created - worst tet radius 1.36268 (nodes removed 0 0)\n",
      "Info    : It. 79500 - 79500 nodes created - worst tet radius 1.35988 (nodes removed 0 0)\n",
      "Info    : It. 80000 - 80000 nodes created - worst tet radius 1.35704 (nodes removed 0 0)\n",
      "Info    : It. 80500 - 80500 nodes created - worst tet radius 1.35428 (nodes removed 0 0)\n",
      "Info    : It. 81000 - 81000 nodes created - worst tet radius 1.35164 (nodes removed 0 0)\n",
      "Info    : It. 81500 - 81500 nodes created - worst tet radius 1.34927 (nodes removed 0 0)\n",
      "Info    : It. 82000 - 82000 nodes created - worst tet radius 1.34659 (nodes removed 0 0)\n",
      "Info    : It. 82500 - 82500 nodes created - worst tet radius 1.34393 (nodes removed 0 0)\n",
      "Info    : It. 83000 - 83000 nodes created - worst tet radius 1.34126 (nodes removed 0 0)\n",
      "Info    : It. 83500 - 83500 nodes created - worst tet radius 1.3387 (nodes removed 0 0)\n",
      "Info    : It. 84000 - 84000 nodes created - worst tet radius 1.33625 (nodes removed 0 0)\n",
      "Info    : It. 84500 - 84500 nodes created - worst tet radius 1.33379 (nodes removed 0 0)\n",
      "Info    : It. 85000 - 85000 nodes created - worst tet radius 1.33141 (nodes removed 0 0)\n",
      "Info    : It. 85500 - 85500 nodes created - worst tet radius 1.32881 (nodes removed 0 0)\n",
      "Info    : It. 86000 - 86000 nodes created - worst tet radius 1.32641 (nodes removed 0 0)\n",
      "Info    : It. 86500 - 86500 nodes created - worst tet radius 1.32389 (nodes removed 0 0)\n",
      "Info    : It. 87000 - 87000 nodes created - worst tet radius 1.32158 (nodes removed 0 0)\n",
      "Info    : It. 87500 - 87500 nodes created - worst tet radius 1.31932 (nodes removed 0 0)\n",
      "Info    : It. 88000 - 88000 nodes created - worst tet radius 1.31703 (nodes removed 0 0)\n",
      "Info    : It. 88500 - 88500 nodes created - worst tet radius 1.31461 (nodes removed 0 0)\n",
      "Info    : It. 89000 - 89000 nodes created - worst tet radius 1.31235 (nodes removed 0 0)\n",
      "Info    : It. 89500 - 89500 nodes created - worst tet radius 1.31013 (nodes removed 0 0)\n",
      "Info    : It. 90000 - 90000 nodes created - worst tet radius 1.30789 (nodes removed 0 0)\n",
      "Info    : It. 90500 - 90500 nodes created - worst tet radius 1.30565 (nodes removed 0 0)\n",
      "Info    : It. 91000 - 91000 nodes created - worst tet radius 1.30317 (nodes removed 0 0)\n",
      "Info    : It. 91500 - 91500 nodes created - worst tet radius 1.30094 (nodes removed 0 0)\n",
      "Info    : It. 92000 - 92000 nodes created - worst tet radius 1.29855 (nodes removed 0 0)\n",
      "Info    : It. 92500 - 92500 nodes created - worst tet radius 1.2964 (nodes removed 0 0)\n",
      "Info    : It. 93000 - 93000 nodes created - worst tet radius 1.29427 (nodes removed 0 0)\n",
      "Info    : It. 93500 - 93500 nodes created - worst tet radius 1.29204 (nodes removed 0 0)\n",
      "Info    : It. 94000 - 94000 nodes created - worst tet radius 1.29001 (nodes removed 0 0)\n",
      "Info    : It. 94500 - 94500 nodes created - worst tet radius 1.28785 (nodes removed 0 0)\n",
      "Info    : It. 95000 - 95000 nodes created - worst tet radius 1.28582 (nodes removed 0 0)\n",
      "Info    : It. 95500 - 95500 nodes created - worst tet radius 1.28345 (nodes removed 0 0)\n",
      "Info    : It. 96000 - 96000 nodes created - worst tet radius 1.28134 (nodes removed 0 0)\n",
      "Info    : It. 96500 - 96500 nodes created - worst tet radius 1.27941 (nodes removed 0 0)\n",
      "Info    : It. 97000 - 97000 nodes created - worst tet radius 1.27719 (nodes removed 0 0)\n",
      "Info    : It. 97500 - 97500 nodes created - worst tet radius 1.27506 (nodes removed 0 0)\n",
      "Info    : It. 98000 - 98000 nodes created - worst tet radius 1.27306 (nodes removed 0 0)\n",
      "Info    : It. 98500 - 98500 nodes created - worst tet radius 1.27085 (nodes removed 0 0)\n",
      "Info    : It. 99000 - 99000 nodes created - worst tet radius 1.26897 (nodes removed 0 0)\n",
      "Info    : It. 99500 - 99500 nodes created - worst tet radius 1.26713 (nodes removed 0 0)\n",
      "Info    : It. 100000 - 100000 nodes created - worst tet radius 1.26518 (nodes removed 0 0)\n",
      "Info    : It. 100500 - 100500 nodes created - worst tet radius 1.26311 (nodes removed 0 0)\n",
      "Info    : It. 101000 - 101000 nodes created - worst tet radius 1.26116 (nodes removed 0 0)\n",
      "Info    : It. 101500 - 101500 nodes created - worst tet radius 1.25921 (nodes removed 0 0)\n",
      "Info    : It. 102000 - 102000 nodes created - worst tet radius 1.25728 (nodes removed 0 0)\n",
      "Info    : It. 102500 - 102500 nodes created - worst tet radius 1.25532 (nodes removed 0 0)\n",
      "Info    : It. 103000 - 103000 nodes created - worst tet radius 1.25334 (nodes removed 0 0)\n",
      "Info    : It. 103500 - 103500 nodes created - worst tet radius 1.25139 (nodes removed 0 0)\n",
      "Info    : It. 104000 - 104000 nodes created - worst tet radius 1.24974 (nodes removed 0 0)\n",
      "Info    : It. 104500 - 104500 nodes created - worst tet radius 1.24788 (nodes removed 0 0)\n",
      "Info    : It. 105000 - 105000 nodes created - worst tet radius 1.24593 (nodes removed 0 0)\n",
      "Info    : It. 105500 - 105500 nodes created - worst tet radius 1.24404 (nodes removed 0 0)\n",
      "Info    : It. 106000 - 106000 nodes created - worst tet radius 1.24215 (nodes removed 0 0)\n",
      "Info    : It. 106500 - 106500 nodes created - worst tet radius 1.2403 (nodes removed 0 0)\n",
      "Info    : It. 107000 - 107000 nodes created - worst tet radius 1.23859 (nodes removed 0 0)\n",
      "Info    : It. 107500 - 107500 nodes created - worst tet radius 1.23671 (nodes removed 0 0)\n",
      "Info    : It. 108000 - 108000 nodes created - worst tet radius 1.23476 (nodes removed 0 0)\n",
      "Info    : It. 108500 - 108500 nodes created - worst tet radius 1.2329 (nodes removed 0 0)\n",
      "Info    : It. 109000 - 109000 nodes created - worst tet radius 1.23097 (nodes removed 0 0)\n",
      "Info    : It. 109500 - 109500 nodes created - worst tet radius 1.22909 (nodes removed 0 0)\n",
      "Info    : It. 110000 - 110000 nodes created - worst tet radius 1.22729 (nodes removed 0 0)\n",
      "Info    : It. 110500 - 110500 nodes created - worst tet radius 1.22553 (nodes removed 0 0)\n",
      "Info    : It. 111000 - 111000 nodes created - worst tet radius 1.22382 (nodes removed 0 0)\n",
      "Info    : It. 111500 - 111500 nodes created - worst tet radius 1.22211 (nodes removed 0 0)\n",
      "Info    : It. 112000 - 112000 nodes created - worst tet radius 1.2202 (nodes removed 0 0)\n",
      "Info    : It. 112500 - 112500 nodes created - worst tet radius 1.21846 (nodes removed 0 0)\n",
      "Info    : It. 113000 - 113000 nodes created - worst tet radius 1.21663 (nodes removed 0 0)\n",
      "Info    : It. 113500 - 113500 nodes created - worst tet radius 1.21489 (nodes removed 0 0)\n",
      "Info    : It. 114000 - 114000 nodes created - worst tet radius 1.21319 (nodes removed 0 0)\n",
      "Info    : It. 114500 - 114500 nodes created - worst tet radius 1.21147 (nodes removed 0 0)\n",
      "Info    : It. 115000 - 115000 nodes created - worst tet radius 1.20997 (nodes removed 0 0)\n",
      "Info    : It. 115500 - 115500 nodes created - worst tet radius 1.20841 (nodes removed 0 0)\n",
      "Info    : It. 116000 - 116000 nodes created - worst tet radius 1.20685 (nodes removed 0 0)\n",
      "Info    : It. 116500 - 116500 nodes created - worst tet radius 1.20526 (nodes removed 0 0)\n",
      "Info    : It. 117000 - 117000 nodes created - worst tet radius 1.20367 (nodes removed 0 0)\n",
      "Info    : It. 117500 - 117500 nodes created - worst tet radius 1.20209 (nodes removed 0 0)\n",
      "Info    : It. 118000 - 118000 nodes created - worst tet radius 1.20032 (nodes removed 0 0)\n",
      "Info    : It. 118500 - 118500 nodes created - worst tet radius 1.19871 (nodes removed 0 0)\n",
      "Info    : It. 119000 - 119000 nodes created - worst tet radius 1.19705 (nodes removed 0 0)\n",
      "Info    : It. 119500 - 119500 nodes created - worst tet radius 1.19548 (nodes removed 0 0)\n",
      "Info    : It. 120000 - 120000 nodes created - worst tet radius 1.19379 (nodes removed 0 0)\n",
      "Info    : It. 120500 - 120500 nodes created - worst tet radius 1.19208 (nodes removed 0 0)\n",
      "Info    : It. 121000 - 121000 nodes created - worst tet radius 1.19058 (nodes removed 0 0)\n",
      "Info    : It. 121500 - 121500 nodes created - worst tet radius 1.18907 (nodes removed 0 0)\n",
      "Info    : It. 122000 - 122000 nodes created - worst tet radius 1.18754 (nodes removed 0 0)\n",
      "Info    : It. 122500 - 122500 nodes created - worst tet radius 1.18601 (nodes removed 0 0)\n",
      "Info    : It. 123000 - 123000 nodes created - worst tet radius 1.18439 (nodes removed 0 0)\n",
      "Info    : It. 123500 - 123500 nodes created - worst tet radius 1.18279 (nodes removed 0 0)\n",
      "Info    : It. 124000 - 124000 nodes created - worst tet radius 1.18126 (nodes removed 0 0)\n",
      "Info    : It. 124500 - 124500 nodes created - worst tet radius 1.17976 (nodes removed 0 0)\n",
      "Info    : It. 125000 - 125000 nodes created - worst tet radius 1.1783 (nodes removed 0 0)\n",
      "Info    : It. 125500 - 125500 nodes created - worst tet radius 1.17681 (nodes removed 0 0)\n",
      "Info    : It. 126000 - 126000 nodes created - worst tet radius 1.17529 (nodes removed 0 0)\n",
      "Info    : It. 126500 - 126500 nodes created - worst tet radius 1.17373 (nodes removed 0 0)\n",
      "Info    : It. 127000 - 127000 nodes created - worst tet radius 1.1723 (nodes removed 0 0)\n",
      "Info    : It. 127500 - 127500 nodes created - worst tet radius 1.17076 (nodes removed 0 0)\n",
      "Info    : It. 128000 - 128000 nodes created - worst tet radius 1.1693 (nodes removed 0 0)\n",
      "Info    : It. 128500 - 128500 nodes created - worst tet radius 1.16782 (nodes removed 0 0)\n",
      "Info    : It. 129000 - 129000 nodes created - worst tet radius 1.16635 (nodes removed 0 0)\n",
      "Info    : It. 129500 - 129500 nodes created - worst tet radius 1.16494 (nodes removed 0 0)\n",
      "Info    : It. 130000 - 130000 nodes created - worst tet radius 1.16349 (nodes removed 0 0)\n",
      "Info    : It. 130500 - 130500 nodes created - worst tet radius 1.16208 (nodes removed 0 0)\n",
      "Info    : It. 131000 - 131000 nodes created - worst tet radius 1.1606 (nodes removed 0 0)\n",
      "Info    : It. 131500 - 131500 nodes created - worst tet radius 1.15912 (nodes removed 0 0)\n",
      "Info    : It. 132000 - 132000 nodes created - worst tet radius 1.15775 (nodes removed 0 0)\n",
      "Info    : It. 132500 - 132500 nodes created - worst tet radius 1.15641 (nodes removed 0 0)\n",
      "Info    : It. 133000 - 133000 nodes created - worst tet radius 1.15511 (nodes removed 0 0)\n",
      "Info    : It. 133500 - 133500 nodes created - worst tet radius 1.1537 (nodes removed 0 0)\n",
      "Info    : It. 134000 - 134000 nodes created - worst tet radius 1.15244 (nodes removed 0 0)\n",
      "Info    : It. 134500 - 134500 nodes created - worst tet radius 1.15106 (nodes removed 0 0)\n",
      "Info    : It. 135000 - 135000 nodes created - worst tet radius 1.14971 (nodes removed 0 0)\n",
      "Info    : It. 135500 - 135500 nodes created - worst tet radius 1.14833 (nodes removed 0 0)\n",
      "Info    : It. 136000 - 136000 nodes created - worst tet radius 1.14702 (nodes removed 0 0)\n",
      "Info    : It. 136500 - 136500 nodes created - worst tet radius 1.14562 (nodes removed 0 0)\n",
      "Info    : It. 137000 - 137000 nodes created - worst tet radius 1.14444 (nodes removed 0 0)\n",
      "Info    : It. 137500 - 137500 nodes created - worst tet radius 1.14312 (nodes removed 0 0)\n",
      "Info    : It. 138000 - 138000 nodes created - worst tet radius 1.14181 (nodes removed 0 0)\n",
      "Info    : It. 138500 - 138500 nodes created - worst tet radius 1.14051 (nodes removed 0 0)\n",
      "Info    : It. 139000 - 139000 nodes created - worst tet radius 1.13921 (nodes removed 0 0)\n",
      "Info    : It. 139500 - 139500 nodes created - worst tet radius 1.1379 (nodes removed 0 0)\n",
      "Info    : It. 140000 - 140000 nodes created - worst tet radius 1.13659 (nodes removed 0 0)\n",
      "Info    : It. 140500 - 140500 nodes created - worst tet radius 1.13534 (nodes removed 0 0)\n",
      "Info    : It. 141000 - 141000 nodes created - worst tet radius 1.134 (nodes removed 0 0)\n",
      "Info    : It. 141500 - 141500 nodes created - worst tet radius 1.1327 (nodes removed 0 0)\n",
      "Info    : It. 142000 - 142000 nodes created - worst tet radius 1.13142 (nodes removed 0 0)\n",
      "Info    : It. 142500 - 142500 nodes created - worst tet radius 1.13018 (nodes removed 0 0)\n",
      "Info    : It. 143000 - 143000 nodes created - worst tet radius 1.12896 (nodes removed 0 0)\n",
      "Info    : It. 143500 - 143500 nodes created - worst tet radius 1.12769 (nodes removed 0 0)\n",
      "Info    : It. 144000 - 144000 nodes created - worst tet radius 1.12652 (nodes removed 0 0)\n",
      "Info    : It. 144500 - 144500 nodes created - worst tet radius 1.12531 (nodes removed 0 0)\n",
      "Info    : It. 145000 - 145000 nodes created - worst tet radius 1.12408 (nodes removed 0 0)\n",
      "Info    : It. 145500 - 145500 nodes created - worst tet radius 1.12282 (nodes removed 0 0)\n",
      "Info    : It. 146000 - 146000 nodes created - worst tet radius 1.12157 (nodes removed 0 0)\n",
      "Info    : It. 146500 - 146500 nodes created - worst tet radius 1.1204 (nodes removed 0 0)\n",
      "Info    : It. 147000 - 147000 nodes created - worst tet radius 1.11919 (nodes removed 0 0)\n",
      "Info    : It. 147500 - 147500 nodes created - worst tet radius 1.13473 (nodes removed 0 0)\n",
      "Info    : It. 148000 - 148000 nodes created - worst tet radius 1.1168 (nodes removed 0 0)\n",
      "Info    : It. 148500 - 148500 nodes created - worst tet radius 1.1156 (nodes removed 0 0)\n",
      "Info    : It. 149000 - 149000 nodes created - worst tet radius 1.11448 (nodes removed 0 0)\n",
      "Info    : It. 149500 - 149500 nodes created - worst tet radius 1.11332 (nodes removed 0 0)\n",
      "Info    : It. 150000 - 150000 nodes created - worst tet radius 1.11216 (nodes removed 0 0)\n",
      "Info    : It. 150500 - 150500 nodes created - worst tet radius 1.11103 (nodes removed 0 0)\n",
      "Info    : It. 151000 - 151000 nodes created - worst tet radius 1.10988 (nodes removed 0 0)\n",
      "Info    : It. 151500 - 151500 nodes created - worst tet radius 1.10869 (nodes removed 0 0)\n",
      "Info    : It. 152000 - 152000 nodes created - worst tet radius 1.10747 (nodes removed 0 0)\n",
      "Info    : It. 152500 - 152500 nodes created - worst tet radius 1.10627 (nodes removed 0 0)\n",
      "Info    : It. 153000 - 153000 nodes created - worst tet radius 1.1051 (nodes removed 0 0)\n",
      "Info    : It. 153500 - 153500 nodes created - worst tet radius 1.10398 (nodes removed 0 0)\n",
      "Info    : It. 154000 - 154000 nodes created - worst tet radius 1.10287 (nodes removed 0 0)\n",
      "Info    : It. 154500 - 154500 nodes created - worst tet radius 1.10172 (nodes removed 0 0)\n",
      "Info    : It. 155000 - 155000 nodes created - worst tet radius 1.10063 (nodes removed 0 0)\n",
      "Info    : It. 155500 - 155500 nodes created - worst tet radius 1.09948 (nodes removed 0 0)\n",
      "Info    : It. 156000 - 156000 nodes created - worst tet radius 1.09846 (nodes removed 0 0)\n",
      "Info    : It. 156500 - 156500 nodes created - worst tet radius 1.09732 (nodes removed 0 0)\n",
      "Info    : It. 157000 - 157000 nodes created - worst tet radius 1.09635 (nodes removed 0 0)\n",
      "Info    : It. 157500 - 157500 nodes created - worst tet radius 1.09527 (nodes removed 0 0)\n",
      "Info    : It. 158000 - 158000 nodes created - worst tet radius 1.09419 (nodes removed 0 0)\n",
      "Info    : It. 158500 - 158500 nodes created - worst tet radius 1.09309 (nodes removed 0 0)\n",
      "Info    : It. 159000 - 159000 nodes created - worst tet radius 1.09199 (nodes removed 0 0)\n",
      "Info    : It. 159500 - 159500 nodes created - worst tet radius 1.09087 (nodes removed 0 0)\n",
      "Info    : It. 160000 - 160000 nodes created - worst tet radius 1.08977 (nodes removed 0 0)\n",
      "Info    : It. 160500 - 160500 nodes created - worst tet radius 1.0887 (nodes removed 0 0)\n",
      "Info    : It. 161000 - 161000 nodes created - worst tet radius 1.0876 (nodes removed 0 0)\n",
      "Info    : It. 161500 - 161500 nodes created - worst tet radius 1.08656 (nodes removed 0 0)\n",
      "Info    : It. 162000 - 162000 nodes created - worst tet radius 1.08547 (nodes removed 0 0)\n",
      "Info    : It. 162500 - 162500 nodes created - worst tet radius 1.08438 (nodes removed 0 0)\n",
      "Info    : It. 163000 - 163000 nodes created - worst tet radius 1.0833 (nodes removed 0 0)\n",
      "Info    : It. 163500 - 163500 nodes created - worst tet radius 1.08227 (nodes removed 0 0)\n",
      "Info    : It. 164000 - 164000 nodes created - worst tet radius 1.08111 (nodes removed 0 0)\n",
      "Info    : It. 164500 - 164500 nodes created - worst tet radius 1.08009 (nodes removed 0 0)\n",
      "Info    : It. 165000 - 165000 nodes created - worst tet radius 1.07908 (nodes removed 0 0)\n",
      "Info    : It. 165500 - 165500 nodes created - worst tet radius 1.07805 (nodes removed 0 0)\n",
      "Info    : It. 166000 - 166000 nodes created - worst tet radius 1.07699 (nodes removed 0 0)\n",
      "Info    : It. 166500 - 166500 nodes created - worst tet radius 1.07598 (nodes removed 0 0)\n",
      "Info    : It. 167000 - 167000 nodes created - worst tet radius 1.07498 (nodes removed 0 0)\n",
      "Info    : It. 167500 - 167500 nodes created - worst tet radius 1.07404 (nodes removed 0 0)\n",
      "Info    : It. 168000 - 168000 nodes created - worst tet radius 1.07303 (nodes removed 0 0)\n",
      "Info    : It. 168500 - 168500 nodes created - worst tet radius 1.07212 (nodes removed 0 0)\n",
      "Info    : It. 169000 - 169000 nodes created - worst tet radius 1.07111 (nodes removed 0 0)\n",
      "Info    : It. 169500 - 169500 nodes created - worst tet radius 1.07007 (nodes removed 0 0)\n",
      "Info    : It. 170000 - 170000 nodes created - worst tet radius 1.06912 (nodes removed 0 0)\n",
      "Info    : It. 170500 - 170500 nodes created - worst tet radius 1.0681 (nodes removed 0 0)\n",
      "Info    : It. 171000 - 171000 nodes created - worst tet radius 1.06704 (nodes removed 0 0)\n",
      "Info    : It. 171500 - 171500 nodes created - worst tet radius 1.06608 (nodes removed 0 0)\n",
      "Info    : It. 172000 - 172000 nodes created - worst tet radius 1.06515 (nodes removed 0 0)\n",
      "Info    : It. 172500 - 172500 nodes created - worst tet radius 1.06416 (nodes removed 0 0)\n",
      "Info    : It. 173000 - 173000 nodes created - worst tet radius 1.0633 (nodes removed 0 0)\n",
      "Info    : It. 173500 - 173500 nodes created - worst tet radius 1.06229 (nodes removed 0 0)\n",
      "Info    : It. 174000 - 174000 nodes created - worst tet radius 1.06123 (nodes removed 0 0)\n",
      "Info    : It. 174500 - 174500 nodes created - worst tet radius 1.06025 (nodes removed 0 0)\n",
      "Info    : It. 175000 - 175000 nodes created - worst tet radius 1.05936 (nodes removed 0 0)\n",
      "Info    : It. 175500 - 175500 nodes created - worst tet radius 1.05839 (nodes removed 0 0)\n",
      "Info    : It. 176000 - 176000 nodes created - worst tet radius 1.05752 (nodes removed 0 0)\n",
      "Info    : It. 176500 - 176500 nodes created - worst tet radius 1.05656 (nodes removed 0 0)\n",
      "Info    : It. 177000 - 177000 nodes created - worst tet radius 1.05567 (nodes removed 0 0)\n",
      "Info    : It. 177500 - 177500 nodes created - worst tet radius 1.05475 (nodes removed 0 0)\n",
      "Info    : It. 178000 - 178000 nodes created - worst tet radius 1.05391 (nodes removed 0 0)\n",
      "Info    : It. 178500 - 178500 nodes created - worst tet radius 1.05307 (nodes removed 0 0)\n",
      "Info    : It. 179000 - 179000 nodes created - worst tet radius 1.05211 (nodes removed 0 0)\n",
      "Info    : It. 179500 - 179500 nodes created - worst tet radius 1.05114 (nodes removed 0 0)\n",
      "Info    : It. 180000 - 180000 nodes created - worst tet radius 1.05024 (nodes removed 0 0)\n",
      "Info    : It. 180500 - 180500 nodes created - worst tet radius 1.04934 (nodes removed 0 0)\n",
      "Info    : It. 181000 - 181000 nodes created - worst tet radius 1.04842 (nodes removed 0 0)\n",
      "Info    : It. 181500 - 181500 nodes created - worst tet radius 1.04751 (nodes removed 0 0)\n",
      "Info    : It. 182000 - 182000 nodes created - worst tet radius 1.04663 (nodes removed 0 0)\n",
      "Info    : It. 182500 - 182500 nodes created - worst tet radius 1.04577 (nodes removed 0 0)\n",
      "Info    : It. 183000 - 183000 nodes created - worst tet radius 1.04486 (nodes removed 0 0)\n",
      "Info    : It. 183500 - 183500 nodes created - worst tet radius 1.04407 (nodes removed 0 0)\n",
      "Info    : It. 184000 - 184000 nodes created - worst tet radius 1.04313 (nodes removed 0 0)\n",
      "Info    : It. 184500 - 184500 nodes created - worst tet radius 1.04226 (nodes removed 0 0)\n",
      "Info    : It. 185000 - 185000 nodes created - worst tet radius 1.04132 (nodes removed 0 0)\n",
      "Info    : It. 185500 - 185500 nodes created - worst tet radius 1.04048 (nodes removed 0 0)\n",
      "Info    : It. 186000 - 186000 nodes created - worst tet radius 1.03964 (nodes removed 0 0)\n",
      "Info    : It. 186500 - 186500 nodes created - worst tet radius 1.03874 (nodes removed 0 0)\n",
      "Info    : It. 187000 - 187000 nodes created - worst tet radius 1.03787 (nodes removed 0 0)\n",
      "Info    : It. 187500 - 187500 nodes created - worst tet radius 1.03702 (nodes removed 0 0)\n",
      "Info    : It. 188000 - 188000 nodes created - worst tet radius 1.03619 (nodes removed 0 0)\n",
      "Info    : It. 188500 - 188500 nodes created - worst tet radius 1.03532 (nodes removed 0 0)\n",
      "Info    : It. 189000 - 189000 nodes created - worst tet radius 1.03439 (nodes removed 0 0)\n",
      "Info    : It. 189500 - 189500 nodes created - worst tet radius 1.03357 (nodes removed 0 0)\n",
      "Info    : It. 190000 - 190000 nodes created - worst tet radius 1.03272 (nodes removed 0 0)\n",
      "Info    : It. 190500 - 190500 nodes created - worst tet radius 1.03185 (nodes removed 0 0)\n",
      "Info    : It. 191000 - 191000 nodes created - worst tet radius 1.03101 (nodes removed 0 0)\n",
      "Info    : It. 191500 - 191500 nodes created - worst tet radius 1.03017 (nodes removed 0 0)\n",
      "Info    : It. 192000 - 192000 nodes created - worst tet radius 1.0293 (nodes removed 0 0)\n",
      "Info    : It. 192500 - 192500 nodes created - worst tet radius 1.02849 (nodes removed 0 0)\n",
      "Info    : It. 193000 - 193000 nodes created - worst tet radius 1.02767 (nodes removed 0 0)\n",
      "Info    : It. 193500 - 193500 nodes created - worst tet radius 1.02687 (nodes removed 0 0)\n",
      "Info    : It. 194000 - 194000 nodes created - worst tet radius 1.02601 (nodes removed 0 0)\n",
      "Info    : It. 194500 - 194500 nodes created - worst tet radius 1.02514 (nodes removed 0 0)\n",
      "Info    : It. 195000 - 195000 nodes created - worst tet radius 1.02431 (nodes removed 0 0)\n",
      "Info    : It. 195500 - 195500 nodes created - worst tet radius 1.02347 (nodes removed 0 0)\n",
      "Info    : It. 196000 - 196000 nodes created - worst tet radius 1.02269 (nodes removed 0 0)\n",
      "Info    : It. 196500 - 196500 nodes created - worst tet radius 1.02193 (nodes removed 0 0)\n",
      "Info    : It. 197000 - 197000 nodes created - worst tet radius 1.0211 (nodes removed 0 0)\n",
      "Info    : It. 197500 - 197500 nodes created - worst tet radius 1.02028 (nodes removed 0 0)\n",
      "Info    : It. 198000 - 198000 nodes created - worst tet radius 1.01942 (nodes removed 0 0)\n",
      "Info    : It. 198500 - 198500 nodes created - worst tet radius 1.01861 (nodes removed 0 0)\n",
      "Info    : It. 199000 - 199000 nodes created - worst tet radius 1.01781 (nodes removed 0 0)\n",
      "Info    : It. 199500 - 199500 nodes created - worst tet radius 1.01698 (nodes removed 0 0)\n",
      "Info    : It. 200000 - 200000 nodes created - worst tet radius 1.01619 (nodes removed 0 0)\n",
      "Info    : It. 200500 - 200500 nodes created - worst tet radius 1.01541 (nodes removed 0 0)\n",
      "Info    : It. 201000 - 201000 nodes created - worst tet radius 1.01459 (nodes removed 0 0)\n",
      "Info    : It. 201500 - 201500 nodes created - worst tet radius 1.01377 (nodes removed 0 0)\n",
      "Info    : It. 202000 - 202000 nodes created - worst tet radius 1.01299 (nodes removed 0 0)\n",
      "Info    : It. 202500 - 202500 nodes created - worst tet radius 1.01223 (nodes removed 0 0)\n",
      "Info    : It. 203000 - 203000 nodes created - worst tet radius 1.01147 (nodes removed 0 0)\n",
      "Info    : It. 203500 - 203500 nodes created - worst tet radius 1.01076 (nodes removed 0 0)\n",
      "Info    : It. 204000 - 204000 nodes created - worst tet radius 1.00997 (nodes removed 0 0)\n",
      "Info    : It. 204500 - 204500 nodes created - worst tet radius 1.00924 (nodes removed 0 0)\n",
      "Info    : It. 205000 - 205000 nodes created - worst tet radius 1.00843 (nodes removed 0 0)\n",
      "Info    : It. 205500 - 205500 nodes created - worst tet radius 1.00764 (nodes removed 0 0)\n",
      "Info    : It. 206000 - 206000 nodes created - worst tet radius 1.00691 (nodes removed 0 0)\n",
      "Info    : It. 206500 - 206500 nodes created - worst tet radius 1.00609 (nodes removed 0 0)\n",
      "Info    : It. 207000 - 207000 nodes created - worst tet radius 1.00532 (nodes removed 0 0)\n",
      "Info    : It. 207500 - 207500 nodes created - worst tet radius 1.00462 (nodes removed 0 0)\n",
      "Info    : It. 208000 - 208000 nodes created - worst tet radius 1.0038 (nodes removed 0 0)\n",
      "Info    : It. 208500 - 208500 nodes created - worst tet radius 1.00298 (nodes removed 0 0)\n",
      "Info    : It. 209000 - 209000 nodes created - worst tet radius 1.00229 (nodes removed 0 0)\n",
      "Info    : It. 209500 - 209500 nodes created - worst tet radius 1.00154 (nodes removed 0 0)\n",
      "Info    : It. 210000 - 210000 nodes created - worst tet radius 1.00082 (nodes removed 0 0)\n",
      "Info    : It. 210500 - 210500 nodes created - worst tet radius 1.00008 (nodes removed 0 0)\n",
      "Info    : 3D refinement terminated (276302 nodes total):\n",
      "Info    :  - 0 Delaunay cavities modified for star shapeness\n",
      "Info    :  - 0 nodes could not be inserted\n",
      "Info    :  - 1549864 tetrahedra created in 24.9398 sec. (62144 tets/s)\n",
      "Info    : Done meshing 3D (Wall 44.9689s, CPU 44.831s)\n",
      "Info    : Optimizing mesh...\n",
      "Info    : Optimizing volume 1\n",
      "Info    : Optimization starts (volume = 2.673e+06) with worst = 0.00192732 / average = 0.784789:\n",
      "Info    : 0.00 < quality < 0.10 :      3161 elements\n",
      "Info    : 0.10 < quality < 0.20 :      9266 elements\n",
      "Info    : 0.20 < quality < 0.30 :     16512 elements\n",
      "Info    : 0.30 < quality < 0.40 :     26526 elements\n",
      "Info    : 0.40 < quality < 0.50 :     41559 elements\n",
      "Info    : 0.50 < quality < 0.60 :     68435 elements\n",
      "Info    : 0.60 < quality < 0.70 :    141219 elements\n",
      "Info    : 0.70 < quality < 0.80 :    340606 elements\n",
      "Info    : 0.80 < quality < 0.90 :    596283 elements\n",
      "Info    : 0.90 < quality < 1.00 :    306294 elements\n",
      "Info    : 28672 edge swaps, 898 node relocations (volume = 2.673e+06): worst = 0.124341 / average = 0.796559 (Wall 2.05724s, CPU 2.05775s)\n",
      "Info    : 28838 edge swaps, 907 node relocations (volume = 2.673e+06): worst = 0.161098 / average = 0.796618 (Wall 2.75832s, CPU 2.76055s)\n",
      "Info    : 28839 edge swaps, 909 node relocations (volume = 2.673e+06): worst = 0.161098 / average = 0.796618 (Wall 3.45211s, CPU 3.45506s)\n",
      "Info    : No ill-shaped tets in the mesh :-)\n",
      "Info    : 0.00 < quality < 0.10 :         0 elements\n",
      "Info    : 0.10 < quality < 0.20 :         1 elements\n",
      "Info    : 0.20 < quality < 0.30 :        12 elements\n",
      "Info    : 0.30 < quality < 0.40 :     26362 elements\n",
      "Info    : 0.40 < quality < 0.50 :     39935 elements\n",
      "Info    : 0.50 < quality < 0.60 :     65647 elements\n",
      "Info    : 0.60 < quality < 0.70 :    140545 elements\n",
      "Info    : 0.70 < quality < 0.80 :    345871 elements\n",
      "Info    : 0.80 < quality < 0.90 :    601078 elements\n",
      "Info    : 0.90 < quality < 1.00 :    304540 elements\n",
      "Info    : Done optimizing mesh (Wall 8.5182s, CPU 8.3685s)\n",
      "Info    : 276302 nodes 1657113 elements\n"
     ]
    }
   ],
   "source": [
    "gmsh.model.occ.synchronize()\n",
    "\n",
    "gmsh.model.add_physical_group(dim=dim, tags=[1])\n",
    "\n",
    "gmsh.model.mesh.generate(dim)"
   ]
  },
  {
   "cell_type": "markdown",
   "id": "71f00ab2-0452-4793-8c8b-678995fa4b33",
   "metadata": {},
   "source": [
    "## Import mesh into `dolfinx`"
   ]
  },
  {
   "cell_type": "code",
   "execution_count": 70,
   "id": "04ac9247-13fd-47ff-81d8-c580e81da405",
   "metadata": {
    "tags": []
   },
   "outputs": [],
   "source": [
    "import dolfinx.io as io\n",
    "from mpi4py import MPI\n",
    "\n",
    "gmsh_model_rank = 0\n",
    "mesh_comm = MPI.COMM_WORLD\n",
    "mesh, cell_markers, facet_markers = io.gmshio.model_to_mesh(gmsh.model,\n",
    "                                                            mesh_comm,\n",
    "                                                            gmsh_model_rank,\n",
    "                                                            gdim=dim)\n",
    "gmsh.finalize()"
   ]
  },
  {
   "cell_type": "code",
   "execution_count": 71,
   "id": "1bf16d71-a1b7-4587-b1cb-b7d9a14b0cb7",
   "metadata": {
    "tags": []
   },
   "outputs": [],
   "source": [
    "import pyvista as pv\n",
    "from dolfinx import plot\n",
    "grid = pv.UnstructuredGrid(*plot.create_vtk_mesh(mesh, mesh.topology.dim))"
   ]
  },
  {
   "cell_type": "raw",
   "id": "b7f50188-3bbc-4857-908a-31927ef598aa",
   "metadata": {},
   "source": [
    "pv.set_jupyter_backend('trame')  # execute if not set by default"
   ]
  },
  {
   "cell_type": "raw",
   "id": "c39483dc-7080-4ebe-bad5-4df08bd3eed0",
   "metadata": {
    "tags": []
   },
   "source": [
    "plotter = pv.Plotter()\n",
    "plotter.add_mesh(grid, show_edges=True)\n",
    "plotter.view_xy()\n",
    "plotter.show()"
   ]
  },
  {
   "cell_type": "markdown",
   "id": "1dfaa802-dcb2-4bd9-a3d5-fa2fd5300ee9",
   "metadata": {},
   "source": [
    "## Create function space for trial and test functions"
   ]
  },
  {
   "cell_type": "code",
   "execution_count": 72,
   "id": "4e8c9dde-4136-4ef4-b646-eecba31cb44c",
   "metadata": {
    "tags": []
   },
   "outputs": [],
   "source": [
    "import dolfinx.fem as fem\n",
    "import ufl\n",
    "from petsc4py.PETSc import ScalarType\n",
    "\n",
    "V = fem.FunctionSpace(mesh, (\"CG\", 1))\n",
    "u = ufl.TrialFunction(V)\n",
    "v = ufl.TestFunction(V)"
   ]
  },
  {
   "cell_type": "markdown",
   "id": "eb6c6d4c-faad-485c-8188-2a1e049cd400",
   "metadata": {
    "tags": []
   },
   "source": [
    "## Set Neumann boundary conditions"
   ]
  },
  {
   "cell_type": "code",
   "execution_count": 73,
   "id": "38fb314e-db6d-4f4c-b5c5-c27ed7409ff9",
   "metadata": {
    "tags": []
   },
   "outputs": [],
   "source": [
    "import dolfinx"
   ]
  },
  {
   "cell_type": "code",
   "execution_count": 74,
   "id": "15aa0bec-d0e1-4186-a089-e89563a814e5",
   "metadata": {
    "tags": []
   },
   "outputs": [],
   "source": [
    "boundaries_x = [(1, lambda x: np.isclose(x[0], 0)),\n",
    "               (2, lambda x: np.isclose(x[0], lx)),\n",
    "               (3, lambda x: np.logical_not(np.logical_or(np.isclose(x[0], 0), np.isclose(x[0], lx))))]\n",
    "facet_indices, facet_markers = [], []\n",
    "fdim = mesh.topology.dim - 1\n",
    "for marker, locator in boundaries_x:\n",
    "    facets = dolfinx.mesh.locate_entities(mesh, fdim, locator)\n",
    "    facet_indices.append(facets)\n",
    "    facet_markers.append(np.full_like(facets, marker))\n",
    "facet_indices = np.hstack(facet_indices).astype(np.int32)\n",
    "facet_markers = np.hstack(facet_markers).astype(np.int32)\n",
    "sorted_facets = np.argsort(facet_indices)\n",
    "facet_tag = dolfinx.mesh.meshtags(mesh, fdim, facet_indices[sorted_facets], facet_markers[sorted_facets])\n",
    "               "
   ]
  },
  {
   "cell_type": "code",
   "execution_count": 75,
   "id": "85b9623d-69b6-49b0-89ad-109fa6ab4f43",
   "metadata": {
    "tags": []
   },
   "outputs": [],
   "source": [
    "ds_new = ufl.Measure(\"ds\", domain=mesh, subdomain_data=facet_tag)"
   ]
  },
  {
   "cell_type": "code",
   "execution_count": 76,
   "id": "fd2d67a1-7f9e-437f-896c-49ded4cc5536",
   "metadata": {
    "tags": []
   },
   "outputs": [],
   "source": [
    "f = fem.Constant(mesh, ScalarType(0))\n",
    "nmbc_1 = fem.Constant(mesh, ScalarType(-1e12))\n",
    "nmbc_2 = fem.Constant(mesh, ScalarType(1e12))\n",
    "\n",
    "a = ufl.dot(ufl.grad(u), ufl.grad(v)) * ufl.dx\n",
    "L = f * v * ufl.dx - nmbc_1 * v * ds_new(1) - nmbc_2 * v * ds_new(2) - f * v * ds_new(3)"
   ]
  },
  {
   "cell_type": "code",
   "execution_count": 77,
   "id": "b94a993c-a669-4b24-aab9-412b064ff73c",
   "metadata": {
    "tags": []
   },
   "outputs": [],
   "source": [
    "problem = fem.petsc.LinearProblem(a, L)\n",
    "v_field = problem.solve()"
   ]
  },
  {
   "cell_type": "markdown",
   "id": "411fe10a-bb05-4290-b4ae-6a8ea7502b71",
   "metadata": {},
   "source": [
    "### Solve for j"
   ]
  },
  {
   "cell_type": "code",
   "execution_count": 78,
   "id": "c818dc91-56db-4760-b8fc-fd24988d01bf",
   "metadata": {
    "tags": []
   },
   "outputs": [],
   "source": [
    "W_new = fem.VectorFunctionSpace(mesh=mesh, dim=3, element=(\"CG\", 1))\n",
    "u_new = ufl.TrialFunction(W_new)\n",
    "v_new = ufl.TestFunction(W_new)\n",
    "\n",
    "LHS = ufl.dot(u_new, v_new) * ufl.dx\n",
    "RHS = ufl.dot(-ufl.grad(v_field), v_new) * ufl.dx"
   ]
  },
  {
   "cell_type": "code",
   "execution_count": 79,
   "id": "f07766b1-7988-481d-a191-0e6950c8f141",
   "metadata": {
    "tags": []
   },
   "outputs": [],
   "source": [
    "problem_new = fem.petsc.LinearProblem(LHS, RHS)\n",
    "j_new = problem_new.solve()"
   ]
  },
  {
   "cell_type": "code",
   "execution_count": 80,
   "id": "3517963c-7d74-452e-a799-0b81aec34ec7",
   "metadata": {
    "tags": []
   },
   "outputs": [],
   "source": [
    "grid.point_data[\"j\"] = j_new.x.array.reshape((-1, 3))"
   ]
  },
  {
   "cell_type": "raw",
   "id": "06d1bf6e-f234-4cea-8853-9070fad3ba5f",
   "metadata": {
    "tags": []
   },
   "source": [
    "plotter = pv.Plotter()\n",
    "plotter.add_mesh(grid)\n",
    "plotter.view_xy()\n",
    "plotter.show()"
   ]
  },
  {
   "cell_type": "code",
   "execution_count": 81,
   "id": "c049ec43-f6b9-4a4b-ac82-75096fe27c92",
   "metadata": {},
   "outputs": [],
   "source": [
    "if ly == 100:\n",
    "    grid.save(\"current-100.vtu\")"
   ]
  },
  {
   "cell_type": "markdown",
   "id": "a71176eb-3b00-4587-b582-8a4cd0e97aa3",
   "metadata": {},
   "source": [
    "### Ouput `j_new`"
   ]
  },
  {
   "cell_type": "code",
   "execution_count": 82,
   "id": "ebb39cba-801c-4d11-9106-77e74cbe3ca8",
   "metadata": {
    "tags": []
   },
   "outputs": [],
   "source": [
    "import dolfinx"
   ]
  },
  {
   "cell_type": "code",
   "execution_count": 83,
   "id": "13413c39-eb26-4e47-a19c-d6261d6e2897",
   "metadata": {
    "tags": []
   },
   "outputs": [
    {
     "data": {
      "text/plain": [
       "(241, 60, 12)"
      ]
     },
     "execution_count": 83,
     "metadata": {},
     "output_type": "execute_result"
    }
   ],
   "source": [
    "n = (round(lx / 2.5) + 1, round(ly / 2.5), 12)\n",
    "n"
   ]
  },
  {
   "cell_type": "code",
   "execution_count": 84,
   "id": "572bff3c-e80c-4608-9d81-c81007126331",
   "metadata": {
    "tags": []
   },
   "outputs": [],
   "source": [
    "drmesh = dolfinx.mesh.create_box(mesh_comm, points=((0, 0, 0), (lx, ly, lz)), n=n, cell_type=dolfinx.mesh.CellType.hexahedron)"
   ]
  },
  {
   "cell_type": "code",
   "execution_count": 85,
   "id": "f779abef-a896-43f8-8726-1f4f68b387ea",
   "metadata": {
    "tags": []
   },
   "outputs": [],
   "source": [
    "W_dg = fem.VectorFunctionSpace(mesh=drmesh, dim=3, element=(\"DG\", 0))\n",
    "function = dolfinx.fem.Function(W_dg)\n",
    "function.interpolate(j_new)"
   ]
  },
  {
   "cell_type": "code",
   "execution_count": 86,
   "id": "463c53ba-390c-4bdc-b736-5fb591e21b7d",
   "metadata": {
    "tags": []
   },
   "outputs": [],
   "source": [
    "drgrid = pv.UnstructuredGrid(*plot.create_vtk_mesh(drmesh, drmesh.topology.dim))"
   ]
  },
  {
   "cell_type": "raw",
   "id": "179af82a-d4f0-4066-8e64-e63554e73832",
   "metadata": {
    "tags": []
   },
   "source": [
    "plotter = pv.Plotter()\n",
    "plotter.add_mesh(drgrid, show_edges=True)\n",
    "plotter.view_xy()\n",
    "plotter.show()"
   ]
  },
  {
   "cell_type": "code",
   "execution_count": 87,
   "id": "464b20ef-aaa2-4580-8b20-089492a5a9a4",
   "metadata": {
    "tags": []
   },
   "outputs": [],
   "source": [
    "drgrid['j'] = function.x.array.reshape((-1, 3))"
   ]
  },
  {
   "cell_type": "raw",
   "id": "327e1799-f1c6-43c9-b120-057c0cc0c260",
   "metadata": {
    "tags": []
   },
   "source": [
    "plotter = pv.Plotter()\n",
    "plotter.add_mesh(drgrid)\n",
    "plotter.view_xy()\n",
    "plotter.show()"
   ]
  },
  {
   "cell_type": "markdown",
   "id": "e6c0e2df-37d9-469f-8ca2-f2a711a400b8",
   "metadata": {},
   "source": [
    "---"
   ]
  },
  {
   "cell_type": "code",
   "execution_count": 88,
   "id": "81f78ee5-8306-4e92-b13b-3b1775f5001c",
   "metadata": {
    "tags": []
   },
   "outputs": [],
   "source": [
    "import discretisedfield as df"
   ]
  },
  {
   "cell_type": "code",
   "execution_count": 89,
   "id": "24e2fadc-6a4c-40b5-8974-776b9ff9a9fa",
   "metadata": {
    "tags": []
   },
   "outputs": [],
   "source": [
    "fmesh = df.Mesh(p1=(0, 0, 0), p2=(lx, ly, lz), n=n)"
   ]
  },
  {
   "cell_type": "code",
   "execution_count": 90,
   "id": "945a61e2-2fbc-4054-b817-b5b3d29e3969",
   "metadata": {
    "tags": []
   },
   "outputs": [],
   "source": [
    "rgrid = pv.RectilinearGrid(fmesh.points.x, fmesh.points.y, fmesh.points.z)"
   ]
  },
  {
   "cell_type": "code",
   "execution_count": 91,
   "id": "dec7aed5-e9d7-415f-a07a-dd19fc725c07",
   "metadata": {
    "tags": []
   },
   "outputs": [],
   "source": [
    "j_field = df.Field(fmesh, nvdim=3, value=rgrid.sample(drgrid)['j'].reshape((*reversed(n), 3)).swapaxes(0, 2))"
   ]
  },
  {
   "cell_type": "code",
   "execution_count": 92,
   "id": "7797ea31-cbac-408f-841e-b6d725b21fd8",
   "metadata": {
    "tags": []
   },
   "outputs": [
    {
     "data": {
      "image/png": "[encoded data removed]",
      "text/plain": [
       "<Figure size 800x600 with 2 Axes>"
      ]
     },
     "metadata": {},
     "output_type": "display_data"
    }
   ],
   "source": [
    "j_field.sel('z').norm.mpl()"
   ]
  },
  {
   "cell_type": "code",
   "execution_count": 93,
   "id": "e7e691f7-cd8d-436b-ae01-972396fd8338",
   "metadata": {
    "tags": []
   },
   "outputs": [],
   "source": [
    "j_field.to_file(f'current-{ly}.omf')"
   ]
  }
 ],
 "metadata": {
  "kernelspec": {
   "display_name": "Python 3 (ipykernel)",
   "language": "python",
   "name": "python3"
  },
  "language_info": {
   "codemirror_mode": {
    "name": "ipython",
    "version": 3
   },
   "file_extension": ".py",
   "mimetype": "text/x-python",
   "name": "python",
   "nbconvert_exporter": "python",
   "pygments_lexer": "ipython3",
   "version": "3.10.12"
  }
 },
 "nbformat": 4,
 "nbformat_minor": 5
}
