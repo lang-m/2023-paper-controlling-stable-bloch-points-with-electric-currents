{
 "cells": [
  {
   "cell_type": "code",
   "execution_count": 1,
   "id": "56e417be-b7ac-4f24-b4aa-4a74e69f3827",
   "metadata": {
    "tags": []
   },
   "outputs": [],
   "source": [
    "import pyvista as pv"
   ]
  },
  {
   "cell_type": "code",
   "execution_count": 2,
   "id": "589d01b3-3280-4855-8417-c67470fa3b1d",
   "metadata": {
    "tags": []
   },
   "outputs": [],
   "source": [
    "current = pv.read(\"current-100.vtu\")"
   ]
  },
  {
   "cell_type": "code",
   "execution_count": 3,
   "id": "92020ce3-8314-4376-9e45-686da1aa4326",
   "metadata": {
    "tags": []
   },
   "outputs": [
    {
     "data": {
      "text/html": [
       "<table style='width: 100%;'><tr><th>Header</th><th>Data Arrays</th></tr><tr><td>\n",
       "<table style='width: 100%;'>\n",
       "<tr><th>UnstructuredGrid</th><th>Information</th></tr>\n",
       "<tr><td>N Cells</td><td>1012342</td></tr>\n",
       "<tr><td>N Points</td><td>185590</td></tr>\n",
       "<tr><td>X Bounds</td><td>0.000e+00, 6.000e+02</td></tr>\n",
       "<tr><td>Y Bounds</td><td>0.000e+00, 1.000e+02</td></tr>\n",
       "<tr><td>Z Bounds</td><td>0.000e+00, 3.000e+01</td></tr>\n",
       "<tr><td>N Arrays</td><td>1</td></tr>\n",
       "</table>\n",
       "\n",
       "</td><td>\n",
       "<table style='width: 100%;'>\n",
       "<tr><th>Name</th><th>Field</th><th>Type</th><th>N Comp</th><th>Min</th><th>Max</th></tr>\n",
       "<tr><td><b>j</b></td><td>Points</td><td>float64</td><td>3</td><td>-2.576e+12</td><td>3.984e+12</td></tr>\n",
       "</table>\n",
       "\n",
       "</td></tr> </table>"
      ],
      "text/plain": [
       "UnstructuredGrid (0x7f0b9bbf73a0)\n",
       "  N Cells:    1012342\n",
       "  N Points:   185590\n",
       "  X Bounds:   0.000e+00, 6.000e+02\n",
       "  Y Bounds:   0.000e+00, 1.000e+02\n",
       "  Z Bounds:   0.000e+00, 3.000e+01\n",
       "  N Arrays:   1"
      ]
     },
     "execution_count": 3,
     "metadata": {},
     "output_type": "execute_result"
    }
   ],
   "source": [
    "current"
   ]
  },
  {
   "cell_type": "code",
   "execution_count": 4,
   "id": "aed2eebe-ef71-425a-a6eb-f16b3b04a889",
   "metadata": {
    "tags": []
   },
   "outputs": [],
   "source": [
    "import numpy as np"
   ]
  },
  {
   "cell_type": "code",
   "execution_count": 5,
   "id": "1eead003-6377-466a-b0c2-da4af5d6d67a",
   "metadata": {
    "tags": []
   },
   "outputs": [],
   "source": [
    "b = 0\n",
    "t = 20\n",
    "points = np.array(\n",
    "    [\n",
    "        [0, 0, b],\n",
    "        [600, 0, b],\n",
    "        [600, 0, t],\n",
    "        [0, 0, t],\n",
    "        [600, 100, t],\n",
    "        [600, 100, b],\n",
    "        [330, 100, b],\n",
    "        [330, 100, t],\n",
    "        [300, 70, t],\n",
    "        [300, 70, b],\n",
    "        [270, 100, b],\n",
    "        [270, 100, t],\n",
    "        [0, 100, t],\n",
    "        [0, 100, b],\n",
    "    ],\n",
    "    dtype=float,\n",
    ")\n",
    "\n",
    "cells = np.concatenate(\n",
    "    [\n",
    "        [4, 0, 1, 2, 3],\n",
    "        [4, 1, 2, 4, 5],\n",
    "        [4, 4, 5, 6, 7],\n",
    "        [4, 6, 7, 8, 9],\n",
    "        [4, 8, 9, 10, 11],\n",
    "        [4, 10, 11, 12, 13],\n",
    "        [4, 12, 13, 0, 3],\n",
    "    ],\n",
    ").ravel()\n",
    "celltypes = np.full(7, pv.CellType.POLYGON, dtype=np.uint8)\n",
    "\n",
    "grid_bottom = pv.UnstructuredGrid(cells, celltypes, points)"
   ]
  },
  {
   "cell_type": "code",
   "execution_count": 6,
   "id": "87924b44-3c2f-4ab8-8f47-a02d5bd17e11",
   "metadata": {
    "tags": []
   },
   "outputs": [],
   "source": [
    "b = 20\n",
    "t = 30\n",
    "points = np.array(\n",
    "    [\n",
    "        [0, 0, b],\n",
    "        [600, 0, b],\n",
    "        [600, 0, t],\n",
    "        [0, 0, t],\n",
    "        [600, 100, t],\n",
    "        [600, 100, b],\n",
    "        [330, 100, b],\n",
    "        [330, 100, t],\n",
    "        [300, 70, t],\n",
    "        [300, 70, b],\n",
    "        [270, 100, b],\n",
    "        [270, 100, t],\n",
    "        [0, 100, t],\n",
    "        [0, 100, b],\n",
    "    ],\n",
    "    dtype=float,\n",
    ")\n",
    "\n",
    "cells = np.concatenate(\n",
    "    [\n",
    "        [4, 0, 1, 2, 3],\n",
    "        [4, 1, 2, 4, 5],\n",
    "        [4, 4, 5, 6, 7],\n",
    "        [4, 6, 7, 8, 9],\n",
    "        [4, 8, 9, 10, 11],\n",
    "        [4, 10, 11, 12, 13],\n",
    "        [4, 12, 13, 0, 3],\n",
    "    ],\n",
    ").ravel()\n",
    "celltypes = np.full(7, pv.CellType.POLYGON, dtype=np.uint8)\n",
    "\n",
    "grid_top = pv.UnstructuredGrid(cells, celltypes, points)"
   ]
  },
  {
   "cell_type": "code",
   "execution_count": 7,
   "id": "c425bef5-b3c1-4901-a2c3-ccb82b44d69c",
   "metadata": {
    "tags": []
   },
   "outputs": [
    {
     "data": {
      "text/html": [
       "<table style='width: 100%;'><tr><th>Header</th><th>Data Arrays</th></tr><tr><td>\n",
       "<table style='width: 100%;'>\n",
       "<tr><th>PolyData</th><th>Information</th></tr>\n",
       "<tr><td>N Cells</td><td>34755</td></tr>\n",
       "<tr><td>N Points</td><td>17736</td></tr>\n",
       "<tr><td>N Strips</td><td>0</td></tr>\n",
       "<tr><td>X Bounds</td><td>0.000e+00, 6.000e+02</td></tr>\n",
       "<tr><td>Y Bounds</td><td>0.000e+00, 1.000e+02</td></tr>\n",
       "<tr><td>Z Bounds</td><td>3.000e+01, 3.000e+01</td></tr>\n",
       "<tr><td>N Arrays</td><td>1</td></tr>\n",
       "</table>\n",
       "\n",
       "</td><td>\n",
       "<table style='width: 100%;'>\n",
       "<tr><th>Name</th><th>Field</th><th>Type</th><th>N Comp</th><th>Min</th><th>Max</th></tr>\n",
       "<tr><td><b>j</b></td><td>Points</td><td>float64</td><td>3</td><td>-2.018e+12</td><td>3.984e+12</td></tr>\n",
       "</table>\n",
       "\n",
       "</td></tr> </table>"
      ],
      "text/plain": [
       "PolyData (0x7f0b9bbf7460)\n",
       "  N Cells:    34755\n",
       "  N Points:   17736\n",
       "  N Strips:   0\n",
       "  X Bounds:   0.000e+00, 6.000e+02\n",
       "  Y Bounds:   0.000e+00, 1.000e+02\n",
       "  Z Bounds:   3.000e+01, 3.000e+01\n",
       "  N Arrays:   1"
      ]
     },
     "execution_count": 7,
     "metadata": {},
     "output_type": "execute_result"
    }
   ],
   "source": [
    "top = current.slice(normal='z', origin=(0, 0, 30))\n",
    "top"
   ]
  },
  {
   "cell_type": "code",
   "execution_count": 8,
   "id": "3a2ecc3d-f321-497d-b923-71d8f470d8d9",
   "metadata": {
    "tags": []
   },
   "outputs": [],
   "source": [
    "geom = pv.Arrow(scale=3)"
   ]
  },
  {
   "cell_type": "code",
   "execution_count": 9,
   "id": "f83313f5-ca02-4f6f-af15-1439e117fc2e",
   "metadata": {
    "tags": []
   },
   "outputs": [
    {
     "data": {
      "text/html": [
       "<table style='width: 100%;'><tr><th>Header</th><th>Data Arrays</th></tr><tr><td>\n",
       "<table style='width: 100%;'>\n",
       "<tr><th>PolyData</th><th>Information</th></tr>\n",
       "<tr><td>N Cells</td><td>0</td></tr>\n",
       "<tr><td>N Points</td><td>202</td></tr>\n",
       "<tr><td>N Strips</td><td>0</td></tr>\n",
       "<tr><td>X Bounds</td><td>0.000e+00, 0.000e+00</td></tr>\n",
       "<tr><td>Y Bounds</td><td>0.000e+00, 1.000e+02</td></tr>\n",
       "<tr><td>Z Bounds</td><td>3.000e+01, 3.000e+01</td></tr>\n",
       "<tr><td>N Arrays</td><td>6</td></tr>\n",
       "</table>\n",
       "\n",
       "</td><td>\n",
       "<table style='width: 100%;'>\n",
       "<tr><th>Name</th><th>Field</th><th>Type</th><th>N Comp</th><th>Min</th><th>Max</th></tr>\n",
       "<tr><td><b>j</b></td><td>Points</td><td>float64</td><td>3</td><td>-1.014e+08</td><td>1.000e+12</td></tr>\n",
       "<tr><td>IntegrationTime</td><td>Points</td><td>float64</td><td>1</td><td>0.000e+00</td><td>0.000e+00</td></tr>\n",
       "<tr><td>Vorticity</td><td>Points</td><td>float64</td><td>3</td><td>-3.535e+06</td><td>3.341e+06</td></tr>\n",
       "<tr><td>Rotation</td><td>Points</td><td>float64</td><td>1</td><td>0.000e+00</td><td>0.000e+00</td></tr>\n",
       "<tr><td>AngularVelocity</td><td>Points</td><td>float64</td><td>1</td><td>-2.600e+06</td><td>2.541e+06</td></tr>\n",
       "<tr><td>Normals</td><td>Points</td><td>float64</td><td>3</td><td>0.000e+00</td><td>1.000e+00</td></tr>\n",
       "</table>\n",
       "\n",
       "</td></tr> </table>"
      ],
      "text/plain": [
       "PolyData (0x7f0b9bbf79a0)\n",
       "  N Cells:    0\n",
       "  N Points:   202\n",
       "  N Strips:   0\n",
       "  X Bounds:   0.000e+00, 0.000e+00\n",
       "  Y Bounds:   0.000e+00, 1.000e+02\n",
       "  Z Bounds:   3.000e+01, 3.000e+01\n",
       "  N Arrays:   6"
      ]
     },
     "execution_count": 9,
     "metadata": {},
     "output_type": "execute_result"
    }
   ],
   "source": [
    "top.streamlines('j', pointa=(0, 0, 30), pointb=(0, 100, 30))"
   ]
  },
  {
   "cell_type": "code",
   "execution_count": 10,
   "id": "8d6f22c0-94c6-4838-8a0c-7a1ff01601d0",
   "metadata": {
    "tags": []
   },
   "outputs": [
    {
     "data": {
      "application/vnd.jupyter.widget-view+json": {
       "model_id": "aca0db6094f6429ebf19b631bb535f96",
       "version_major": 2,
       "version_minor": 0
      },
      "text/plain": [
       "Widget(value=\"<iframe src='http://localhost:34823/index.html?ui=P_0x7f0b9c234bb0_0&reconnect=auto' style='widt…"
      ]
     },
     "metadata": {},
     "output_type": "display_data"
    }
   ],
   "source": [
    "factor = 1  # set to 4 for better resolution\n",
    "plotter = pv.Plotter(window_size=(1500*factor, 500*factor))\n",
    "plotter.background_color = \"white\"\n",
    "plotter.enable_ssao(radius=1)\n",
    "plotter.add_mesh(grid_bottom, color=[0.4, 0.4, 0.4], ambient=.8)\n",
    "plotter.add_mesh(grid_top, color=[0.7, 0.7, 0.7], ambient=.8)\n",
    "plotter.add_mesh(top, cmap='magma', lighting=False, show_scalar_bar=False, clim=(0, 4e12))\n",
    "plotter.add_scalar_bar(color='k', title='j (A/m²)\\n', title_font_size=20*factor, font_family='times', label_font_size=16*factor)\n",
    "\n",
    "plotter.add_mesh(top.streamlines('j', pointa=(0, 10, 30), pointb=(0, 90, 30), max_time=600, n_points=6).tube(radius=.5), color='white')\n",
    "plotter.add_mesh(top.streamlines('j', pointa=(600, 10, 30), pointb=(600, 90, 30), max_time=600, n_points=6).tube(radius=.5), color='white')\n",
    "\n",
    "plotter.camera.position = (300, 400, 300)\n",
    "plotter.show()"
   ]
  },
  {
   "cell_type": "code",
   "execution_count": null,
   "id": "a5e331b3-658c-4fed-b6b1-f00aed705db2",
   "metadata": {},
   "outputs": [],
   "source": [
    "plotter.save_graphic(\"Fig1.svg\")"
   ]
  }
 ],
 "metadata": {
  "kernelspec": {
   "display_name": "Python 3 (ipykernel)",
   "language": "python",
   "name": "python3"
  },
  "language_info": {
   "codemirror_mode": {
    "name": "ipython",
    "version": 3
   },
   "file_extension": ".py",
   "mimetype": "text/x-python",
   "name": "python",
   "nbconvert_exporter": "python",
   "pygments_lexer": "ipython3",
   "version": "3.10.12"
  }
 },
 "nbformat": 4,
 "nbformat_minor": 5
}
