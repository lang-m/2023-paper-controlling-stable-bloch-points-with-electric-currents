{
 "cells": [
  {
   "cell_type": "code",
   "execution_count": 75,
   "id": "34b7062a-21c7-42a5-bd44-adb1b5f4165b",
   "metadata": {
    "tags": []
   },
   "outputs": [],
   "source": [
    "# TODO: Three different current profiles can be computed by changing the values of `direction` in the next cell to:\n",
    "# \n",
    "# - 'left-right'\n",
    "# - 'left-top'\n",
    "# - 'top-right'\n",
    "\n",
    "direction = 'top-right'"
   ]
  },
  {
   "cell_type": "markdown",
   "id": "0c884f96-8408-4c86-9020-8cc48b9a6749",
   "metadata": {
    "tags": []
   },
   "source": [
    "## Generate mesh with `gmsh`"
   ]
  },
  {
   "cell_type": "code",
   "execution_count": 76,
   "id": "6c8d08b6-3941-4fe5-9e2c-b9486bacf8f4",
   "metadata": {
    "tags": []
   },
   "outputs": [],
   "source": [
    "import gmsh\n",
    "import numpy as np\n",
    "\n",
    "dim = 3\n",
    "lc = 2\n",
    "\n",
    "gmsh.initialize()"
   ]
  },
  {
   "cell_type": "code",
   "execution_count": 77,
   "id": "f8c92191-9c70-426e-8037-446d13d3fb3f",
   "metadata": {
    "tags": []
   },
   "outputs": [],
   "source": [
    "gmsh.option.setNumber(\"Mesh.CharacteristicLengthMax\", lc*0.8)\n",
    "gmsh.option.setNumber(\"Mesh.CharacteristicLengthMin\", lc)"
   ]
  },
  {
   "cell_type": "code",
   "execution_count": 78,
   "id": "1e45afe9-41dc-4b7b-92c1-f71649aa8ac5",
   "metadata": {
    "tags": []
   },
   "outputs": [],
   "source": [
    "step = 300\n",
    "\n",
    "ly = 100\n",
    "lx = 2*step\n",
    "\n",
    "lz = 30\n",
    "wedge_y = 25\n",
    "wedge_x = 30\n",
    "step_yp = 200\n",
    "ey = ly + step_yp"
   ]
  },
  {
   "cell_type": "code",
   "execution_count": 79,
   "id": "31f8b5e5-0bff-45bc-b754-0ffb129dce9f",
   "metadata": {
    "tags": []
   },
   "outputs": [],
   "source": [
    "points = [\n",
    "    gmsh.model.geo.add_point(0, 0, 0, lc),\n",
    "    \n",
    "    gmsh.model.geo.add_point(lx, 0, 0, lc),\n",
    "    gmsh.model.geo.add_point(lx, ly, 0, lc),\n",
    "    \n",
    "    gmsh.model.geo.add_point(step + ly/2 + wedge_x, ly, 0, lc),\n",
    "    gmsh.model.geo.add_point(step + ly/2, ly - wedge_x, 0, lc),\n",
    "    gmsh.model.geo.add_point(step + ly/2 - wedge_y, ly, 0, lc),\n",
    "    gmsh.model.geo.add_point(step + ly/2, ly + wedge_y, 0, lc),\n",
    "    \n",
    "    \n",
    "    gmsh.model.geo.add_point(step + ly/2, ey, 0, lc),\n",
    "    gmsh.model.geo.add_point(step - ly/2, ey, 0, lc),\n",
    "    \n",
    "    gmsh.model.geo.add_point(step - ly/2, ly + wedge_y, 0, lc),\n",
    "    gmsh.model.geo.add_point(step - ly/2 + wedge_y, ly, 0, lc),\n",
    "    gmsh.model.geo.add_point(step - ly/2, ly - wedge_x, 0, lc),\n",
    "    gmsh.model.geo.add_point(step - ly/2 - wedge_x, ly, 0, lc),\n",
    "    \n",
    "    gmsh.model.geo.add_point(0, ly, 0, lc),\n",
    "]"
   ]
  },
  {
   "cell_type": "code",
   "execution_count": 80,
   "id": "92668a42-e854-4f93-b7c6-27696d64ceb8",
   "metadata": {
    "tags": []
   },
   "outputs": [],
   "source": [
    "lines = [gmsh.model.geo.add_line(p1, p2) for p1, p2 in zip(points[:-1], points[1:])] + [gmsh.model.geo.add_line(points[-1], points[0])]"
   ]
  },
  {
   "cell_type": "code",
   "execution_count": 81,
   "id": "1c0c311b-e6f0-4c09-87c8-e2781eeb2700",
   "metadata": {
    "tags": []
   },
   "outputs": [],
   "source": [
    "sl = gmsh.model.geo.add_curve_loop(lines)"
   ]
  },
  {
   "cell_type": "code",
   "execution_count": 82,
   "id": "b385da66-f955-4eb8-b3b1-a2c4101dfcda",
   "metadata": {
    "tags": []
   },
   "outputs": [],
   "source": [
    "surface = gmsh.model.geo.add_plane_surface([sl])"
   ]
  },
  {
   "cell_type": "code",
   "execution_count": 83,
   "id": "606a3dca-ef22-4ab1-b509-a319e4e78831",
   "metadata": {
    "tags": []
   },
   "outputs": [
    {
     "data": {
      "text/plain": [
       "[(2, 86),\n",
       " (3, 1),\n",
       " (2, 33),\n",
       " (2, 37),\n",
       " (2, 41),\n",
       " (2, 45),\n",
       " (2, 49),\n",
       " (2, 53),\n",
       " (2, 57),\n",
       " (2, 61),\n",
       " (2, 65),\n",
       " (2, 69),\n",
       " (2, 73),\n",
       " (2, 77),\n",
       " (2, 81),\n",
       " (2, 85)]"
      ]
     },
     "execution_count": 83,
     "metadata": {},
     "output_type": "execute_result"
    }
   ],
   "source": [
    "vol = gmsh.model.geo.extrude([(2, surface)], 0, 0, lz, [lz / lc], [1])\n",
    "vol"
   ]
  },
  {
   "cell_type": "code",
   "execution_count": 84,
   "id": "680a36ce-4670-4194-af4e-a1beb1107d20",
   "metadata": {
    "scrolled": true,
    "tags": []
   },
   "outputs": [
    {
     "name": "stdout",
     "output_type": "stream",
     "text": [
      "Info    : Meshing 1D...\n",
      "Info    : [  0%] Meshing curve 1 (Line)\n",
      "Info    : [ 10%] Meshing curve 2 (Line)\n",
      "Info    : [ 10%] Meshing curve 3 (Line)\n",
      "Info    : [ 10%] Meshing curve 4 (Line)\n",
      "Info    : [ 10%] Meshing curve 5 (Line)\n",
      "Info    : [ 20%] Meshing curve 6 (Line)\n",
      "Info    : [ 20%] Meshing curve 7 (Line)\n",
      "Info    : [ 20%] Meshing curve 8 (Line)\n",
      "Info    : [ 20%] Meshing curve 9 (Line)\n",
      "Info    : [ 30%] Meshing curve 10 (Line)\n",
      "Info    : [ 30%] Meshing curve 11 (Line)\n",
      "Info    : [ 30%] Meshing curve 12 (Line)\n",
      "Info    : [ 30%] Meshing curve 13 (Line)\n",
      "Info    : [ 40%] Meshing curve 14 (Line)\n",
      "Info    : [ 40%] Meshing curve 16 (Extruded)\n",
      "Info    : [ 40%] Meshing curve 17 (Extruded)\n",
      "Info    : [ 40%] Meshing curve 18 (Extruded)\n",
      "Info    : [ 50%] Meshing curve 19 (Extruded)\n",
      "Info    : [ 50%] Meshing curve 20 (Extruded)\n",
      "Info    : [ 50%] Meshing curve 21 (Extruded)\n",
      "Info    : [ 50%] Meshing curve 22 (Extruded)\n",
      "Info    : [ 50%] Meshing curve 23 (Extruded)\n",
      "Info    : [ 60%] Meshing curve 24 (Extruded)\n",
      "Info    : [ 60%] Meshing curve 25 (Extruded)\n",
      "Info    : [ 60%] Meshing curve 26 (Extruded)\n",
      "Info    : [ 60%] Meshing curve 27 (Extruded)\n",
      "Info    : [ 70%] Meshing curve 28 (Extruded)\n",
      "Info    : [ 70%] Meshing curve 29 (Extruded)\n",
      "Info    : [ 70%] Meshing curve 31 (Extruded)\n",
      "Info    : [ 70%] Meshing curve 32 (Extruded)\n",
      "Info    : [ 80%] Meshing curve 36 (Extruded)\n",
      "Info    : [ 80%] Meshing curve 40 (Extruded)\n",
      "Info    : [ 80%] Meshing curve 44 (Extruded)\n",
      "Info    : [ 80%] Meshing curve 48 (Extruded)\n",
      "Info    : [ 90%] Meshing curve 52 (Extruded)\n",
      "Info    : [ 90%] Meshing curve 56 (Extruded)\n",
      "Info    : [ 90%] Meshing curve 60 (Extruded)\n",
      "Info    : [ 90%] Meshing curve 64 (Extruded)\n",
      "Info    : [100%] Meshing curve 68 (Extruded)\n",
      "Info    : [100%] Meshing curve 72 (Extruded)\n",
      "Info    : [100%] Meshing curve 76 (Extruded)\n",
      "Info    : [100%] Meshing curve 80 (Extruded)\n",
      "Info    : Done meshing 1D (Wall 0.00218135s, CPU 0.000804s)\n",
      "Info    : Meshing 2D...\n",
      "Info    : [  0%] Meshing surface 1 (Plane, Frontal-Delaunay)\n",
      "Info    : [ 10%] Meshing surface 33 (Extruded)\n",
      "Info    : [ 20%] Meshing surface 37 (Extruded)\n",
      "Info    : [ 20%] Meshing surface 41 (Extruded)\n",
      "Info    : [ 30%] Meshing surface 45 (Extruded)\n",
      "Info    : [ 40%] Meshing surface 49 (Extruded)\n",
      "Info    : [ 40%] Meshing surface 53 (Extruded)\n",
      "Info    : [ 50%] Meshing surface 57 (Extruded)\n",
      "Info    : [ 50%] Meshing surface 61 (Extruded)\n",
      "Info    : [ 60%] Meshing surface 65 (Extruded)\n",
      "Info    : [ 70%] Meshing surface 69 (Extruded)\n",
      "Info    : [ 70%] Meshing surface 73 (Extruded)\n",
      "Info    : [ 80%] Meshing surface 77 (Extruded)\n",
      "Info    : [ 90%] Meshing surface 81 (Extruded)\n",
      "Info    : [ 90%] Meshing surface 85 (Extruded)\n",
      "Info    : [100%] Meshing surface 86 (Extruded)\n",
      "Info    : Done meshing 2D (Wall 1.86287s, CPU 1.81554s)\n",
      "Info    : Meshing 3D...\n",
      "Info    : Meshing volume 1 (Extruded)\n",
      "Info    : Subdividing extruded mesh\n",
      "Info    : Swapping 27945\n",
      "Info    : Swapping 5310\n",
      "Info    : Swapping 0\n",
      "Info    : Remeshing surface 33\n",
      "Info    : Meshing surface 33 (Extruded)\n",
      "Info    : Remeshing surface 37\n",
      "Info    : Meshing surface 37 (Extruded)\n",
      "Info    : Remeshing surface 41\n",
      "Info    : Meshing surface 41 (Extruded)\n",
      "Info    : Remeshing surface 45\n",
      "Info    : Meshing surface 45 (Extruded)\n",
      "Info    : Remeshing surface 49\n",
      "Info    : Meshing surface 49 (Extruded)\n",
      "Info    : Remeshing surface 53\n",
      "Info    : Meshing surface 53 (Extruded)\n",
      "Info    : Remeshing surface 57\n",
      "Info    : Meshing surface 57 (Extruded)\n",
      "Info    : Remeshing surface 61\n",
      "Info    : Meshing surface 61 (Extruded)\n",
      "Info    : Remeshing surface 65\n",
      "Info    : Meshing surface 65 (Extruded)\n",
      "Info    : Remeshing surface 69\n",
      "Info    : Meshing surface 69 (Extruded)\n",
      "Info    : Remeshing surface 73\n",
      "Info    : Meshing surface 73 (Extruded)\n",
      "Info    : Remeshing surface 77\n",
      "Info    : Meshing surface 77 (Extruded)\n",
      "Info    : Remeshing surface 81\n",
      "Info    : Meshing surface 81 (Extruded)\n",
      "Info    : Remeshing surface 85\n",
      "Info    : Meshing surface 85 (Extruded)\n",
      "Info    : Done meshing 3D (Wall 27.2325s, CPU 26.9949s)\n",
      "Info    : Optimizing mesh...\n",
      "Info    : Done optimizing mesh (Wall 0.186484s, CPU 0.185643s)\n",
      "Info    : 584768 nodes 3417506 elements\n"
     ]
    }
   ],
   "source": [
    "gmsh.model.geo.synchronize()\n",
    "gmsh.model.add_physical_group(dim=dim, tags=[1])\n",
    "gmsh.model.mesh.generate(dim)"
   ]
  },
  {
   "cell_type": "markdown",
   "id": "71f00ab2-0452-4793-8c8b-678995fa4b33",
   "metadata": {},
   "source": [
    "## Import mesh into `dolfinx`"
   ]
  },
  {
   "cell_type": "code",
   "execution_count": 85,
   "id": "04ac9247-13fd-47ff-81d8-c580e81da405",
   "metadata": {
    "tags": []
   },
   "outputs": [],
   "source": [
    "import dolfinx.io as io\n",
    "from mpi4py import MPI\n",
    "\n",
    "gmsh_model_rank = 0\n",
    "mesh_comm = MPI.COMM_WORLD\n",
    "mesh, cell_markers, facet_markers = io.gmshio.model_to_mesh(gmsh.model,\n",
    "                                                            mesh_comm,\n",
    "                                                            gmsh_model_rank,\n",
    "                                                            gdim=dim)\n",
    "gmsh.finalize()"
   ]
  },
  {
   "cell_type": "code",
   "execution_count": 86,
   "id": "1bf16d71-a1b7-4587-b1cb-b7d9a14b0cb7",
   "metadata": {
    "tags": []
   },
   "outputs": [],
   "source": [
    "import pyvista as pv\n",
    "from dolfinx import plot\n",
    "grid = pv.UnstructuredGrid(*plot.create_vtk_mesh(mesh, mesh.topology.dim))"
   ]
  },
  {
   "cell_type": "raw",
   "id": "b7f50188-3bbc-4857-908a-31927ef598aa",
   "metadata": {},
   "source": [
    "pv.set_jupyter_backend('trame')"
   ]
  },
  {
   "cell_type": "raw",
   "id": "ba4ce237-4672-4c6f-babf-03f2d5c55f99",
   "metadata": {
    "tags": []
   },
   "source": [
    "plotter = pv.Plotter()\n",
    "plotter.add_mesh(grid, show_edges=True)\n",
    "plotter.view_xy()\n",
    "plotter.show()"
   ]
  },
  {
   "cell_type": "markdown",
   "id": "1dfaa802-dcb2-4bd9-a3d5-fa2fd5300ee9",
   "metadata": {},
   "source": [
    "## Create function space for trial and test functions"
   ]
  },
  {
   "cell_type": "code",
   "execution_count": 87,
   "id": "4e8c9dde-4136-4ef4-b646-eecba31cb44c",
   "metadata": {
    "tags": []
   },
   "outputs": [],
   "source": [
    "import dolfinx.fem as fem\n",
    "import ufl\n",
    "\n",
    "from petsc4py.PETSc import ScalarType\n",
    "\n",
    "V = fem.FunctionSpace(mesh, (\"CG\", 1))\n",
    "u = ufl.TrialFunction(V)\n",
    "v = ufl.TestFunction(V)"
   ]
  },
  {
   "cell_type": "markdown",
   "id": "eb6c6d4c-faad-485c-8188-2a1e049cd400",
   "metadata": {
    "tags": []
   },
   "source": [
    "## Set Neumann boundary conditions"
   ]
  },
  {
   "cell_type": "code",
   "execution_count": 88,
   "id": "38fb314e-db6d-4f4c-b5c5-c27ed7409ff9",
   "metadata": {
    "tags": []
   },
   "outputs": [],
   "source": [
    "import dolfinx"
   ]
  },
  {
   "cell_type": "code",
   "execution_count": 89,
   "id": "13a932c7-ea91-428e-8bfc-6252364744cc",
   "metadata": {
    "tags": []
   },
   "outputs": [],
   "source": [
    "left = lambda x: np.isclose(x[0], 0)\n",
    "right = lambda x: np.isclose(x[0], lx)\n",
    "top = lambda x: np.isclose(x[1], ey)"
   ]
  },
  {
   "cell_type": "code",
   "execution_count": 90,
   "id": "7a98653a-9903-4846-a96d-4b912a93749f",
   "metadata": {
    "tags": []
   },
   "outputs": [],
   "source": [
    "if direction == 'left-right':\n",
    "    bc1 = left\n",
    "    bc2 = right\n",
    "    bc3 = lambda x: np.logical_not(np.logical_or(left(x), right(x)))\n",
    "elif direction == 'left-top':\n",
    "    bc1 = left\n",
    "    bc2 = top\n",
    "    bc3 = lambda x: np.logical_not(np.logical_or(left(x), top(x)))\n",
    "elif direction == 'top-right':\n",
    "    bc1 = top\n",
    "    bc2 = right\n",
    "    bc3 = lambda x: np.logical_not(np.logical_or(top(x), right(x)))\n",
    "else:\n",
    "    raise ValueError(f'Invalid value for {direction=}')"
   ]
  },
  {
   "cell_type": "code",
   "execution_count": 91,
   "id": "ed4d67ae-751d-4c7d-b035-06d91ed31b0c",
   "metadata": {
    "tags": []
   },
   "outputs": [],
   "source": [
    "boundaries_x = [(1, bc1), (2, bc2), (3, bc3)]\n",
    "facet_indices, facet_markers = [], []\n",
    "fdim = mesh.topology.dim - 1\n",
    "for marker, locator in boundaries_x:\n",
    "    facets = dolfinx.mesh.locate_entities(mesh, fdim, locator)\n",
    "    facet_indices.append(facets)\n",
    "    facet_markers.append(np.full_like(facets, marker))\n",
    "facet_indices = np.hstack(facet_indices).astype(np.int32)\n",
    "facet_markers = np.hstack(facet_markers).astype(np.int32)\n",
    "sorted_facets = np.argsort(facet_indices)\n",
    "facet_tag = dolfinx.mesh.meshtags(mesh, fdim, facet_indices[sorted_facets], facet_markers[sorted_facets])"
   ]
  },
  {
   "cell_type": "code",
   "execution_count": 92,
   "id": "85b9623d-69b6-49b0-89ad-109fa6ab4f43",
   "metadata": {
    "tags": []
   },
   "outputs": [],
   "source": [
    "ds_new = ufl.Measure(\"ds\", domain=mesh, subdomain_data=facet_tag)"
   ]
  },
  {
   "cell_type": "code",
   "execution_count": 93,
   "id": "fd2d67a1-7f9e-437f-896c-49ded4cc5536",
   "metadata": {
    "tags": []
   },
   "outputs": [],
   "source": [
    "f = fem.Constant(mesh, ScalarType(0))\n",
    "nmbc_1 = fem.Constant(mesh, ScalarType(-1e12))\n",
    "nmbc_2 = fem.Constant(mesh, ScalarType(1e12))\n",
    "\n",
    "a = ufl.dot(ufl.grad(u), ufl.grad(v)) * ufl.dx\n",
    "L = f * v * ufl.dx - nmbc_1 * v * ds_new(1) - nmbc_2 * v * ds_new(2) - f * v * ds_new(3)"
   ]
  },
  {
   "cell_type": "code",
   "execution_count": 94,
   "id": "b94a993c-a669-4b24-aab9-412b064ff73c",
   "metadata": {
    "tags": []
   },
   "outputs": [],
   "source": [
    "problem = fem.petsc.LinearProblem(a, L)\n",
    "v_field = problem.solve()"
   ]
  },
  {
   "cell_type": "markdown",
   "id": "411fe10a-bb05-4290-b4ae-6a8ea7502b71",
   "metadata": {},
   "source": [
    "### Solve for j"
   ]
  },
  {
   "cell_type": "code",
   "execution_count": 95,
   "id": "c818dc91-56db-4760-b8fc-fd24988d01bf",
   "metadata": {
    "tags": []
   },
   "outputs": [],
   "source": [
    "W_new = fem.VectorFunctionSpace(mesh=mesh, dim=3, element=(\"CG\", 1))\n",
    "u_new = ufl.TrialFunction(W_new)\n",
    "v_new = ufl.TestFunction(W_new)\n",
    "\n",
    "LHS = ufl.dot(u_new, v_new) * ufl.dx\n",
    "RHS = ufl.dot(-ufl.grad(v_field), v_new) * ufl.dx"
   ]
  },
  {
   "cell_type": "code",
   "execution_count": 96,
   "id": "f07766b1-7988-481d-a191-0e6950c8f141",
   "metadata": {
    "tags": []
   },
   "outputs": [],
   "source": [
    "problem_new = fem.petsc.LinearProblem(LHS, RHS)\n",
    "j_new = problem_new.solve()"
   ]
  },
  {
   "cell_type": "code",
   "execution_count": 97,
   "id": "3517963c-7d74-452e-a799-0b81aec34ec7",
   "metadata": {
    "tags": []
   },
   "outputs": [],
   "source": [
    "grid.point_data[\"j\"] = j_new.x.array.reshape((-1, 3))"
   ]
  },
  {
   "cell_type": "raw",
   "id": "103a1aab-5af5-4bf5-9d3f-5be754ffebe7",
   "metadata": {
    "tags": []
   },
   "source": [
    "plotter = pv.Plotter()\n",
    "plotter.add_mesh(grid)\n",
    "plotter.view_xy()\n",
    "plotter.show()"
   ]
  },
  {
   "cell_type": "markdown",
   "id": "a71176eb-3b00-4587-b582-8a4cd0e97aa3",
   "metadata": {},
   "source": [
    "### Ouput `j_new`"
   ]
  },
  {
   "cell_type": "code",
   "execution_count": 98,
   "id": "ebb39cba-801c-4d11-9106-77e74cbe3ca8",
   "metadata": {
    "tags": []
   },
   "outputs": [],
   "source": [
    "import dolfinx"
   ]
  },
  {
   "cell_type": "code",
   "execution_count": 99,
   "id": "13413c39-eb26-4e47-a19c-d6261d6e2897",
   "metadata": {
    "tags": []
   },
   "outputs": [
    {
     "data": {
      "text/plain": [
       "(240, 120, 12)"
      ]
     },
     "execution_count": 99,
     "metadata": {},
     "output_type": "execute_result"
    }
   ],
   "source": [
    "n = (round(lx / 2.5), round((ey) / 2.5), round(lz / 2.5))\n",
    "n"
   ]
  },
  {
   "cell_type": "code",
   "execution_count": 100,
   "id": "572bff3c-e80c-4608-9d81-c81007126331",
   "metadata": {
    "tags": []
   },
   "outputs": [],
   "source": [
    "drmesh = dolfinx.mesh.create_box(mesh_comm, points=((0, 0, 0), (lx, ey, lz)), n=n, cell_type=dolfinx.mesh.CellType.hexahedron)"
   ]
  },
  {
   "cell_type": "code",
   "execution_count": 101,
   "id": "f779abef-a896-43f8-8726-1f4f68b387ea",
   "metadata": {
    "tags": []
   },
   "outputs": [],
   "source": [
    "W_dg = fem.VectorFunctionSpace(mesh=drmesh, dim=3, element=(\"DG\", 0))\n",
    "function = dolfinx.fem.Function(W_dg)\n",
    "function.interpolate(j_new)"
   ]
  },
  {
   "cell_type": "code",
   "execution_count": 102,
   "id": "463c53ba-390c-4bdc-b736-5fb591e21b7d",
   "metadata": {
    "tags": []
   },
   "outputs": [],
   "source": [
    "drgrid = pv.UnstructuredGrid(*plot.create_vtk_mesh(drmesh, drmesh.topology.dim))"
   ]
  },
  {
   "cell_type": "raw",
   "id": "b9da3758-d9bb-484a-986e-b8ae0ba48704",
   "metadata": {
    "tags": []
   },
   "source": [
    "plotter = pv.Plotter()\n",
    "plotter.add_mesh(drgrid, show_edges=True)\n",
    "plotter.view_xy()\n",
    "plotter.show()"
   ]
  },
  {
   "cell_type": "code",
   "execution_count": 103,
   "id": "464b20ef-aaa2-4580-8b20-089492a5a9a4",
   "metadata": {
    "tags": []
   },
   "outputs": [],
   "source": [
    "drgrid['j'] = function.x.array.reshape((-1, 3))"
   ]
  },
  {
   "cell_type": "raw",
   "id": "debb2161-811e-4014-8589-2abe6b4a86b5",
   "metadata": {
    "tags": []
   },
   "source": [
    "plotter = pv.Plotter()\n",
    "plotter.add_mesh(drgrid)\n",
    "plotter.view_xy()\n",
    "plotter.show()"
   ]
  },
  {
   "cell_type": "markdown",
   "id": "e6c0e2df-37d9-469f-8ca2-f2a711a400b8",
   "metadata": {},
   "source": [
    "---"
   ]
  },
  {
   "cell_type": "code",
   "execution_count": 104,
   "id": "81f78ee5-8306-4e92-b13b-3b1775f5001c",
   "metadata": {
    "tags": []
   },
   "outputs": [],
   "source": [
    "import discretisedfield as df"
   ]
  },
  {
   "cell_type": "code",
   "execution_count": 105,
   "id": "24e2fadc-6a4c-40b5-8974-776b9ff9a9fa",
   "metadata": {
    "tags": []
   },
   "outputs": [],
   "source": [
    "fmesh = df.Mesh(p1=(0, 0, 0), p2=(lx, ey, lz), n=n)"
   ]
  },
  {
   "cell_type": "code",
   "execution_count": 106,
   "id": "945a61e2-2fbc-4054-b817-b5b3d29e3969",
   "metadata": {
    "tags": []
   },
   "outputs": [],
   "source": [
    "rgrid = pv.RectilinearGrid(fmesh.points.x, fmesh.points.y, fmesh.points.z)"
   ]
  },
  {
   "cell_type": "code",
   "execution_count": 107,
   "id": "dec7aed5-e9d7-415f-a07a-dd19fc725c07",
   "metadata": {
    "tags": []
   },
   "outputs": [],
   "source": [
    "j_field = df.Field(fmesh, nvdim=3, value=rgrid.sample(drgrid)['j'].reshape((*reversed(n), 3)).swapaxes(0, 2), valid='norm')"
   ]
  },
  {
   "cell_type": "code",
   "execution_count": 108,
   "id": "7797ea31-cbac-408f-841e-b6d725b21fd8",
   "metadata": {
    "tags": []
   },
   "outputs": [
    {
     "data": {
      "image/png": "[encoded data removed]",
      "text/plain": [
       "<Figure size 800x600 with 2 Axes>"
      ]
     },
     "metadata": {},
     "output_type": "display_data"
    }
   ],
   "source": [
    "j_field.sel('z').resample((40, 20)).mpl.vector()"
   ]
  },
  {
   "cell_type": "code",
   "execution_count": 109,
   "id": "eb68a040-8bdb-4e57-a469-fa613cf3a3eb",
   "metadata": {
    "tags": []
   },
   "outputs": [],
   "source": [
    "import matplotlib.pyplot as plt"
   ]
  },
  {
   "cell_type": "code",
   "execution_count": 110,
   "id": "9e8f9af1-c644-4b92-992b-0fcb54713e10",
   "metadata": {
    "tags": []
   },
   "outputs": [
    {
     "data": {
      "image/png": "[encoded data removed]",
      "text/plain": [
       "<Figure size 800x600 with 2 Axes>"
      ]
     },
     "metadata": {},
     "output_type": "display_data"
    }
   ],
   "source": [
    "fig, ax = plt.subplots()\n",
    "j_field.sel('z').norm.mpl(ax=ax, scalar_kw=dict(colorbar=False))\n",
    "\n",
    "j_field.sel('z').norm.mpl.contour(filter_field=j_field.sel('z').norm, ax=ax, cmap='magma', levels=[0.2e12, .9e12, 1.1e12, 1.3e12, 1.8e12])"
   ]
  },
  {
   "cell_type": "code",
   "execution_count": 111,
   "id": "e7e691f7-cd8d-436b-ae01-972396fd8338",
   "metadata": {
    "tags": []
   },
   "outputs": [],
   "source": [
    "j_field.to_file(f'current-{direction}.omf')"
   ]
  }
 ],
 "metadata": {
  "kernelspec": {
   "display_name": "Python 3 (ipykernel)",
   "language": "python",
   "name": "python3"
  },
  "language_info": {
   "codemirror_mode": {
    "name": "ipython",
    "version": 3
   },
   "file_extension": ".py",
   "mimetype": "text/x-python",
   "name": "python",
   "nbconvert_exporter": "python",
   "pygments_lexer": "ipython3",
   "version": "3.10.12"
  }
 },
 "nbformat": 4,
 "nbformat_minor": 5
}
